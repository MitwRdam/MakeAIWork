{
 "cells": [
  {
   "cell_type": "code",
   "execution_count": 15,
   "id": "fb0edb38-4579-4461-92ff-df0685d94638",
   "metadata": {},
   "outputs": [],
   "source": [
    "#!/usr/bin/env python\n"
   ]
  },
  {
   "cell_type": "code",
   "execution_count": 16,
   "id": "3a801bb8-d56c-4afd-9202-8789a22b446b",
   "metadata": {},
   "outputs": [],
   "source": [
    "import pandas as pd\n",
    "# print(pd.__version__)\n",
    "import numpy as np\n",
    "\n",
    "# ke numpy values easier to read.\n",
    "np.set_printoptions(precision=3, suppress=True)\n",
    "\n",
    "import tensorflow as tf\n",
    "keras = tf.keras\n",
    "\n",
    "from tensorflow.keras.models import Model"
   ]
  },
  {
   "cell_type": "code",
   "execution_count": 17,
   "id": "0eb55e30-3900-4d93-9794-0aa61aead802",
   "metadata": {},
   "outputs": [],
   "source": [
    "sonar_data = pd.read_csv(\n",
    "    \"C:/Users/kcvan/MakeAIWork/KEVINPROJECT1/CSVfiles/01_S_280922 - 01_S_280922.csv\",\n",
    "    names=[\"Sonar1\", \"Sonar2\", \"Sonar3\", \"SteeringAngle\"])\n",
    "\n",
    "#sonar_data.head()  "
   ]
  },
  {
   "cell_type": "code",
   "execution_count": 18,
   "id": "1d2b4e85-fbdf-44de-b40f-99a247d39759",
   "metadata": {},
   "outputs": [],
   "source": [
    "# print(sonar_data)"
   ]
  },
  {
   "cell_type": "code",
   "execution_count": 19,
   "id": "40fadfff-5c9a-45ec-b87e-ae68b612d421",
   "metadata": {},
   "outputs": [],
   "source": [
    "sonar_sensors = sonar_data.copy()\n",
    "sonar_angle = sonar_sensors.pop('SteeringAngle')\n",
    "#sonar_sensors.head()"
   ]
  },
  {
   "cell_type": "code",
   "execution_count": 20,
   "id": "2a327ef0-6fb5-43ca-a3e1-e8f70d8d2d11",
   "metadata": {},
   "outputs": [],
   "source": [
    "#print(sonar_angle)"
   ]
  },
  {
   "cell_type": "code",
   "execution_count": 21,
   "id": "05f2fa53-767f-4428-8118-316e29522113",
   "metadata": {},
   "outputs": [],
   "source": [
    "#sonar_angle.head()"
   ]
  },
  {
   "cell_type": "code",
   "execution_count": 22,
   "id": "dbc9c2a5-fc4a-4295-a691-bd44f4c1261b",
   "metadata": {},
   "outputs": [
    {
     "data": {
      "text/plain": [
       "array([[1.451, 1.271, 1.766],\n",
       "       [1.452, 1.272, 1.767],\n",
       "       [1.451, 1.27 , 1.766],\n",
       "       ...,\n",
       "       [1.983, 1.74 , 1.353],\n",
       "       [1.983, 1.74 , 1.353],\n",
       "       [1.983, 1.74 , 1.353]])"
      ]
     },
     "execution_count": 22,
     "metadata": {},
     "output_type": "execute_result"
    }
   ],
   "source": [
    "sonar_sensors = np.array(sonar_sensors)\n",
    "sonar_sensors"
   ]
  },
  {
   "cell_type": "code",
   "execution_count": 23,
   "id": "ef72fd36-1a3b-478d-9823-151066a24669",
   "metadata": {},
   "outputs": [],
   "source": [
    "normalize = keras.layers.Normalization()\n",
    "normalize.adapt(sonar_sensors)"
   ]
  },
  {
   "cell_type": "code",
   "execution_count": 24,
   "id": "839a7df2-c8dc-4705-9d71-5fc41e7c8e27",
   "metadata": {},
   "outputs": [],
   "source": [
    "norm_sonar_model_01 = tf.keras.Sequential([\n",
    "    normalize,\n",
    "  keras.Input(shape=(3,)),\n",
    "  keras.layers.Dense(256, activation='relu', name=\"layer1\"),\n",
    "  keras.layers.Dense(128, activation='relu', name=\"layer2\"),\n",
    "  keras.layers.Dense(64, activation='relu', name=\"layer3\"),\n",
    "  keras.layers.Dense(1)\n",
    "])\n",
    "\n",
    "norm_sonar_model_01.compile(loss = tf.keras.losses.MeanSquaredError(), metrics = ['accuracy'],\n",
    "                      optimizer = tf.keras.optimizers.Adam(learning_rate=0.01))"
   ]
  },
  {
   "cell_type": "code",
   "execution_count": 25,
   "id": "eebed64f-bed2-4d0c-b34d-406e226f2894",
   "metadata": {},
   "outputs": [
    {
     "name": "stdout",
     "output_type": "stream",
     "text": [
      "Epoch 1/15\n",
      "157/157 [==============================] - 1s 2ms/step - loss: 34.5629 - accuracy: 0.6012\n",
      "Epoch 2/15\n",
      "157/157 [==============================] - 0s 2ms/step - loss: 8.9713 - accuracy: 0.7311\n",
      "Epoch 3/15\n",
      "157/157 [==============================] - 0s 2ms/step - loss: 7.6705 - accuracy: 0.7333\n",
      "Epoch 4/15\n",
      "157/157 [==============================] - 0s 2ms/step - loss: 5.7696 - accuracy: 0.7576\n",
      "Epoch 5/15\n",
      "157/157 [==============================] - 0s 2ms/step - loss: 4.0488 - accuracy: 0.7570\n",
      "Epoch 6/15\n",
      "157/157 [==============================] - 0s 2ms/step - loss: 6.6283 - accuracy: 0.7489\n",
      "Epoch 7/15\n",
      "157/157 [==============================] - 0s 2ms/step - loss: 4.6597 - accuracy: 0.7560\n",
      "Epoch 8/15\n",
      "157/157 [==============================] - 0s 2ms/step - loss: 3.9064 - accuracy: 0.7590\n",
      "Epoch 9/15\n",
      "157/157 [==============================] - 0s 2ms/step - loss: 3.7362 - accuracy: 0.7572\n",
      "Epoch 10/15\n",
      "157/157 [==============================] - 0s 2ms/step - loss: 5.2944 - accuracy: 0.7407\n",
      "Epoch 11/15\n",
      "157/157 [==============================] - 0s 2ms/step - loss: 4.1378 - accuracy: 0.7546\n",
      "Epoch 12/15\n",
      "157/157 [==============================] - 0s 2ms/step - loss: 4.9081 - accuracy: 0.7548\n",
      "Epoch 13/15\n",
      "157/157 [==============================] - 0s 2ms/step - loss: 3.8064 - accuracy: 0.7582\n",
      "Epoch 14/15\n",
      "157/157 [==============================] - 0s 2ms/step - loss: 3.2076 - accuracy: 0.7602\n",
      "Epoch 15/15\n",
      "157/157 [==============================] - 0s 2ms/step - loss: 3.6547 - accuracy: 0.7610\n"
     ]
    },
    {
     "data": {
      "text/plain": [
       "<keras.callbacks.History at 0x22d895a99c0>"
      ]
     },
     "execution_count": 25,
     "metadata": {},
     "output_type": "execute_result"
    }
   ],
   "source": [
    "norm_sonar_model_01.fit(sonar_sensors, sonar_angle, epochs=15)"
   ]
  },
  {
   "cell_type": "code",
   "execution_count": 26,
   "id": "5a517549-a966-4094-9c7a-467c498d2d27",
   "metadata": {},
   "outputs": [],
   "source": [
    "#norm_sonar_model_01.save('norm_sonar_model_01')"
   ]
  },
  {
   "cell_type": "code",
   "execution_count": 27,
   "id": "c9099563-c5d2-4abf-ab56-0b789eea11f4",
   "metadata": {},
   "outputs": [
    {
     "data": {
      "text/plain": [
       "array([[1.458, 1.277, 1.77 ],\n",
       "       [1.458, 1.277, 1.77 ],\n",
       "       [1.458, 1.277, 1.77 ],\n",
       "       ...,\n",
       "       [1.782, 1.706, 1.16 ],\n",
       "       [1.782, 1.706, 1.16 ],\n",
       "       [1.782, 1.706, 1.16 ]])"
      ]
     },
     "execution_count": 27,
     "metadata": {},
     "output_type": "execute_result"
    }
   ],
   "source": [
    "val_sonar_data = pd.read_csv(\n",
    "    \"C:/Users/kcvan/MakeAIWork/KEVINPROJECT1/CSVfiles/validation_sonar_01.csv\",\n",
    "    names=[\"Sonar1\", \"Sonar2\", \"Sonar3\", \"SteeringAngle\"])\n",
    "\n",
    "val_sonar_sensors = val_sonar_data.copy()\n",
    "val_sonar_angle = val_sonar_sensors.pop('SteeringAngle')\n",
    "\n",
    "val_sonar_sensors = np.array(val_sonar_sensors)\n",
    "val_sonar_sensors"
   ]
  },
  {
   "cell_type": "code",
   "execution_count": 28,
   "id": "ba07a1cb-f186-40b1-a05f-47b02f305f79",
   "metadata": {},
   "outputs": [
    {
     "name": "stdout",
     "output_type": "stream",
     "text": [
      "35/35 - 0s - loss: 2.1288 - accuracy: 0.7649 - 247ms/epoch - 7ms/step\n"
     ]
    },
    {
     "data": {
      "text/plain": [
       "[2.128823757171631, 0.7649219632148743]"
      ]
     },
     "execution_count": 28,
     "metadata": {},
     "output_type": "execute_result"
    }
   ],
   "source": [
    "norm_sonar_model_01.evaluate(val_sonar_sensors,  val_sonar_angle, verbose=2)"
   ]
  }
 ],
 "metadata": {
  "kernelspec": {
   "display_name": "Python 3 (ipykernel)",
   "language": "python",
   "name": "python3"
  },
  "language_info": {
   "codemirror_mode": {
    "name": "ipython",
    "version": 3
   },
   "file_extension": ".py",
   "mimetype": "text/x-python",
   "name": "python",
   "nbconvert_exporter": "python",
   "pygments_lexer": "ipython3",
   "version": "3.10.7"
  },
  "vscode": {
   "interpreter": {
    "hash": "ab828684c0feb6164bb1a244d8aa75e5f84196adb3bf89a711a3dd5fd476bbea"
   }
  }
 },
 "nbformat": 4,
 "nbformat_minor": 5
}
