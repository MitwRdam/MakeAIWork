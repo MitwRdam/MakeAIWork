{
 "cells": [
  {
   "cell_type": "code",
   "execution_count": 43,
   "metadata": {},
   "outputs": [],
   "source": [
    "\n",
    "import tensorflow as tf\n",
    "keras = tf.keras\n",
    "from keras import Model\n",
    "\n",
    "import pandas as pd\n",
    "import numpy as np\n",
    "\n",
    "# Make numpy values easier to read.\n",
    "np.set_printoptions(precision=4, suppress=True)"
   ]
  },
  {
   "cell_type": "code",
   "execution_count": 44,
   "metadata": {},
   "outputs": [],
   "source": [
    "filename = \"C:\\MakeAIWork\\simulations\\car\\control_client\\data_files\\sonar_kevin.csv\""
   ]
  },
  {
   "cell_type": "code",
   "execution_count": 45,
   "metadata": {},
   "outputs": [],
   "source": [
    "sonar_01_train = pd.read_csv(filename, sep = ',')"
   ]
  },
  {
   "cell_type": "code",
   "execution_count": 46,
   "metadata": {},
   "outputs": [
    {
     "data": {
      "text/html": [
       "<div>\n",
       "<style scoped>\n",
       "    .dataframe tbody tr th:only-of-type {\n",
       "        vertical-align: middle;\n",
       "    }\n",
       "\n",
       "    .dataframe tbody tr th {\n",
       "        vertical-align: top;\n",
       "    }\n",
       "\n",
       "    .dataframe thead th {\n",
       "        text-align: right;\n",
       "    }\n",
       "</style>\n",
       "<table border=\"1\" class=\"dataframe\">\n",
       "  <thead>\n",
       "    <tr style=\"text-align: right;\">\n",
       "      <th></th>\n",
       "      <th>1.4512</th>\n",
       "      <th>1.271</th>\n",
       "      <th>1.7665</th>\n",
       "      <th>-22</th>\n",
       "    </tr>\n",
       "  </thead>\n",
       "  <tbody>\n",
       "    <tr>\n",
       "      <th>0</th>\n",
       "      <td>1.4520</td>\n",
       "      <td>1.2716</td>\n",
       "      <td>1.7669</td>\n",
       "      <td>-22</td>\n",
       "    </tr>\n",
       "    <tr>\n",
       "      <th>1</th>\n",
       "      <td>1.4506</td>\n",
       "      <td>1.2705</td>\n",
       "      <td>1.7660</td>\n",
       "      <td>-22</td>\n",
       "    </tr>\n",
       "    <tr>\n",
       "      <th>2</th>\n",
       "      <td>1.4486</td>\n",
       "      <td>1.2688</td>\n",
       "      <td>1.7645</td>\n",
       "      <td>-22</td>\n",
       "    </tr>\n",
       "    <tr>\n",
       "      <th>3</th>\n",
       "      <td>1.4458</td>\n",
       "      <td>1.2666</td>\n",
       "      <td>1.7625</td>\n",
       "      <td>-22</td>\n",
       "    </tr>\n",
       "    <tr>\n",
       "      <th>4</th>\n",
       "      <td>1.4420</td>\n",
       "      <td>1.2635</td>\n",
       "      <td>1.7597</td>\n",
       "      <td>-22</td>\n",
       "    </tr>\n",
       "  </tbody>\n",
       "</table>\n",
       "</div>"
      ],
      "text/plain": [
       "   1.4512   1.271  1.7665  -22\n",
       "0  1.4520  1.2716  1.7669  -22\n",
       "1  1.4506  1.2705  1.7660  -22\n",
       "2  1.4486  1.2688  1.7645  -22\n",
       "3  1.4458  1.2666  1.7625  -22\n",
       "4  1.4420  1.2635  1.7597  -22"
      ]
     },
     "execution_count": 46,
     "metadata": {},
     "output_type": "execute_result"
    }
   ],
   "source": [
    "sonar_01_train.head()"
   ]
  },
  {
   "cell_type": "code",
   "execution_count": 47,
   "metadata": {},
   "outputs": [],
   "source": [
    "# sonar_01_sensors = sonar_01_train.copy()\n",
    "# sonar_01_labels = sonar_01_sensors.pop('Steering Angle')"
   ]
  },
  {
   "cell_type": "code",
   "execution_count": 48,
   "metadata": {},
   "outputs": [],
   "source": [
    "# sonar_01_sensors.head()"
   ]
  },
  {
   "cell_type": "code",
   "execution_count": 49,
   "metadata": {},
   "outputs": [],
   "source": [
    "# sonar_01_labels.head()"
   ]
  },
  {
   "cell_type": "markdown",
   "metadata": {},
   "source": [
    "De input (sensoren/afstanden) en output kunnen ook op een andere manier gescheiden \n",
    "opgehaald worden uit het DataFrame:"
   ]
  },
  {
   "cell_type": "code",
   "execution_count": 50,
   "metadata": {},
   "outputs": [],
   "source": [
    "sonar_01_labels = sonar_01_train.iloc[:, [3]]\n",
    "sonar_01_sensors = sonar_01_train.iloc[:,[0, 1, 2]] # met .loc kan je labels gebruiken 'Sensor 1' etc."
   ]
  },
  {
   "cell_type": "code",
   "execution_count": 51,
   "metadata": {},
   "outputs": [],
   "source": [
    "# sonar_01_labels.head()"
   ]
  },
  {
   "cell_type": "code",
   "execution_count": 52,
   "metadata": {},
   "outputs": [
    {
     "data": {
      "text/html": [
       "<div>\n",
       "<style scoped>\n",
       "    .dataframe tbody tr th:only-of-type {\n",
       "        vertical-align: middle;\n",
       "    }\n",
       "\n",
       "    .dataframe tbody tr th {\n",
       "        vertical-align: top;\n",
       "    }\n",
       "\n",
       "    .dataframe thead th {\n",
       "        text-align: right;\n",
       "    }\n",
       "</style>\n",
       "<table border=\"1\" class=\"dataframe\">\n",
       "  <thead>\n",
       "    <tr style=\"text-align: right;\">\n",
       "      <th></th>\n",
       "      <th>1.4512</th>\n",
       "      <th>1.271</th>\n",
       "      <th>1.7665</th>\n",
       "    </tr>\n",
       "  </thead>\n",
       "  <tbody>\n",
       "    <tr>\n",
       "      <th>0</th>\n",
       "      <td>1.4520</td>\n",
       "      <td>1.2716</td>\n",
       "      <td>1.7669</td>\n",
       "    </tr>\n",
       "    <tr>\n",
       "      <th>1</th>\n",
       "      <td>1.4506</td>\n",
       "      <td>1.2705</td>\n",
       "      <td>1.7660</td>\n",
       "    </tr>\n",
       "    <tr>\n",
       "      <th>2</th>\n",
       "      <td>1.4486</td>\n",
       "      <td>1.2688</td>\n",
       "      <td>1.7645</td>\n",
       "    </tr>\n",
       "    <tr>\n",
       "      <th>3</th>\n",
       "      <td>1.4458</td>\n",
       "      <td>1.2666</td>\n",
       "      <td>1.7625</td>\n",
       "    </tr>\n",
       "    <tr>\n",
       "      <th>4</th>\n",
       "      <td>1.4420</td>\n",
       "      <td>1.2635</td>\n",
       "      <td>1.7597</td>\n",
       "    </tr>\n",
       "  </tbody>\n",
       "</table>\n",
       "</div>"
      ],
      "text/plain": [
       "   1.4512   1.271  1.7665\n",
       "0  1.4520  1.2716  1.7669\n",
       "1  1.4506  1.2705  1.7660\n",
       "2  1.4486  1.2688  1.7645\n",
       "3  1.4458  1.2666  1.7625\n",
       "4  1.4420  1.2635  1.7597"
      ]
     },
     "execution_count": 52,
     "metadata": {},
     "output_type": "execute_result"
    }
   ],
   "source": [
    "sonar_01_sensors.head()"
   ]
  },
  {
   "cell_type": "code",
   "execution_count": 53,
   "metadata": {},
   "outputs": [],
   "source": [
    "sonar_01_sensors = np.array(sonar_01_sensors)"
   ]
  },
  {
   "cell_type": "code",
   "execution_count": 54,
   "metadata": {},
   "outputs": [
    {
     "name": "stdout",
     "output_type": "stream",
     "text": [
      "[[1.452  1.2716 1.7669]\n",
      " [1.4506 1.2705 1.766 ]\n",
      " [1.4486 1.2688 1.7645]\n",
      " ...\n",
      " [1.9834 1.74   1.3532]\n",
      " [1.9834 1.74   1.3532]\n",
      " [1.9834 1.74   1.3532]]\n"
     ]
    }
   ],
   "source": [
    "print(sonar_01_sensors)"
   ]
  },
  {
   "cell_type": "code",
   "execution_count": 55,
   "metadata": {},
   "outputs": [],
   "source": [
    "# tf.random.set_seed(1) Not working correctly/at all?"
   ]
  },
  {
   "cell_type": "markdown",
   "metadata": {},
   "source": [
    "Wanneer er een Normalizer gebruikt wordt, moet dit ook voor de auto gebruikt worden. \n",
    "\n",
    "Wellicht niet per se nodig, al geeft het wel een beter resultaat op de loss"
   ]
  },
  {
   "cell_type": "code",
   "execution_count": 56,
   "metadata": {},
   "outputs": [],
   "source": [
    "# normalize = keras.layers.Normalization()\n",
    "# normalize.adapt(sonar_01_sensors)\n",
    "\n",
    "# Anders: 'normalize,' toevoegen aan de lagen van onderstaand model"
   ]
  },
  {
   "cell_type": "code",
   "execution_count": 57,
   "metadata": {},
   "outputs": [],
   "source": [
    "norm_sonar_01_model = tf.keras.Sequential([\n",
    "  keras.Input(shape = (3,)),\n",
    "  keras.layers.Dense(8, activation = 'relu'), \n",
    "  keras.layers.Dense(8, activation = 'relu'),\n",
    "  keras.layers.Dense(1)\n",
    "])  "
   ]
  },
  {
   "cell_type": "code",
   "execution_count": 58,
   "metadata": {},
   "outputs": [],
   "source": [
    "norm_sonar_01_model.compile(loss = tf.keras.losses.MeanSquaredError(), metrics = ['accuracy'], \n",
    "                            optimizer = tf.keras.optimizers.Adam(learning_rate=0.01))"
   ]
  },
  {
   "cell_type": "markdown",
   "metadata": {},
   "source": [
    "Er kan ook nog een 'clipnorm = 1' aan de optimizer toegevoegd worden"
   ]
  },
  {
   "cell_type": "code",
   "execution_count": 59,
   "metadata": {},
   "outputs": [],
   "source": [
    "# norm_sonar_01_model.summary()"
   ]
  },
  {
   "cell_type": "code",
   "execution_count": 60,
   "metadata": {},
   "outputs": [
    {
     "name": "stdout",
     "output_type": "stream",
     "text": [
      "Epoch 1/100\n",
      "157/157 [==============================] - 1s 4ms/step - loss: 62.0537 - accuracy: 0.2239\n",
      "Epoch 2/100\n",
      "157/157 [==============================] - 1s 3ms/step - loss: 33.9725 - accuracy: 0.3827\n",
      "Epoch 3/100\n",
      "157/157 [==============================] - 0s 3ms/step - loss: 19.8804 - accuracy: 0.4539\n",
      "Epoch 4/100\n",
      "157/157 [==============================] - 0s 3ms/step - loss: 14.1322 - accuracy: 0.4980\n",
      "Epoch 5/100\n",
      "157/157 [==============================] - 1s 3ms/step - loss: 11.2201 - accuracy: 0.5457\n",
      "Epoch 6/100\n",
      "157/157 [==============================] - 1s 3ms/step - loss: 10.9956 - accuracy: 0.5198\n",
      "Epoch 7/100\n",
      "157/157 [==============================] - 1s 3ms/step - loss: 12.6459 - accuracy: 0.5020\n",
      "Epoch 8/100\n",
      "157/157 [==============================] - 1s 3ms/step - loss: 8.7106 - accuracy: 0.5937\n",
      "Epoch 9/100\n",
      "157/157 [==============================] - 1s 3ms/step - loss: 8.3303 - accuracy: 0.5651\n",
      "Epoch 10/100\n",
      "157/157 [==============================] - 1s 3ms/step - loss: 7.2673 - accuracy: 0.6081\n",
      "Epoch 11/100\n",
      "157/157 [==============================] - 1s 3ms/step - loss: 7.4626 - accuracy: 0.5717\n",
      "Epoch 12/100\n",
      "157/157 [==============================] - 1s 3ms/step - loss: 7.5514 - accuracy: 0.5308\n",
      "Epoch 13/100\n",
      "157/157 [==============================] - 1s 3ms/step - loss: 9.0799 - accuracy: 0.5062\n",
      "Epoch 14/100\n",
      "157/157 [==============================] - 0s 3ms/step - loss: 6.0558 - accuracy: 0.5905\n",
      "Epoch 15/100\n",
      "157/157 [==============================] - 1s 3ms/step - loss: 6.4286 - accuracy: 0.5991\n",
      "Epoch 16/100\n",
      "157/157 [==============================] - 1s 4ms/step - loss: 7.4176 - accuracy: 0.5517\n",
      "Epoch 17/100\n",
      "157/157 [==============================] - 1s 3ms/step - loss: 5.1299 - accuracy: 0.6145\n",
      "Epoch 18/100\n",
      "157/157 [==============================] - 1s 3ms/step - loss: 5.8385 - accuracy: 0.5463\n",
      "Epoch 19/100\n",
      "157/157 [==============================] - 1s 4ms/step - loss: 5.4717 - accuracy: 0.5276\n",
      "Epoch 20/100\n",
      "157/157 [==============================] - 1s 3ms/step - loss: 5.8763 - accuracy: 0.5637\n",
      "Epoch 21/100\n",
      "157/157 [==============================] - 1s 4ms/step - loss: 5.4084 - accuracy: 0.5767\n",
      "Epoch 22/100\n",
      "157/157 [==============================] - 1s 3ms/step - loss: 4.7374 - accuracy: 0.6021\n",
      "Epoch 23/100\n",
      "157/157 [==============================] - 1s 3ms/step - loss: 4.4559 - accuracy: 0.6183\n",
      "Epoch 24/100\n",
      "157/157 [==============================] - 0s 3ms/step - loss: 5.1878 - accuracy: 0.6211\n",
      "Epoch 25/100\n",
      "157/157 [==============================] - 1s 3ms/step - loss: 5.3589 - accuracy: 0.5847\n",
      "Epoch 26/100\n",
      "157/157 [==============================] - 1s 3ms/step - loss: 5.0569 - accuracy: 0.6123\n",
      "Epoch 27/100\n",
      "157/157 [==============================] - 1s 3ms/step - loss: 4.7611 - accuracy: 0.6420\n",
      "Epoch 28/100\n",
      "157/157 [==============================] - 1s 4ms/step - loss: 5.6019 - accuracy: 0.5883\n",
      "Epoch 29/100\n",
      "157/157 [==============================] - 1s 3ms/step - loss: 5.1977 - accuracy: 0.5793\n",
      "Epoch 30/100\n",
      "157/157 [==============================] - 1s 3ms/step - loss: 4.9260 - accuracy: 0.5907\n",
      "Epoch 31/100\n",
      "157/157 [==============================] - 1s 3ms/step - loss: 5.4408 - accuracy: 0.5949\n",
      "Epoch 32/100\n",
      "157/157 [==============================] - 1s 3ms/step - loss: 4.5661 - accuracy: 0.6666\n",
      "Epoch 33/100\n",
      "157/157 [==============================] - 1s 3ms/step - loss: 6.4024 - accuracy: 0.5258\n",
      "Epoch 34/100\n",
      "157/157 [==============================] - 1s 4ms/step - loss: 6.3887 - accuracy: 0.5811\n",
      "Epoch 35/100\n",
      "157/157 [==============================] - 1s 3ms/step - loss: 5.8326 - accuracy: 0.5733\n",
      "Epoch 36/100\n",
      "157/157 [==============================] - 1s 3ms/step - loss: 4.1817 - accuracy: 0.6468\n",
      "Epoch 37/100\n",
      "157/157 [==============================] - 1s 3ms/step - loss: 6.4876 - accuracy: 0.5617\n",
      "Epoch 38/100\n",
      "157/157 [==============================] - 1s 4ms/step - loss: 5.8871 - accuracy: 0.5521\n",
      "Epoch 39/100\n",
      "157/157 [==============================] - 1s 4ms/step - loss: 5.1326 - accuracy: 0.6664\n",
      "Epoch 40/100\n",
      "157/157 [==============================] - 1s 4ms/step - loss: 5.8704 - accuracy: 0.6147\n",
      "Epoch 41/100\n",
      "157/157 [==============================] - 1s 4ms/step - loss: 3.5475 - accuracy: 0.6730\n",
      "Epoch 42/100\n",
      "157/157 [==============================] - 1s 4ms/step - loss: 4.1841 - accuracy: 0.6472\n",
      "Epoch 43/100\n",
      "157/157 [==============================] - 1s 4ms/step - loss: 5.2293 - accuracy: 0.6015\n",
      "Epoch 44/100\n",
      "157/157 [==============================] - 1s 4ms/step - loss: 4.7275 - accuracy: 0.6282\n",
      "Epoch 45/100\n",
      "157/157 [==============================] - 1s 4ms/step - loss: 5.3642 - accuracy: 0.5801\n",
      "Epoch 46/100\n",
      "157/157 [==============================] - 1s 4ms/step - loss: 4.2578 - accuracy: 0.6360\n",
      "Epoch 47/100\n",
      "157/157 [==============================] - 1s 4ms/step - loss: 9.2946 - accuracy: 0.5330\n",
      "Epoch 48/100\n",
      "157/157 [==============================] - 1s 4ms/step - loss: 4.6309 - accuracy: 0.5651\n",
      "Epoch 49/100\n",
      "157/157 [==============================] - 1s 4ms/step - loss: 4.4172 - accuracy: 0.5871\n",
      "Epoch 50/100\n",
      "157/157 [==============================] - 1s 4ms/step - loss: 4.8280 - accuracy: 0.5597\n",
      "Epoch 51/100\n",
      "157/157 [==============================] - 1s 4ms/step - loss: 5.7483 - accuracy: 0.5557\n",
      "Epoch 52/100\n",
      "157/157 [==============================] - 1s 4ms/step - loss: 4.1732 - accuracy: 0.6482\n",
      "Epoch 53/100\n",
      "157/157 [==============================] - 1s 4ms/step - loss: 5.1028 - accuracy: 0.5589\n",
      "Epoch 54/100\n",
      "157/157 [==============================] - 1s 4ms/step - loss: 3.3812 - accuracy: 0.6866\n",
      "Epoch 55/100\n",
      "157/157 [==============================] - 1s 4ms/step - loss: 3.4849 - accuracy: 0.6892\n",
      "Epoch 56/100\n",
      "157/157 [==============================] - 1s 4ms/step - loss: 6.1421 - accuracy: 0.6310\n",
      "Epoch 57/100\n",
      "157/157 [==============================] - 1s 4ms/step - loss: 7.6863 - accuracy: 0.6508\n",
      "Epoch 58/100\n",
      "157/157 [==============================] - 1s 4ms/step - loss: 4.3852 - accuracy: 0.6426\n",
      "Epoch 59/100\n",
      "157/157 [==============================] - 1s 4ms/step - loss: 4.4449 - accuracy: 0.6378\n",
      "Epoch 60/100\n",
      "157/157 [==============================] - 1s 4ms/step - loss: 4.4488 - accuracy: 0.6546\n",
      "Epoch 61/100\n",
      "157/157 [==============================] - 1s 4ms/step - loss: 5.4928 - accuracy: 0.6187\n",
      "Epoch 62/100\n",
      "157/157 [==============================] - 1s 4ms/step - loss: 5.1349 - accuracy: 0.5929\n",
      "Epoch 63/100\n",
      "157/157 [==============================] - 1s 4ms/step - loss: 4.3908 - accuracy: 0.6193\n",
      "Epoch 64/100\n",
      "157/157 [==============================] - 1s 4ms/step - loss: 4.1279 - accuracy: 0.6476\n",
      "Epoch 65/100\n",
      "157/157 [==============================] - 1s 4ms/step - loss: 3.2244 - accuracy: 0.6954\n",
      "Epoch 66/100\n",
      "157/157 [==============================] - 1s 4ms/step - loss: 3.9428 - accuracy: 0.6774\n",
      "Epoch 67/100\n",
      "157/157 [==============================] - 1s 4ms/step - loss: 6.6016 - accuracy: 0.5569\n",
      "Epoch 68/100\n",
      "157/157 [==============================] - 1s 4ms/step - loss: 4.2931 - accuracy: 0.6444\n",
      "Epoch 69/100\n",
      "157/157 [==============================] - 1s 4ms/step - loss: 6.3532 - accuracy: 0.6215\n",
      "Epoch 70/100\n",
      "157/157 [==============================] - 1s 4ms/step - loss: 4.0103 - accuracy: 0.6888\n",
      "Epoch 71/100\n",
      "157/157 [==============================] - 1s 4ms/step - loss: 2.7956 - accuracy: 0.7255\n",
      "Epoch 72/100\n",
      "157/157 [==============================] - 1s 4ms/step - loss: 3.5437 - accuracy: 0.7147\n",
      "Epoch 73/100\n",
      "157/157 [==============================] - 1s 4ms/step - loss: 3.7608 - accuracy: 0.6666\n",
      "Epoch 74/100\n",
      "157/157 [==============================] - 1s 3ms/step - loss: 3.8108 - accuracy: 0.6824\n",
      "Epoch 75/100\n",
      "157/157 [==============================] - 1s 3ms/step - loss: 4.0177 - accuracy: 0.6566\n",
      "Epoch 76/100\n",
      "157/157 [==============================] - 1s 3ms/step - loss: 3.6312 - accuracy: 0.7022\n",
      "Epoch 77/100\n",
      "157/157 [==============================] - 1s 4ms/step - loss: 4.1428 - accuracy: 0.6986\n",
      "Epoch 78/100\n",
      "157/157 [==============================] - 1s 3ms/step - loss: 4.1145 - accuracy: 0.7026\n",
      "Epoch 79/100\n",
      "157/157 [==============================] - 1s 3ms/step - loss: 7.4353 - accuracy: 0.6247\n",
      "Epoch 80/100\n",
      "157/157 [==============================] - 1s 3ms/step - loss: 3.9149 - accuracy: 0.7004\n",
      "Epoch 81/100\n",
      "157/157 [==============================] - 1s 3ms/step - loss: 5.0018 - accuracy: 0.6838\n",
      "Epoch 82/100\n",
      "157/157 [==============================] - 1s 4ms/step - loss: 4.2246 - accuracy: 0.6890\n",
      "Epoch 83/100\n",
      "157/157 [==============================] - 1s 3ms/step - loss: 5.4552 - accuracy: 0.6378\n",
      "Epoch 84/100\n",
      "157/157 [==============================] - 1s 3ms/step - loss: 5.6863 - accuracy: 0.5929\n",
      "Epoch 85/100\n",
      "157/157 [==============================] - 1s 3ms/step - loss: 4.6082 - accuracy: 0.6590\n",
      "Epoch 86/100\n",
      "157/157 [==============================] - 1s 4ms/step - loss: 3.5988 - accuracy: 0.6942\n",
      "Epoch 87/100\n",
      "157/157 [==============================] - 1s 3ms/step - loss: 3.0351 - accuracy: 0.7099\n",
      "Epoch 88/100\n",
      "157/157 [==============================] - 1s 4ms/step - loss: 3.1699 - accuracy: 0.7221\n",
      "Epoch 89/100\n",
      "157/157 [==============================] - 1s 3ms/step - loss: 3.0108 - accuracy: 0.7425\n",
      "Epoch 90/100\n",
      "157/157 [==============================] - 1s 3ms/step - loss: 3.6332 - accuracy: 0.7026\n",
      "Epoch 91/100\n",
      "157/157 [==============================] - 1s 4ms/step - loss: 4.6842 - accuracy: 0.6386\n",
      "Epoch 92/100\n",
      "157/157 [==============================] - 1s 3ms/step - loss: 3.8599 - accuracy: 0.6738\n",
      "Epoch 93/100\n",
      "157/157 [==============================] - 1s 3ms/step - loss: 3.0596 - accuracy: 0.6924\n",
      "Epoch 94/100\n",
      "157/157 [==============================] - 1s 3ms/step - loss: 3.5532 - accuracy: 0.7177\n",
      "Epoch 95/100\n",
      "157/157 [==============================] - 1s 3ms/step - loss: 4.0771 - accuracy: 0.6494\n",
      "Epoch 96/100\n",
      "157/157 [==============================] - 1s 4ms/step - loss: 3.5848 - accuracy: 0.6754\n",
      "Epoch 97/100\n",
      "157/157 [==============================] - 1s 3ms/step - loss: 3.3047 - accuracy: 0.7145\n",
      "Epoch 98/100\n",
      "157/157 [==============================] - 1s 3ms/step - loss: 4.5038 - accuracy: 0.6276\n",
      "Epoch 99/100\n",
      "157/157 [==============================] - 1s 4ms/step - loss: 5.6549 - accuracy: 0.5797\n",
      "Epoch 100/100\n",
      "157/157 [==============================] - 1s 3ms/step - loss: 4.1689 - accuracy: 0.6394\n"
     ]
    },
    {
     "data": {
      "text/plain": [
       "<keras.callbacks.History at 0x2ac45852350>"
      ]
     },
     "execution_count": 60,
     "metadata": {},
     "output_type": "execute_result"
    }
   ],
   "source": [
    "norm_sonar_01_model.fit(sonar_01_sensors, sonar_01_labels, epochs=100) # Check"
   ]
  },
  {
   "cell_type": "code",
   "execution_count": 61,
   "metadata": {},
   "outputs": [
    {
     "name": "stdout",
     "output_type": "stream",
     "text": [
      "INFO:tensorflow:Assets written to: norm_sonar_01_model\\assets\n"
     ]
    }
   ],
   "source": [
    "norm_sonar_01_model.save('norm_sonar_01_model')"
   ]
  },
  {
   "cell_type": "code",
   "execution_count": 62,
   "metadata": {},
   "outputs": [],
   "source": [
    "# tf.keras.Sequential.save(\"C:\\MakeAIWork\\simulations\\car\\control_client\", norm_sonar_01_model)"
   ]
  },
  {
   "cell_type": "markdown",
   "metadata": {},
   "source": [
    "We can load the model which was saved using the load_model() method present in the tensorflow module.\n",
    "\n",
    "Syntax: tensorflow.keras.models.load_model(location/model_name)\n",
    "\n",
    "The location along with the model name is passed as a parameter in this method.\n",
    "\n",
    "NOTE: If we specify “.h5”, the model will be saved in hdf5 format; if no extension is specified, the model will be saved in TensorFlow native format."
   ]
  },
  {
   "cell_type": "code",
   "execution_count": 63,
   "metadata": {},
   "outputs": [],
   "source": [
    "# norm_sonar_01_model.evaluate()"
   ]
  },
  {
   "cell_type": "markdown",
   "metadata": {},
   "source": [
    "- Training en Test (& Validatie?) aanmaken?\n",
    "- Hoe data opslaan en exporteren? Check\n",
    "- Accuracy? - Done\n",
    "- Model prediction! model.predict inputs + real values (array?)"
   ]
  },
  {
   "cell_type": "markdown",
   "metadata": {},
   "source": [
    "https://www.tensorflow.org/guide/keras/save_and_serialize"
   ]
  }
 ],
 "metadata": {
  "kernelspec": {
   "display_name": "Python 3.10.7 64-bit",
   "language": "python",
   "name": "python3"
  },
  "language_info": {
   "codemirror_mode": {
    "name": "ipython",
    "version": 3
   },
   "file_extension": ".py",
   "mimetype": "text/x-python",
   "name": "python",
   "nbconvert_exporter": "python",
   "pygments_lexer": "ipython3",
   "version": "3.10.7"
  },
  "orig_nbformat": 4,
  "vscode": {
   "interpreter": {
    "hash": "5b93afe9c2e217d44e354b055ed180e932b72842f9b6422dadc1ad80da9caf67"
   }
  }
 },
 "nbformat": 4,
 "nbformat_minor": 2
}
