{
 "cells": [
  {
   "cell_type": "code",
   "execution_count": 1,
   "metadata": {},
   "outputs": [],
   "source": [
    "\n",
    "import tensorflow as tf\n",
    "keras = tf.keras\n",
    "from keras import Model\n",
    "\n",
    "import pandas as pd\n",
    "import numpy as np\n",
    "\n",
    "# Make numpy values easier to read.\n",
    "np.set_printoptions(precision=1, suppress=True)"
   ]
  },
  {
   "cell_type": "code",
   "execution_count": 2,
   "metadata": {},
   "outputs": [],
   "source": [
    "filename = \"../lidar_second_try.csv\""
   ]
  },
  {
   "cell_type": "code",
   "execution_count": 3,
   "metadata": {},
   "outputs": [],
   "source": [
    "lidar_01_train = pd.read_csv(filename, sep = ',')"
   ]
  },
  {
   "cell_type": "code",
   "execution_count": 4,
   "metadata": {},
   "outputs": [
    {
     "data": {
      "text/html": [
       "<div>\n",
       "<style scoped>\n",
       "    .dataframe tbody tr th:only-of-type {\n",
       "        vertical-align: middle;\n",
       "    }\n",
       "\n",
       "    .dataframe tbody tr th {\n",
       "        vertical-align: top;\n",
       "    }\n",
       "\n",
       "    .dataframe thead th {\n",
       "        text-align: right;\n",
       "    }\n",
       "</style>\n",
       "<table border=\"1\" class=\"dataframe\">\n",
       "  <thead>\n",
       "    <tr style=\"text-align: right;\">\n",
       "      <th></th>\n",
       "      <th>Sensor 1</th>\n",
       "      <th>Sensor 2</th>\n",
       "      <th>Sensor 3</th>\n",
       "      <th>Sensor 4</th>\n",
       "      <th>Sensor 5</th>\n",
       "      <th>Sensor 6</th>\n",
       "      <th>Sensor 7</th>\n",
       "      <th>Sensor 8</th>\n",
       "      <th>Sensor 9</th>\n",
       "      <th>Sensor 10</th>\n",
       "      <th>Sensor 11</th>\n",
       "      <th>Sensor 12</th>\n",
       "      <th>Sensor 13</th>\n",
       "      <th>Sensor 14</th>\n",
       "      <th>Sensor 15</th>\n",
       "      <th>Sensor 16</th>\n",
       "      <th>Steering Angle</th>\n",
       "    </tr>\n",
       "  </thead>\n",
       "  <tbody>\n",
       "    <tr>\n",
       "      <th>0</th>\n",
       "      <td>20.0</td>\n",
       "      <td>1.6410</td>\n",
       "      <td>20.0</td>\n",
       "      <td>3.4985</td>\n",
       "      <td>6.9423</td>\n",
       "      <td>5.4010</td>\n",
       "      <td>1.4013</td>\n",
       "      <td>6.4885</td>\n",
       "      <td>20.0</td>\n",
       "      <td>20.0</td>\n",
       "      <td>20.0</td>\n",
       "      <td>20.0</td>\n",
       "      <td>20.0</td>\n",
       "      <td>20.0</td>\n",
       "      <td>20.0</td>\n",
       "      <td>20.0</td>\n",
       "      <td>27.0</td>\n",
       "    </tr>\n",
       "    <tr>\n",
       "      <th>1</th>\n",
       "      <td>20.0</td>\n",
       "      <td>1.6418</td>\n",
       "      <td>20.0</td>\n",
       "      <td>3.4992</td>\n",
       "      <td>6.9430</td>\n",
       "      <td>5.4017</td>\n",
       "      <td>1.4018</td>\n",
       "      <td>6.4890</td>\n",
       "      <td>20.0</td>\n",
       "      <td>20.0</td>\n",
       "      <td>20.0</td>\n",
       "      <td>20.0</td>\n",
       "      <td>20.0</td>\n",
       "      <td>20.0</td>\n",
       "      <td>20.0</td>\n",
       "      <td>20.0</td>\n",
       "      <td>27.0</td>\n",
       "    </tr>\n",
       "    <tr>\n",
       "      <th>2</th>\n",
       "      <td>20.0</td>\n",
       "      <td>1.6417</td>\n",
       "      <td>20.0</td>\n",
       "      <td>3.4991</td>\n",
       "      <td>6.9429</td>\n",
       "      <td>5.4016</td>\n",
       "      <td>1.4018</td>\n",
       "      <td>6.4890</td>\n",
       "      <td>20.0</td>\n",
       "      <td>20.0</td>\n",
       "      <td>20.0</td>\n",
       "      <td>20.0</td>\n",
       "      <td>20.0</td>\n",
       "      <td>20.0</td>\n",
       "      <td>20.0</td>\n",
       "      <td>20.0</td>\n",
       "      <td>27.0</td>\n",
       "    </tr>\n",
       "    <tr>\n",
       "      <th>3</th>\n",
       "      <td>20.0</td>\n",
       "      <td>1.6425</td>\n",
       "      <td>20.0</td>\n",
       "      <td>3.4999</td>\n",
       "      <td>6.9437</td>\n",
       "      <td>5.4024</td>\n",
       "      <td>1.4025</td>\n",
       "      <td>6.4896</td>\n",
       "      <td>20.0</td>\n",
       "      <td>20.0</td>\n",
       "      <td>20.0</td>\n",
       "      <td>20.0</td>\n",
       "      <td>20.0</td>\n",
       "      <td>20.0</td>\n",
       "      <td>20.0</td>\n",
       "      <td>20.0</td>\n",
       "      <td>27.0</td>\n",
       "    </tr>\n",
       "    <tr>\n",
       "      <th>4</th>\n",
       "      <td>20.0</td>\n",
       "      <td>1.6432</td>\n",
       "      <td>20.0</td>\n",
       "      <td>3.5007</td>\n",
       "      <td>6.9444</td>\n",
       "      <td>5.4031</td>\n",
       "      <td>1.4031</td>\n",
       "      <td>6.4902</td>\n",
       "      <td>20.0</td>\n",
       "      <td>20.0</td>\n",
       "      <td>20.0</td>\n",
       "      <td>20.0</td>\n",
       "      <td>20.0</td>\n",
       "      <td>20.0</td>\n",
       "      <td>20.0</td>\n",
       "      <td>20.0</td>\n",
       "      <td>27.0</td>\n",
       "    </tr>\n",
       "  </tbody>\n",
       "</table>\n",
       "</div>"
      ],
      "text/plain": [
       "   Sensor 1  Sensor 2  Sensor 3  Sensor 4  Sensor 5  Sensor 6  Sensor 7  \\\n",
       "0      20.0    1.6410      20.0    3.4985    6.9423    5.4010    1.4013   \n",
       "1      20.0    1.6418      20.0    3.4992    6.9430    5.4017    1.4018   \n",
       "2      20.0    1.6417      20.0    3.4991    6.9429    5.4016    1.4018   \n",
       "3      20.0    1.6425      20.0    3.4999    6.9437    5.4024    1.4025   \n",
       "4      20.0    1.6432      20.0    3.5007    6.9444    5.4031    1.4031   \n",
       "\n",
       "   Sensor 8  Sensor 9  Sensor 10  Sensor 11  Sensor 12  Sensor 13  Sensor 14  \\\n",
       "0    6.4885      20.0       20.0       20.0       20.0       20.0       20.0   \n",
       "1    6.4890      20.0       20.0       20.0       20.0       20.0       20.0   \n",
       "2    6.4890      20.0       20.0       20.0       20.0       20.0       20.0   \n",
       "3    6.4896      20.0       20.0       20.0       20.0       20.0       20.0   \n",
       "4    6.4902      20.0       20.0       20.0       20.0       20.0       20.0   \n",
       "\n",
       "   Sensor 15  Sensor 16  Steering Angle  \n",
       "0       20.0       20.0            27.0  \n",
       "1       20.0       20.0            27.0  \n",
       "2       20.0       20.0            27.0  \n",
       "3       20.0       20.0            27.0  \n",
       "4       20.0       20.0            27.0  "
      ]
     },
     "execution_count": 4,
     "metadata": {},
     "output_type": "execute_result"
    }
   ],
   "source": [
    "lidar_01_train.head()"
   ]
  },
  {
   "cell_type": "code",
   "execution_count": 5,
   "metadata": {},
   "outputs": [],
   "source": [
    "lidar_01_sensors = lidar_01_train.copy()\n",
    "lidar_01_labels = lidar_01_sensors.pop('Steering Angle')"
   ]
  },
  {
   "cell_type": "code",
   "execution_count": 6,
   "metadata": {},
   "outputs": [],
   "source": [
    "# lidar_01_sensors.head()"
   ]
  },
  {
   "cell_type": "code",
   "execution_count": 7,
   "metadata": {},
   "outputs": [],
   "source": [
    "# lidar_01_labels.head()"
   ]
  },
  {
   "cell_type": "markdown",
   "metadata": {},
   "source": [
    "De input (sensoren/afstanden) en output kunnen ook op een andere manier gescheiden \n",
    "opgehaald worden uit het DataFrame:"
   ]
  },
  {
   "cell_type": "code",
   "execution_count": 8,
   "metadata": {},
   "outputs": [],
   "source": [
    "# lidar_01_labels = lidar_01_train.iloc[:, [3]]\n",
    "# lidar_01_sensors = lidar_01_train.iloc[:,[0, 1, 2]] # met .loc kan je labels gebruiken 'Sensor 1' etc."
   ]
  },
  {
   "cell_type": "code",
   "execution_count": 9,
   "metadata": {},
   "outputs": [],
   "source": [
    "lidar_01_sensors = np.array(lidar_01_sensors)"
   ]
  },
  {
   "cell_type": "code",
   "execution_count": 10,
   "metadata": {},
   "outputs": [],
   "source": [
    "# print(lidar_01_sensors)"
   ]
  },
  {
   "cell_type": "code",
   "execution_count": 11,
   "metadata": {},
   "outputs": [],
   "source": [
    "val_lidar_01_sensors = np.array(lidar_01_sensors [500:799])\n",
    "val_lidar_01_labels = np.array(lidar_01_labels [500:799])"
   ]
  },
  {
   "cell_type": "code",
   "execution_count": 12,
   "metadata": {},
   "outputs": [],
   "source": [
    "# print(val_lidar_01_sensors)"
   ]
  },
  {
   "cell_type": "code",
   "execution_count": 13,
   "metadata": {},
   "outputs": [],
   "source": [
    "# print(val_lidar_01_labels)"
   ]
  },
  {
   "cell_type": "code",
   "execution_count": 14,
   "metadata": {},
   "outputs": [],
   "source": [
    "normalize = keras.layers.Normalization()\n",
    "normalize.adapt(lidar_01_sensors)"
   ]
  },
  {
   "cell_type": "code",
   "execution_count": 15,
   "metadata": {},
   "outputs": [],
   "source": [
    "\n",
    "norm_lidar_01_model = tf.keras.Sequential([\n",
    "  normalize,\n",
    "  keras.Input(shape = (16,)),\n",
    "  keras.layers.Dense(16, activation = 'relu'),\n",
    "  keras.layers.Dense(16, activation = 'relu'),\n",
    "  keras.layers.Dense(1)\n",
    "])  "
   ]
  },
  {
   "cell_type": "code",
   "execution_count": 16,
   "metadata": {},
   "outputs": [],
   "source": [
    "norm_lidar_01_model.compile(loss = tf.keras.losses.MeanSquaredError(), metrics = ['accuracy', 'mae'], \n",
    "                            optimizer = tf.keras.optimizers.Adam(learning_rate=0.01))"
   ]
  },
  {
   "cell_type": "code",
   "execution_count": 17,
   "metadata": {},
   "outputs": [
    {
     "name": "stdout",
     "output_type": "stream",
     "text": [
      "Model: \"sequential\"\n",
      "_________________________________________________________________\n",
      " Layer (type)                Output Shape              Param #   \n",
      "=================================================================\n",
      " normalization (Normalizatio  (None, 16)               33        \n",
      " n)                                                              \n",
      "                                                                 \n",
      " input_1 (InputLayer)        multiple                  0         \n",
      "                                                                 \n",
      " dense (Dense)               (None, 16)                272       \n",
      "                                                                 \n",
      " dense_1 (Dense)             (None, 16)                272       \n",
      "                                                                 \n",
      " dense_2 (Dense)             (None, 1)                 17        \n",
      "                                                                 \n",
      "=================================================================\n",
      "Total params: 594\n",
      "Trainable params: 561\n",
      "Non-trainable params: 33\n",
      "_________________________________________________________________\n"
     ]
    }
   ],
   "source": [
    "norm_lidar_01_model.summary()"
   ]
  },
  {
   "cell_type": "code",
   "execution_count": 18,
   "metadata": {},
   "outputs": [
    {
     "name": "stdout",
     "output_type": "stream",
     "text": [
      "Epoch 1/500\n",
      "176/176 [==============================] - 4s 3ms/step - loss: 103.9624 - accuracy: 0.0624 - mae: 7.1033\n",
      "Epoch 2/500\n",
      "176/176 [==============================] - 1s 3ms/step - loss: 74.8138 - accuracy: 0.0589 - mae: 5.9287\n",
      "Epoch 3/500\n",
      "176/176 [==============================] - 1s 4ms/step - loss: 69.7261 - accuracy: 0.0594 - mae: 5.6934\n",
      "Epoch 4/500\n",
      "176/176 [==============================] - 1s 4ms/step - loss: 67.4165 - accuracy: 0.0596 - mae: 5.5822\n",
      "Epoch 5/500\n",
      "176/176 [==============================] - 1s 5ms/step - loss: 62.8787 - accuracy: 0.0596 - mae: 5.4049\n",
      "Epoch 6/500\n",
      "176/176 [==============================] - 1s 5ms/step - loss: 60.3379 - accuracy: 0.0589 - mae: 5.2745\n",
      "Epoch 7/500\n",
      "176/176 [==============================] - 1s 4ms/step - loss: 57.2969 - accuracy: 0.0557 - mae: 5.1794\n",
      "Epoch 8/500\n",
      "176/176 [==============================] - 1s 4ms/step - loss: 55.8921 - accuracy: 0.0573 - mae: 5.1254\n",
      "Epoch 9/500\n",
      "176/176 [==============================] - 1s 4ms/step - loss: 53.5845 - accuracy: 0.0567 - mae: 4.9997\n",
      "Epoch 10/500\n",
      "176/176 [==============================] - 1s 3ms/step - loss: 52.2561 - accuracy: 0.0564 - mae: 4.9492\n",
      "Epoch 11/500\n",
      "176/176 [==============================] - 1s 4ms/step - loss: 51.1379 - accuracy: 0.0580 - mae: 4.9106\n",
      "Epoch 12/500\n",
      "176/176 [==============================] - 1s 4ms/step - loss: 50.4779 - accuracy: 0.0573 - mae: 4.8572\n",
      "Epoch 13/500\n",
      "176/176 [==============================] - 1s 4ms/step - loss: 49.4780 - accuracy: 0.0569 - mae: 4.8422\n",
      "Epoch 14/500\n",
      "176/176 [==============================] - 1s 4ms/step - loss: 48.3771 - accuracy: 0.0580 - mae: 4.7256\n",
      "Epoch 15/500\n",
      "176/176 [==============================] - 1s 4ms/step - loss: 48.7823 - accuracy: 0.0559 - mae: 4.7822\n",
      "Epoch 16/500\n",
      "176/176 [==============================] - 1s 4ms/step - loss: 46.3620 - accuracy: 0.0587 - mae: 4.6428\n",
      "Epoch 17/500\n",
      "176/176 [==============================] - 1s 4ms/step - loss: 47.6662 - accuracy: 0.0580 - mae: 4.7455\n",
      "Epoch 18/500\n",
      "176/176 [==============================] - 1s 4ms/step - loss: 45.8822 - accuracy: 0.0551 - mae: 4.6471\n",
      "Epoch 19/500\n",
      "176/176 [==============================] - 1s 4ms/step - loss: 45.7015 - accuracy: 0.0585 - mae: 4.6159\n",
      "Epoch 20/500\n",
      "176/176 [==============================] - 1s 4ms/step - loss: 46.0158 - accuracy: 0.0553 - mae: 4.6825\n",
      "Epoch 21/500\n",
      "176/176 [==============================] - 1s 4ms/step - loss: 45.1544 - accuracy: 0.0580 - mae: 4.5830\n",
      "Epoch 22/500\n",
      "176/176 [==============================] - 1s 4ms/step - loss: 44.9117 - accuracy: 0.0555 - mae: 4.5950\n",
      "Epoch 23/500\n",
      "176/176 [==============================] - 1s 4ms/step - loss: 44.2469 - accuracy: 0.0555 - mae: 4.5395\n",
      "Epoch 24/500\n",
      "176/176 [==============================] - 1s 4ms/step - loss: 42.9917 - accuracy: 0.0569 - mae: 4.4805\n",
      "Epoch 25/500\n",
      "176/176 [==============================] - 1s 4ms/step - loss: 43.4063 - accuracy: 0.0573 - mae: 4.5010\n",
      "Epoch 26/500\n",
      "176/176 [==============================] - 1s 3ms/step - loss: 42.4525 - accuracy: 0.0598 - mae: 4.4493\n",
      "Epoch 27/500\n",
      "176/176 [==============================] - 1s 4ms/step - loss: 42.3509 - accuracy: 0.0592 - mae: 4.4485\n",
      "Epoch 28/500\n",
      "176/176 [==============================] - 1s 4ms/step - loss: 42.4746 - accuracy: 0.0607 - mae: 4.4522\n",
      "Epoch 29/500\n",
      "176/176 [==============================] - 1s 4ms/step - loss: 41.3358 - accuracy: 0.0575 - mae: 4.3861\n",
      "Epoch 30/500\n",
      "176/176 [==============================] - 1s 4ms/step - loss: 41.4762 - accuracy: 0.0591 - mae: 4.3640\n",
      "Epoch 31/500\n",
      "176/176 [==============================] - 1s 4ms/step - loss: 41.1507 - accuracy: 0.0605 - mae: 4.3422\n",
      "Epoch 32/500\n",
      "176/176 [==============================] - 1s 4ms/step - loss: 40.7045 - accuracy: 0.0619 - mae: 4.3689\n",
      "Epoch 33/500\n",
      "176/176 [==============================] - 1s 4ms/step - loss: 40.5271 - accuracy: 0.0582 - mae: 4.3202\n",
      "Epoch 34/500\n",
      "176/176 [==============================] - 1s 4ms/step - loss: 39.9652 - accuracy: 0.0598 - mae: 4.2820\n",
      "Epoch 35/500\n",
      "176/176 [==============================] - 1s 4ms/step - loss: 40.7334 - accuracy: 0.0587 - mae: 4.3359\n",
      "Epoch 36/500\n",
      "176/176 [==============================] - 1s 4ms/step - loss: 39.4997 - accuracy: 0.0580 - mae: 4.2706\n",
      "Epoch 37/500\n",
      "176/176 [==============================] - 1s 4ms/step - loss: 39.8113 - accuracy: 0.0591 - mae: 4.2878\n",
      "Epoch 38/500\n",
      "176/176 [==============================] - 1s 4ms/step - loss: 39.3865 - accuracy: 0.0578 - mae: 4.2745\n",
      "Epoch 39/500\n",
      "176/176 [==============================] - 1s 4ms/step - loss: 38.7779 - accuracy: 0.0559 - mae: 4.1796\n",
      "Epoch 40/500\n",
      "109/176 [=================>............] - ETA: 0s - loss: 36.7993 - accuracy: 0.0582 - mae: 4.1454"
     ]
    },
    {
     "ename": "KeyboardInterrupt",
     "evalue": "",
     "output_type": "error",
     "traceback": [
      "\u001b[1;31m---------------------------------------------------------------------------\u001b[0m",
      "\u001b[1;31mKeyboardInterrupt\u001b[0m                         Traceback (most recent call last)",
      "Cell \u001b[1;32mIn [18], line 1\u001b[0m\n\u001b[1;32m----> 1\u001b[0m \u001b[43mnorm_lidar_01_model\u001b[49m\u001b[38;5;241;43m.\u001b[39;49m\u001b[43mfit\u001b[49m\u001b[43m(\u001b[49m\u001b[43mlidar_01_sensors\u001b[49m\u001b[43m,\u001b[49m\u001b[43m \u001b[49m\u001b[43mlidar_01_labels\u001b[49m\u001b[43m,\u001b[49m\u001b[43m \u001b[49m\u001b[43mepochs\u001b[49m\u001b[38;5;241;43m=\u001b[39;49m\u001b[38;5;241;43m500\u001b[39;49m\u001b[43m)\u001b[49m\n",
      "File \u001b[1;32mc:\\Users\\El Director\\AppData\\Local\\Programs\\Python\\Python310\\lib\\site-packages\\keras\\utils\\traceback_utils.py:65\u001b[0m, in \u001b[0;36mfilter_traceback.<locals>.error_handler\u001b[1;34m(*args, **kwargs)\u001b[0m\n\u001b[0;32m     63\u001b[0m filtered_tb \u001b[39m=\u001b[39m \u001b[39mNone\u001b[39;00m\n\u001b[0;32m     64\u001b[0m \u001b[39mtry\u001b[39;00m:\n\u001b[1;32m---> 65\u001b[0m     \u001b[39mreturn\u001b[39;00m fn(\u001b[39m*\u001b[39margs, \u001b[39m*\u001b[39m\u001b[39m*\u001b[39mkwargs)\n\u001b[0;32m     66\u001b[0m \u001b[39mexcept\u001b[39;00m \u001b[39mException\u001b[39;00m \u001b[39mas\u001b[39;00m e:\n\u001b[0;32m     67\u001b[0m     filtered_tb \u001b[39m=\u001b[39m _process_traceback_frames(e\u001b[39m.\u001b[39m__traceback__)\n",
      "File \u001b[1;32mc:\\Users\\El Director\\AppData\\Local\\Programs\\Python\\Python310\\lib\\site-packages\\keras\\engine\\training.py:1564\u001b[0m, in \u001b[0;36mModel.fit\u001b[1;34m(self, x, y, batch_size, epochs, verbose, callbacks, validation_split, validation_data, shuffle, class_weight, sample_weight, initial_epoch, steps_per_epoch, validation_steps, validation_batch_size, validation_freq, max_queue_size, workers, use_multiprocessing)\u001b[0m\n\u001b[0;32m   1556\u001b[0m \u001b[39mwith\u001b[39;00m tf\u001b[39m.\u001b[39mprofiler\u001b[39m.\u001b[39mexperimental\u001b[39m.\u001b[39mTrace(\n\u001b[0;32m   1557\u001b[0m     \u001b[39m\"\u001b[39m\u001b[39mtrain\u001b[39m\u001b[39m\"\u001b[39m,\n\u001b[0;32m   1558\u001b[0m     epoch_num\u001b[39m=\u001b[39mepoch,\n\u001b[1;32m   (...)\u001b[0m\n\u001b[0;32m   1561\u001b[0m     _r\u001b[39m=\u001b[39m\u001b[39m1\u001b[39m,\n\u001b[0;32m   1562\u001b[0m ):\n\u001b[0;32m   1563\u001b[0m     callbacks\u001b[39m.\u001b[39mon_train_batch_begin(step)\n\u001b[1;32m-> 1564\u001b[0m     tmp_logs \u001b[39m=\u001b[39m \u001b[39mself\u001b[39;49m\u001b[39m.\u001b[39;49mtrain_function(iterator)\n\u001b[0;32m   1565\u001b[0m     \u001b[39mif\u001b[39;00m data_handler\u001b[39m.\u001b[39mshould_sync:\n\u001b[0;32m   1566\u001b[0m         context\u001b[39m.\u001b[39masync_wait()\n",
      "File \u001b[1;32mc:\\Users\\El Director\\AppData\\Local\\Programs\\Python\\Python310\\lib\\site-packages\\tensorflow\\python\\util\\traceback_utils.py:150\u001b[0m, in \u001b[0;36mfilter_traceback.<locals>.error_handler\u001b[1;34m(*args, **kwargs)\u001b[0m\n\u001b[0;32m    148\u001b[0m filtered_tb \u001b[39m=\u001b[39m \u001b[39mNone\u001b[39;00m\n\u001b[0;32m    149\u001b[0m \u001b[39mtry\u001b[39;00m:\n\u001b[1;32m--> 150\u001b[0m   \u001b[39mreturn\u001b[39;00m fn(\u001b[39m*\u001b[39margs, \u001b[39m*\u001b[39m\u001b[39m*\u001b[39mkwargs)\n\u001b[0;32m    151\u001b[0m \u001b[39mexcept\u001b[39;00m \u001b[39mException\u001b[39;00m \u001b[39mas\u001b[39;00m e:\n\u001b[0;32m    152\u001b[0m   filtered_tb \u001b[39m=\u001b[39m _process_traceback_frames(e\u001b[39m.\u001b[39m__traceback__)\n",
      "File \u001b[1;32mc:\\Users\\El Director\\AppData\\Local\\Programs\\Python\\Python310\\lib\\site-packages\\tensorflow\\python\\eager\\def_function.py:915\u001b[0m, in \u001b[0;36mFunction.__call__\u001b[1;34m(self, *args, **kwds)\u001b[0m\n\u001b[0;32m    912\u001b[0m compiler \u001b[39m=\u001b[39m \u001b[39m\"\u001b[39m\u001b[39mxla\u001b[39m\u001b[39m\"\u001b[39m \u001b[39mif\u001b[39;00m \u001b[39mself\u001b[39m\u001b[39m.\u001b[39m_jit_compile \u001b[39melse\u001b[39;00m \u001b[39m\"\u001b[39m\u001b[39mnonXla\u001b[39m\u001b[39m\"\u001b[39m\n\u001b[0;32m    914\u001b[0m \u001b[39mwith\u001b[39;00m OptionalXlaContext(\u001b[39mself\u001b[39m\u001b[39m.\u001b[39m_jit_compile):\n\u001b[1;32m--> 915\u001b[0m   result \u001b[39m=\u001b[39m \u001b[39mself\u001b[39m\u001b[39m.\u001b[39m_call(\u001b[39m*\u001b[39margs, \u001b[39m*\u001b[39m\u001b[39m*\u001b[39mkwds)\n\u001b[0;32m    917\u001b[0m new_tracing_count \u001b[39m=\u001b[39m \u001b[39mself\u001b[39m\u001b[39m.\u001b[39mexperimental_get_tracing_count()\n\u001b[0;32m    918\u001b[0m without_tracing \u001b[39m=\u001b[39m (tracing_count \u001b[39m==\u001b[39m new_tracing_count)\n",
      "File \u001b[1;32mc:\\Users\\El Director\\AppData\\Local\\Programs\\Python\\Python310\\lib\\site-packages\\tensorflow\\python\\eager\\def_function.py:947\u001b[0m, in \u001b[0;36mFunction._call\u001b[1;34m(self, *args, **kwds)\u001b[0m\n\u001b[0;32m    944\u001b[0m   \u001b[39mself\u001b[39m\u001b[39m.\u001b[39m_lock\u001b[39m.\u001b[39mrelease()\n\u001b[0;32m    945\u001b[0m   \u001b[39m# In this case we have created variables on the first call, so we run the\u001b[39;00m\n\u001b[0;32m    946\u001b[0m   \u001b[39m# defunned version which is guaranteed to never create variables.\u001b[39;00m\n\u001b[1;32m--> 947\u001b[0m   \u001b[39mreturn\u001b[39;00m \u001b[39mself\u001b[39m\u001b[39m.\u001b[39m_stateless_fn(\u001b[39m*\u001b[39margs, \u001b[39m*\u001b[39m\u001b[39m*\u001b[39mkwds)  \u001b[39m# pylint: disable=not-callable\u001b[39;00m\n\u001b[0;32m    948\u001b[0m \u001b[39melif\u001b[39;00m \u001b[39mself\u001b[39m\u001b[39m.\u001b[39m_stateful_fn \u001b[39mis\u001b[39;00m \u001b[39mnot\u001b[39;00m \u001b[39mNone\u001b[39;00m:\n\u001b[0;32m    949\u001b[0m   \u001b[39m# Release the lock early so that multiple threads can perform the call\u001b[39;00m\n\u001b[0;32m    950\u001b[0m   \u001b[39m# in parallel.\u001b[39;00m\n\u001b[0;32m    951\u001b[0m   \u001b[39mself\u001b[39m\u001b[39m.\u001b[39m_lock\u001b[39m.\u001b[39mrelease()\n",
      "File \u001b[1;32mc:\\Users\\El Director\\AppData\\Local\\Programs\\Python\\Python310\\lib\\site-packages\\tensorflow\\python\\eager\\function.py:2496\u001b[0m, in \u001b[0;36mFunction.__call__\u001b[1;34m(self, *args, **kwargs)\u001b[0m\n\u001b[0;32m   2493\u001b[0m \u001b[39mwith\u001b[39;00m \u001b[39mself\u001b[39m\u001b[39m.\u001b[39m_lock:\n\u001b[0;32m   2494\u001b[0m   (graph_function,\n\u001b[0;32m   2495\u001b[0m    filtered_flat_args) \u001b[39m=\u001b[39m \u001b[39mself\u001b[39m\u001b[39m.\u001b[39m_maybe_define_function(args, kwargs)\n\u001b[1;32m-> 2496\u001b[0m \u001b[39mreturn\u001b[39;00m graph_function\u001b[39m.\u001b[39;49m_call_flat(\n\u001b[0;32m   2497\u001b[0m     filtered_flat_args, captured_inputs\u001b[39m=\u001b[39;49mgraph_function\u001b[39m.\u001b[39;49mcaptured_inputs)\n",
      "File \u001b[1;32mc:\\Users\\El Director\\AppData\\Local\\Programs\\Python\\Python310\\lib\\site-packages\\tensorflow\\python\\eager\\function.py:1862\u001b[0m, in \u001b[0;36mConcreteFunction._call_flat\u001b[1;34m(self, args, captured_inputs, cancellation_manager)\u001b[0m\n\u001b[0;32m   1858\u001b[0m possible_gradient_type \u001b[39m=\u001b[39m gradients_util\u001b[39m.\u001b[39mPossibleTapeGradientTypes(args)\n\u001b[0;32m   1859\u001b[0m \u001b[39mif\u001b[39;00m (possible_gradient_type \u001b[39m==\u001b[39m gradients_util\u001b[39m.\u001b[39mPOSSIBLE_GRADIENT_TYPES_NONE\n\u001b[0;32m   1860\u001b[0m     \u001b[39mand\u001b[39;00m executing_eagerly):\n\u001b[0;32m   1861\u001b[0m   \u001b[39m# No tape is watching; skip to running the function.\u001b[39;00m\n\u001b[1;32m-> 1862\u001b[0m   \u001b[39mreturn\u001b[39;00m \u001b[39mself\u001b[39m\u001b[39m.\u001b[39m_build_call_outputs(\u001b[39mself\u001b[39;49m\u001b[39m.\u001b[39;49m_inference_function\u001b[39m.\u001b[39;49mcall(\n\u001b[0;32m   1863\u001b[0m       ctx, args, cancellation_manager\u001b[39m=\u001b[39;49mcancellation_manager))\n\u001b[0;32m   1864\u001b[0m forward_backward \u001b[39m=\u001b[39m \u001b[39mself\u001b[39m\u001b[39m.\u001b[39m_select_forward_and_backward_functions(\n\u001b[0;32m   1865\u001b[0m     args,\n\u001b[0;32m   1866\u001b[0m     possible_gradient_type,\n\u001b[0;32m   1867\u001b[0m     executing_eagerly)\n\u001b[0;32m   1868\u001b[0m forward_function, args_with_tangents \u001b[39m=\u001b[39m forward_backward\u001b[39m.\u001b[39mforward()\n",
      "File \u001b[1;32mc:\\Users\\El Director\\AppData\\Local\\Programs\\Python\\Python310\\lib\\site-packages\\tensorflow\\python\\eager\\function.py:499\u001b[0m, in \u001b[0;36m_EagerDefinedFunction.call\u001b[1;34m(self, ctx, args, cancellation_manager)\u001b[0m\n\u001b[0;32m    497\u001b[0m \u001b[39mwith\u001b[39;00m _InterpolateFunctionError(\u001b[39mself\u001b[39m):\n\u001b[0;32m    498\u001b[0m   \u001b[39mif\u001b[39;00m cancellation_manager \u001b[39mis\u001b[39;00m \u001b[39mNone\u001b[39;00m:\n\u001b[1;32m--> 499\u001b[0m     outputs \u001b[39m=\u001b[39m execute\u001b[39m.\u001b[39;49mexecute(\n\u001b[0;32m    500\u001b[0m         \u001b[39mstr\u001b[39;49m(\u001b[39mself\u001b[39;49m\u001b[39m.\u001b[39;49msignature\u001b[39m.\u001b[39;49mname),\n\u001b[0;32m    501\u001b[0m         num_outputs\u001b[39m=\u001b[39;49m\u001b[39mself\u001b[39;49m\u001b[39m.\u001b[39;49m_num_outputs,\n\u001b[0;32m    502\u001b[0m         inputs\u001b[39m=\u001b[39;49margs,\n\u001b[0;32m    503\u001b[0m         attrs\u001b[39m=\u001b[39;49mattrs,\n\u001b[0;32m    504\u001b[0m         ctx\u001b[39m=\u001b[39;49mctx)\n\u001b[0;32m    505\u001b[0m   \u001b[39melse\u001b[39;00m:\n\u001b[0;32m    506\u001b[0m     outputs \u001b[39m=\u001b[39m execute\u001b[39m.\u001b[39mexecute_with_cancellation(\n\u001b[0;32m    507\u001b[0m         \u001b[39mstr\u001b[39m(\u001b[39mself\u001b[39m\u001b[39m.\u001b[39msignature\u001b[39m.\u001b[39mname),\n\u001b[0;32m    508\u001b[0m         num_outputs\u001b[39m=\u001b[39m\u001b[39mself\u001b[39m\u001b[39m.\u001b[39m_num_outputs,\n\u001b[1;32m   (...)\u001b[0m\n\u001b[0;32m    511\u001b[0m         ctx\u001b[39m=\u001b[39mctx,\n\u001b[0;32m    512\u001b[0m         cancellation_manager\u001b[39m=\u001b[39mcancellation_manager)\n",
      "File \u001b[1;32mc:\\Users\\El Director\\AppData\\Local\\Programs\\Python\\Python310\\lib\\site-packages\\tensorflow\\python\\eager\\execute.py:54\u001b[0m, in \u001b[0;36mquick_execute\u001b[1;34m(op_name, num_outputs, inputs, attrs, ctx, name)\u001b[0m\n\u001b[0;32m     52\u001b[0m \u001b[39mtry\u001b[39;00m:\n\u001b[0;32m     53\u001b[0m   ctx\u001b[39m.\u001b[39mensure_initialized()\n\u001b[1;32m---> 54\u001b[0m   tensors \u001b[39m=\u001b[39m pywrap_tfe\u001b[39m.\u001b[39;49mTFE_Py_Execute(ctx\u001b[39m.\u001b[39;49m_handle, device_name, op_name,\n\u001b[0;32m     55\u001b[0m                                       inputs, attrs, num_outputs)\n\u001b[0;32m     56\u001b[0m \u001b[39mexcept\u001b[39;00m core\u001b[39m.\u001b[39m_NotOkStatusException \u001b[39mas\u001b[39;00m e:\n\u001b[0;32m     57\u001b[0m   \u001b[39mif\u001b[39;00m name \u001b[39mis\u001b[39;00m \u001b[39mnot\u001b[39;00m \u001b[39mNone\u001b[39;00m:\n",
      "\u001b[1;31mKeyboardInterrupt\u001b[0m: "
     ]
    }
   ],
   "source": [
    "norm_lidar_01_model.fit(lidar_01_sensors, lidar_01_labels, epochs=500)"
   ]
  },
  {
   "cell_type": "code",
   "execution_count": null,
   "metadata": {},
   "outputs": [],
   "source": [
    "norm_lidar_01_model.evaluate(val_lidar_01_sensors, val_lidar_01_labels)"
   ]
  },
  {
   "cell_type": "code",
   "execution_count": null,
   "metadata": {},
   "outputs": [],
   "source": [
    "norm_lidar_01_model.predict(val_lidar_01_sensors)"
   ]
  },
  {
   "cell_type": "code",
   "execution_count": null,
   "metadata": {},
   "outputs": [],
   "source": [
    "norm_lidar_01_model.save('norm_lidar_01_model')"
   ]
  }
 ],
 "metadata": {
  "kernelspec": {
   "display_name": "Python 3.10.7 64-bit",
   "language": "python",
   "name": "python3"
  },
  "language_info": {
   "codemirror_mode": {
    "name": "ipython",
    "version": 3
   },
   "file_extension": ".py",
   "mimetype": "text/x-python",
   "name": "python",
   "nbconvert_exporter": "python",
   "pygments_lexer": "ipython3",
   "version": "3.10.7"
  },
  "orig_nbformat": 4,
  "vscode": {
   "interpreter": {
    "hash": "5b93afe9c2e217d44e354b055ed180e932b72842f9b6422dadc1ad80da9caf67"
   }
  }
 },
 "nbformat": 4,
 "nbformat_minor": 2
}
