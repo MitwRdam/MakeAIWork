{
 "cells": [
  {
   "cell_type": "code",
   "execution_count": 445,
   "metadata": {},
   "outputs": [],
   "source": [
    "import tensorflow as tf\n",
    "keras = tf.keras\n",
    "\n",
    "import pandas as pd\n",
    "import numpy as np\n",
    "\n",
    "# Make numpy values easier to read.\n",
    "np.set_printoptions(precision=4, suppress=True)"
   ]
  },
  {
   "cell_type": "code",
   "execution_count": 446,
   "metadata": {},
   "outputs": [],
   "source": [
    "filename = \"C:\\MakeAIWork\\simulations\\car\\control_client\\sonar_kevin.csv\""
   ]
  },
  {
   "cell_type": "code",
   "execution_count": 447,
   "metadata": {},
   "outputs": [],
   "source": [
    "sonar_01_train = pd.read_csv(filename, sep = ',')"
   ]
  },
  {
   "cell_type": "code",
   "execution_count": 448,
   "metadata": {},
   "outputs": [
    {
     "data": {
      "text/html": [
       "<div>\n",
       "<style scoped>\n",
       "    .dataframe tbody tr th:only-of-type {\n",
       "        vertical-align: middle;\n",
       "    }\n",
       "\n",
       "    .dataframe tbody tr th {\n",
       "        vertical-align: top;\n",
       "    }\n",
       "\n",
       "    .dataframe thead th {\n",
       "        text-align: right;\n",
       "    }\n",
       "</style>\n",
       "<table border=\"1\" class=\"dataframe\">\n",
       "  <thead>\n",
       "    <tr style=\"text-align: right;\">\n",
       "      <th></th>\n",
       "      <th>1.4512</th>\n",
       "      <th>1.271</th>\n",
       "      <th>1.7665</th>\n",
       "      <th>-22</th>\n",
       "    </tr>\n",
       "  </thead>\n",
       "  <tbody>\n",
       "    <tr>\n",
       "      <th>0</th>\n",
       "      <td>1.4520</td>\n",
       "      <td>1.2716</td>\n",
       "      <td>1.7669</td>\n",
       "      <td>-22</td>\n",
       "    </tr>\n",
       "    <tr>\n",
       "      <th>1</th>\n",
       "      <td>1.4506</td>\n",
       "      <td>1.2705</td>\n",
       "      <td>1.7660</td>\n",
       "      <td>-22</td>\n",
       "    </tr>\n",
       "    <tr>\n",
       "      <th>2</th>\n",
       "      <td>1.4486</td>\n",
       "      <td>1.2688</td>\n",
       "      <td>1.7645</td>\n",
       "      <td>-22</td>\n",
       "    </tr>\n",
       "    <tr>\n",
       "      <th>3</th>\n",
       "      <td>1.4458</td>\n",
       "      <td>1.2666</td>\n",
       "      <td>1.7625</td>\n",
       "      <td>-22</td>\n",
       "    </tr>\n",
       "    <tr>\n",
       "      <th>4</th>\n",
       "      <td>1.4420</td>\n",
       "      <td>1.2635</td>\n",
       "      <td>1.7597</td>\n",
       "      <td>-22</td>\n",
       "    </tr>\n",
       "  </tbody>\n",
       "</table>\n",
       "</div>"
      ],
      "text/plain": [
       "   1.4512   1.271  1.7665  -22\n",
       "0  1.4520  1.2716  1.7669  -22\n",
       "1  1.4506  1.2705  1.7660  -22\n",
       "2  1.4486  1.2688  1.7645  -22\n",
       "3  1.4458  1.2666  1.7625  -22\n",
       "4  1.4420  1.2635  1.7597  -22"
      ]
     },
     "execution_count": 448,
     "metadata": {},
     "output_type": "execute_result"
    }
   ],
   "source": [
    "sonar_01_train.head()"
   ]
  },
  {
   "cell_type": "code",
   "execution_count": 449,
   "metadata": {},
   "outputs": [],
   "source": [
    "# sonar_01_sensors = sonar_01_train.copy()\n",
    "# sonar_01_labels = sonar_01_sensors.pop('Steering Angle')"
   ]
  },
  {
   "cell_type": "code",
   "execution_count": 450,
   "metadata": {},
   "outputs": [],
   "source": [
    "# sonar_01_sensors.head()"
   ]
  },
  {
   "cell_type": "code",
   "execution_count": 451,
   "metadata": {},
   "outputs": [],
   "source": [
    "# sonar_01_labels.head()"
   ]
  },
  {
   "cell_type": "markdown",
   "metadata": {},
   "source": [
    "De input (sensoren/afstanden) en output kunnen ook op een andere manier gescheiden \n",
    "opgehaald worden uit het DataFrame:"
   ]
  },
  {
   "cell_type": "code",
   "execution_count": 452,
   "metadata": {},
   "outputs": [],
   "source": [
    "sonar_01_labels = sonar_01_train.iloc[:, [3]]\n",
    "sonar_01_sensors = sonar_01_train.iloc[:,[0, 1, 2]] # met .loc kan je labels gebruiken 'Sensor 1' etc."
   ]
  },
  {
   "cell_type": "code",
   "execution_count": 453,
   "metadata": {},
   "outputs": [],
   "source": [
    "# sonar_01_labels.head()"
   ]
  },
  {
   "cell_type": "code",
   "execution_count": 454,
   "metadata": {},
   "outputs": [
    {
     "data": {
      "text/html": [
       "<div>\n",
       "<style scoped>\n",
       "    .dataframe tbody tr th:only-of-type {\n",
       "        vertical-align: middle;\n",
       "    }\n",
       "\n",
       "    .dataframe tbody tr th {\n",
       "        vertical-align: top;\n",
       "    }\n",
       "\n",
       "    .dataframe thead th {\n",
       "        text-align: right;\n",
       "    }\n",
       "</style>\n",
       "<table border=\"1\" class=\"dataframe\">\n",
       "  <thead>\n",
       "    <tr style=\"text-align: right;\">\n",
       "      <th></th>\n",
       "      <th>1.4512</th>\n",
       "      <th>1.271</th>\n",
       "      <th>1.7665</th>\n",
       "    </tr>\n",
       "  </thead>\n",
       "  <tbody>\n",
       "    <tr>\n",
       "      <th>0</th>\n",
       "      <td>1.4520</td>\n",
       "      <td>1.2716</td>\n",
       "      <td>1.7669</td>\n",
       "    </tr>\n",
       "    <tr>\n",
       "      <th>1</th>\n",
       "      <td>1.4506</td>\n",
       "      <td>1.2705</td>\n",
       "      <td>1.7660</td>\n",
       "    </tr>\n",
       "    <tr>\n",
       "      <th>2</th>\n",
       "      <td>1.4486</td>\n",
       "      <td>1.2688</td>\n",
       "      <td>1.7645</td>\n",
       "    </tr>\n",
       "    <tr>\n",
       "      <th>3</th>\n",
       "      <td>1.4458</td>\n",
       "      <td>1.2666</td>\n",
       "      <td>1.7625</td>\n",
       "    </tr>\n",
       "    <tr>\n",
       "      <th>4</th>\n",
       "      <td>1.4420</td>\n",
       "      <td>1.2635</td>\n",
       "      <td>1.7597</td>\n",
       "    </tr>\n",
       "  </tbody>\n",
       "</table>\n",
       "</div>"
      ],
      "text/plain": [
       "   1.4512   1.271  1.7665\n",
       "0  1.4520  1.2716  1.7669\n",
       "1  1.4506  1.2705  1.7660\n",
       "2  1.4486  1.2688  1.7645\n",
       "3  1.4458  1.2666  1.7625\n",
       "4  1.4420  1.2635  1.7597"
      ]
     },
     "execution_count": 454,
     "metadata": {},
     "output_type": "execute_result"
    }
   ],
   "source": [
    "sonar_01_sensors.head()"
   ]
  },
  {
   "cell_type": "code",
   "execution_count": 455,
   "metadata": {},
   "outputs": [],
   "source": [
    "sonar_01_sensors = np.array(sonar_01_sensors)"
   ]
  },
  {
   "cell_type": "code",
   "execution_count": 456,
   "metadata": {},
   "outputs": [],
   "source": [
    "# print(sonar_01_sensors)"
   ]
  },
  {
   "cell_type": "code",
   "execution_count": 457,
   "metadata": {},
   "outputs": [],
   "source": [
    "normalize = keras.layers.Normalization()\n",
    "normalize.adapt(sonar_01_sensors)"
   ]
  },
  {
   "cell_type": "code",
   "execution_count": 458,
   "metadata": {},
   "outputs": [],
   "source": [
    "norm_sonar_01_model = tf.keras.Sequential([\n",
    "  normalize,\n",
    "  keras.layers.Dense(64, activation = 'relu'),\n",
    "  keras.layers.Dense(64, activation = 'relu'),\n",
    "  keras.layers.Dense(64),\n",
    "  keras.layers.Dense(1)\n",
    "])  "
   ]
  },
  {
   "cell_type": "code",
   "execution_count": 459,
   "metadata": {},
   "outputs": [],
   "source": [
    "norm_sonar_01_model.compile(loss = tf.keras.losses.MeanSquaredError(), metrics = ['accuracy'], \n",
    "                            optimizer = tf.keras.optimizers.Adam(learning_rate=0.0001))"
   ]
  },
  {
   "cell_type": "markdown",
   "metadata": {},
   "source": [
    "Er kan ook nog een 'clipnorm = 1' aan de optimizer toegevoegd worden"
   ]
  },
  {
   "cell_type": "code",
   "execution_count": 460,
   "metadata": {},
   "outputs": [
    {
     "name": "stdout",
     "output_type": "stream",
     "text": [
      "Model: \"sequential_21\"\n",
      "_________________________________________________________________\n",
      " Layer (type)                Output Shape              Param #   \n",
      "=================================================================\n",
      " normalization_22 (Normaliza  (None, 3)                7         \n",
      " tion)                                                           \n",
      "                                                                 \n",
      " dense_65 (Dense)            (None, 64)                256       \n",
      "                                                                 \n",
      " dense_66 (Dense)            (None, 64)                4160      \n",
      "                                                                 \n",
      " dense_67 (Dense)            (None, 64)                4160      \n",
      "                                                                 \n",
      " dense_68 (Dense)            (None, 1)                 65        \n",
      "                                                                 \n",
      "=================================================================\n",
      "Total params: 8,648\n",
      "Trainable params: 8,641\n",
      "Non-trainable params: 7\n",
      "_________________________________________________________________\n"
     ]
    }
   ],
   "source": [
    "norm_sonar_01_model.summary()"
   ]
  },
  {
   "cell_type": "code",
   "execution_count": 461,
   "metadata": {},
   "outputs": [
    {
     "name": "stdout",
     "output_type": "stream",
     "text": [
      "Epoch 1/10\n",
      "157/157 [==============================] - 1s 4ms/step - loss: 98.6455 - accuracy: 0.6594\n",
      "Epoch 2/10\n",
      "157/157 [==============================] - 1s 3ms/step - loss: 80.8542 - accuracy: 0.3346\n",
      "Epoch 3/10\n",
      "157/157 [==============================] - 1s 4ms/step - loss: 63.4889 - accuracy: 0.3196\n",
      "Epoch 4/10\n",
      "157/157 [==============================] - 1s 3ms/step - loss: 54.9914 - accuracy: 0.3540\n",
      "Epoch 5/10\n",
      "157/157 [==============================] - 1s 3ms/step - loss: 50.2699 - accuracy: 0.3524\n",
      "Epoch 6/10\n",
      "157/157 [==============================] - 1s 4ms/step - loss: 46.7121 - accuracy: 0.3528\n",
      "Epoch 7/10\n",
      "157/157 [==============================] - 1s 4ms/step - loss: 43.6120 - accuracy: 0.3544\n",
      "Epoch 8/10\n",
      "157/157 [==============================] - 1s 4ms/step - loss: 40.7554 - accuracy: 0.3654\n",
      "Epoch 9/10\n",
      "157/157 [==============================] - 1s 4ms/step - loss: 38.1227 - accuracy: 0.3787\n",
      "Epoch 10/10\n",
      "157/157 [==============================] - 1s 4ms/step - loss: 35.7154 - accuracy: 0.3971\n"
     ]
    },
    {
     "data": {
      "text/plain": [
       "<keras.callbacks.History at 0x2864c5848b0>"
      ]
     },
     "execution_count": 461,
     "metadata": {},
     "output_type": "execute_result"
    }
   ],
   "source": [
    "norm_sonar_01_model.fit(sonar_01_sensors, sonar_01_labels, epochs=10)"
   ]
  },
  {
   "cell_type": "code",
   "execution_count": 462,
   "metadata": {},
   "outputs": [
    {
     "ename": "AttributeError",
     "evalue": "'str' object has no attribute 'outputs'",
     "output_type": "error",
     "traceback": [
      "\u001b[1;31m---------------------------------------------------------------------------\u001b[0m",
      "\u001b[1;31mAttributeError\u001b[0m                            Traceback (most recent call last)",
      "Cell \u001b[1;32mIn [462], line 1\u001b[0m\n\u001b[1;32m----> 1\u001b[0m \u001b[43mtf\u001b[49m\u001b[38;5;241;43m.\u001b[39;49m\u001b[43mkeras\u001b[49m\u001b[38;5;241;43m.\u001b[39;49m\u001b[43mSequential\u001b[49m\u001b[38;5;241;43m.\u001b[39;49m\u001b[43msave\u001b[49m\u001b[43m(\u001b[49m\u001b[38;5;124;43m\"\u001b[39;49m\u001b[38;5;124;43mC:\u001b[39;49m\u001b[38;5;124;43m\\\u001b[39;49m\u001b[38;5;124;43mMakeAIWork\u001b[39;49m\u001b[38;5;124;43m\\\u001b[39;49m\u001b[38;5;124;43msimulations\u001b[39;49m\u001b[38;5;124;43m\\\u001b[39;49m\u001b[38;5;124;43mcar\u001b[39;49m\u001b[38;5;124;43m\\\u001b[39;49m\u001b[38;5;124;43mcontrol_client\u001b[39;49m\u001b[38;5;124;43m\"\u001b[39;49m\u001b[43m,\u001b[49m\u001b[43m \u001b[49m\u001b[43mnorm_sonar_01_model\u001b[49m\u001b[43m)\u001b[49m\n",
      "File \u001b[1;32mc:\\Users\\El Director\\AppData\\Local\\Programs\\Python\\Python310\\lib\\site-packages\\keras\\utils\\traceback_utils.py:70\u001b[0m, in \u001b[0;36mfilter_traceback.<locals>.error_handler\u001b[1;34m(*args, **kwargs)\u001b[0m\n\u001b[0;32m     67\u001b[0m     filtered_tb \u001b[39m=\u001b[39m _process_traceback_frames(e\u001b[39m.\u001b[39m__traceback__)\n\u001b[0;32m     68\u001b[0m     \u001b[39m# To get the full stack trace, call:\u001b[39;00m\n\u001b[0;32m     69\u001b[0m     \u001b[39m# `tf.debugging.disable_traceback_filtering()`\u001b[39;00m\n\u001b[1;32m---> 70\u001b[0m     \u001b[39mraise\u001b[39;00m e\u001b[39m.\u001b[39mwith_traceback(filtered_tb) \u001b[39mfrom\u001b[39;00m \u001b[39mNone\u001b[39m\n\u001b[0;32m     71\u001b[0m \u001b[39mfinally\u001b[39;00m:\n\u001b[0;32m     72\u001b[0m     \u001b[39mdel\u001b[39;00m filtered_tb\n",
      "File \u001b[1;32mc:\\Users\\El Director\\AppData\\Local\\Programs\\Python\\Python310\\lib\\site-packages\\keras\\saving\\saving_utils.py:351\u001b[0m, in \u001b[0;36mtry_build_compiled_arguments\u001b[1;34m(model)\u001b[0m\n\u001b[0;32m    348\u001b[0m \u001b[39mdef\u001b[39;00m \u001b[39mtry_build_compiled_arguments\u001b[39m(model):\n\u001b[0;32m    349\u001b[0m     \u001b[39mif\u001b[39;00m (\n\u001b[0;32m    350\u001b[0m         \u001b[39mnot\u001b[39;00m version_utils\u001b[39m.\u001b[39mis_v1_layer_or_model(model)\n\u001b[1;32m--> 351\u001b[0m         \u001b[39mand\u001b[39;00m model\u001b[39m.\u001b[39;49moutputs \u001b[39mis\u001b[39;00m \u001b[39mnot\u001b[39;00m \u001b[39mNone\u001b[39;00m\n\u001b[0;32m    352\u001b[0m     ):\n\u001b[0;32m    353\u001b[0m         \u001b[39mtry\u001b[39;00m:\n\u001b[0;32m    354\u001b[0m             \u001b[39mif\u001b[39;00m \u001b[39mnot\u001b[39;00m model\u001b[39m.\u001b[39mcompiled_loss\u001b[39m.\u001b[39mbuilt:\n",
      "\u001b[1;31mAttributeError\u001b[0m: 'str' object has no attribute 'outputs'"
     ]
    }
   ],
   "source": [
    "tf.keras.Sequential.save(\"C:\\MakeAIWork\\simulations\\car\\control_client\", norm_sonar_01_model)"
   ]
  },
  {
   "cell_type": "markdown",
   "metadata": {},
   "source": [
    "We can load the model which was saved using the load_model() method present in the tensorflow module.\n",
    "\n",
    "Syntax: tensorflow.keras.models.load_model(location/model_name)\n",
    "\n",
    "The location along with the model name is passed as a parameter in this method.\n",
    "\n",
    "NOTE: If we specify “.h5”, the model will be saved in hdf5 format; if no extension is specified, the model will be saved in TensorFlow native format."
   ]
  },
  {
   "cell_type": "code",
   "execution_count": null,
   "metadata": {},
   "outputs": [],
   "source": [
    "# norm_sonar_01_model.evaluate()"
   ]
  },
  {
   "cell_type": "markdown",
   "metadata": {},
   "source": [
    "- Training en Test (& Validatie?) aanmaken?\n",
    "- Hoe data opslaan en exporteren?\n",
    "- Accuracy?"
   ]
  }
 ],
 "metadata": {
  "kernelspec": {
   "display_name": "Python 3.10.7 64-bit",
   "language": "python",
   "name": "python3"
  },
  "language_info": {
   "codemirror_mode": {
    "name": "ipython",
    "version": 3
   },
   "file_extension": ".py",
   "mimetype": "text/x-python",
   "name": "python",
   "nbconvert_exporter": "python",
   "pygments_lexer": "ipython3",
   "version": "3.10.7"
  },
  "orig_nbformat": 4,
  "vscode": {
   "interpreter": {
    "hash": "5b93afe9c2e217d44e354b055ed180e932b72842f9b6422dadc1ad80da9caf67"
   }
  }
 },
 "nbformat": 4,
 "nbformat_minor": 2
}
