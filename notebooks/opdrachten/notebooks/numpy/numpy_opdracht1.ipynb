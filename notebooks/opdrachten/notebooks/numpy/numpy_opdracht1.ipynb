{
 "cells": [
  {
   "cell_type": "markdown",
   "id": "b45dd50e-d75c-41d2-a549-110cc111e32b",
   "metadata": {},
   "source": [
    "<a href=\"https://it-omscholing.nl/locaties/hogeschool-rotterdam/\">\n",
    "<div>\n",
    "<a><img src='../pics/banner.PNG'/></a>\n",
    "</div>\n",
    "<div>\n",
    "<a href=''><img src='../pics/miw.PNG'/></a>\n",
    "<em>Author: Jeroen Boogaard</em>\n",
    "</div>\n",
    "</a>"
   ]
  },
  {
   "cell_type": "markdown",
   "id": "63f0720b-4a62-479d-873b-c5f6cad9a89d",
   "metadata": {},
   "source": [
    "<h1>Numpy</h1>"
   ]
  },
  {
   "cell_type": "markdown",
   "id": "3619d610-30b3-41a2-b5f0-ae37b9d5b105",
   "metadata": {},
   "source": [
    "**Imports**"
   ]
  },
  {
   "cell_type": "code",
   "execution_count": 2,
   "id": "42257a05-c794-4121-a9cf-fe53fa3a1dc1",
   "metadata": {},
   "outputs": [],
   "source": [
    "import numpy as np\n",
    "import pandas as pd\n",
    "from PIL import Image\n",
    "from scipy import ndimage"
   ]
  },
  {
   "cell_type": "markdown",
   "id": "8e48110a-ff83-4fba-aab9-7cb3678fe668",
   "metadata": {},
   "source": [
    "<h2>Opdracht 1</h2>"
   ]
  },
  {
   "cell_type": "markdown",
   "id": "47ac5b87-14b1-437e-91cb-93dadadef8f9",
   "metadata": {},
   "source": [
    "<h3>Gegeven</h3>"
   ]
  },
  {
   "cell_type": "markdown",
   "id": "8605ba6e-3f4e-4fe1-b76f-c784f2f44735",
   "metadata": {},
   "source": [
    "Planeet | Grootte to.v. de omvang van de Aarde\n",
    "---|---\n",
    "Jupiter | 1120%\n",
    "Saturnus | 945%\n",
    "Uranus | 400%\n",
    "Neptunus | 388%\n",
    "Aarde| 100%\n",
    "Venus | 95%\n",
    "Mars | 53%"
   ]
  },
  {
   "cell_type": "code",
   "execution_count": 3,
   "id": "2b471d98-c5b0-4db0-a1c6-155094548c23",
   "metadata": {},
   "outputs": [],
   "source": [
    "filename = \"csv/planets.csv\""
   ]
  },
  {
   "cell_type": "code",
   "execution_count": 4,
   "id": "e5fa129a-d9a8-4899-ba69-87537e1819f5",
   "metadata": {},
   "outputs": [
    {
     "name": "stdout",
     "output_type": "stream",
     "text": [
      " Volume in drive C is OS\n",
      " Volume Serial Number is BE76-42DF\n",
      "\n",
      " Directory of c:\\MakeAIWork\\notebooks\\opdrachten\\notebooks\\numpy\\pics\n",
      "\n",
      "21/09/2022  14:27    <DIR>          .\n",
      "21/09/2022  14:27    <DIR>          ..\n",
      "21/09/2022  12:27    <DIR>          .ipynb_checkpoints\n",
      "21/09/2022  12:27            29,680 earth.jpg\n",
      "21/09/2022  12:27            27,270 earth_scaled.jpg\n",
      "21/09/2022  12:27            22,232 jupiter.jpg\n",
      "21/09/2022  12:27            27,847 mars.jpg\n",
      "21/09/2022  12:27           414,893 mars.nasa.jpg\n",
      "21/09/2022  12:27            40,854 mercury.jpg\n",
      "21/09/2022  12:27            14,150 neptune.jpg\n",
      "21/09/2022  12:27            40,218 saturn.jpg\n",
      "21/09/2022  12:27             9,969 uranus.jpg\n",
      "21/09/2022  12:27            15,308 venus.jpg\n",
      "21/09/2022  12:27            66,259 venus.png\n",
      "              11 File(s)        708,680 bytes\n",
      "               3 Dir(s)  242,727,858,176 bytes free\n"
     ]
    }
   ],
   "source": [
    "ls pics"
   ]
  },
  {
   "cell_type": "markdown",
   "id": "ad98fa30-0e0a-4ec4-9930-b63db74c11f2",
   "metadata": {},
   "source": [
    "<h3>Gevraagd</h3>\n",
    "<p>\n",
    "Schaal voor elke (erkende) planeet uit ons zonnestelsel de bijbehorende image t.o.v. van de aarde. Het geschaalde plaatje moet groter zijn dan het plaatje van de aarde als de bijbehorende planeet groter is dan de aarde. Is de planeet kleiner dan de aarde dan moet het nieuwe plaatje kleiner zijn. Gebruik voor de schaalfactor het percentage. \n",
    "Tip: Indien nodig kun je de images normaliseren door eerst het plaatje van de aarde te schalen\n",
    "</p>"
   ]
  },
  {
   "cell_type": "markdown",
   "id": "c0c854fb-54db-4baa-b149-2e7d0c1b6391",
   "metadata": {},
   "source": [
    "<h3>Oplossing</h3>\n",
    "<ol>\n",
    "    <li>\n",
    "        <strong>Open het bestand csv/planets.csv en voeg daar de kolom <i>image</i></strong>\n",
    "    </li>\n",
    "    <li>\n",
    "        <strong>Importeer het csv-bestand en sla de data op in een dictionary</strong>\n",
    "    </li>\n",
    "    <li>\n",
    "        <strong>Open een image uit van een item uit de dictionary</strong>\n",
    "    </li>\n",
    "    <li>\n",
    "        <strong>Schaal de image m.b.v. een <i>numpy array</i></strong>\n",
    "    </li>\n",
    "    <li>\n",
    "        <strong>Sla de geschaalde image op</strong>\n",
    "    </li>\n",
    "    <li>\n",
    "        <strong>Schrijf een functie voor het schalen van een image</strong>\n",
    "    </li>    \n",
    "    <li>\n",
    "        <strong>Maak een loop waarbij voor elke planeet een geschaalde image wordt gemaakt en opgelagen</strong>\n",
    "    </li>    \n",
    "</ol>    "
   ]
  },
  {
   "cell_type": "markdown",
   "id": "b2a7b7fb-56b3-43f7-a6b5-34adc057c3d1",
   "metadata": {},
   "source": [
    "**Stap 2: Importeer het csv-bestand en sla de data op in een dictionary**"
   ]
  },
  {
   "cell_type": "code",
   "execution_count": 16,
   "id": "cbcb0e9b-46f8-490d-9a85-eb29037a93cb",
   "metadata": {},
   "outputs": [
    {
     "data": {
      "text/html": [
       "<style type=\"text/css\">\n",
       "</style>\n",
       "<table id=\"T_f3a3c\">\n",
       "  <thead>\n",
       "    <tr>\n",
       "      <th class=\"blank level0\" >&nbsp;</th>\n",
       "      <th id=\"T_f3a3c_level0_col0\" class=\"col_heading level0 col0\" >Name</th>\n",
       "      <th id=\"T_f3a3c_level0_col1\" class=\"col_heading level0 col1\" > Diameter</th>\n",
       "      <th id=\"T_f3a3c_level0_col2\" class=\"col_heading level0 col2\" > Mass</th>\n",
       "      <th id=\"T_f3a3c_level0_col3\" class=\"col_heading level0 col3\" > Inclination</th>\n",
       "      <th id=\"T_f3a3c_level0_col4\" class=\"col_heading level0 col4\" > Eccentricity</th>\n",
       "      <th id=\"T_f3a3c_level0_col5\" class=\"col_heading level0 col5\" > Semi_majorAxis</th>\n",
       "      <th id=\"T_f3a3c_level0_col6\" class=\"col_heading level0 col6\" > SurfaceGravity</th>\n",
       "      <th id=\"T_f3a3c_level0_col7\" class=\"col_heading level0 col7\" > OrbitalPeriod</th>\n",
       "      <th id=\"T_f3a3c_level0_col8\" class=\"col_heading level0 col8\" > SiderealRotation</th>\n",
       "      <th id=\"T_f3a3c_level0_col9\" class=\"col_heading level0 col9\" > Satellites</th>\n",
       "      <th id=\"T_f3a3c_level0_col10\" class=\"col_heading level0 col10\" > DistanceToSun</th>\n",
       "      <th id=\"T_f3a3c_level0_col11\" class=\"col_heading level0 col11\" > Type</th>\n",
       "    </tr>\n",
       "  </thead>\n",
       "  <tbody>\n",
       "    <tr>\n",
       "      <th id=\"T_f3a3c_level0_row0\" class=\"row_heading level0 row0\" >0</th>\n",
       "      <td id=\"T_f3a3c_row0_col0\" class=\"data row0 col0\" >Mercury</td>\n",
       "      <td id=\"T_f3a3c_row0_col1\" class=\"data row0 col1\" >4879.400000</td>\n",
       "      <td id=\"T_f3a3c_row0_col2\" class=\"data row0 col2\" > 3.302×10^23</td>\n",
       "      <td id=\"T_f3a3c_row0_col3\" class=\"data row0 col3\" >7.004000</td>\n",
       "      <td id=\"T_f3a3c_row0_col4\" class=\"data row0 col4\" >0.205636</td>\n",
       "      <td id=\"T_f3a3c_row0_col5\" class=\"data row0 col5\" >0.387099</td>\n",
       "      <td id=\"T_f3a3c_row0_col6\" class=\"data row0 col6\" >3.700000</td>\n",
       "      <td id=\"T_f3a3c_row0_col7\" class=\"data row0 col7\" >0.241000</td>\n",
       "      <td id=\"T_f3a3c_row0_col8\" class=\"data row0 col8\" >58.650000</td>\n",
       "      <td id=\"T_f3a3c_row0_col9\" class=\"data row0 col9\" >0</td>\n",
       "      <td id=\"T_f3a3c_row0_col10\" class=\"data row0 col10\" >0.390000</td>\n",
       "      <td id=\"T_f3a3c_row0_col11\" class=\"data row0 col11\" > terrestrial</td>\n",
       "    </tr>\n",
       "    <tr>\n",
       "      <th id=\"T_f3a3c_level0_row1\" class=\"row_heading level0 row1\" >1</th>\n",
       "      <td id=\"T_f3a3c_row1_col0\" class=\"data row1 col0\" >Venus</td>\n",
       "      <td id=\"T_f3a3c_row1_col1\" class=\"data row1 col1\" >12103.600000</td>\n",
       "      <td id=\"T_f3a3c_row1_col2\" class=\"data row1 col2\" > 4.869×10^24</td>\n",
       "      <td id=\"T_f3a3c_row1_col3\" class=\"data row1 col3\" >3.394710</td>\n",
       "      <td id=\"T_f3a3c_row1_col4\" class=\"data row1 col4\" >0.006777</td>\n",
       "      <td id=\"T_f3a3c_row1_col5\" class=\"data row1 col5\" >0.723336</td>\n",
       "      <td id=\"T_f3a3c_row1_col6\" class=\"data row1 col6\" >8.870000</td>\n",
       "      <td id=\"T_f3a3c_row1_col7\" class=\"data row1 col7\" >0.615000</td>\n",
       "      <td id=\"T_f3a3c_row1_col8\" class=\"data row1 col8\" >243.018700</td>\n",
       "      <td id=\"T_f3a3c_row1_col9\" class=\"data row1 col9\" >0</td>\n",
       "      <td id=\"T_f3a3c_row1_col10\" class=\"data row1 col10\" >0.723000</td>\n",
       "      <td id=\"T_f3a3c_row1_col11\" class=\"data row1 col11\" > terrestrial</td>\n",
       "    </tr>\n",
       "    <tr>\n",
       "      <th id=\"T_f3a3c_level0_row2\" class=\"row_heading level0 row2\" >2</th>\n",
       "      <td id=\"T_f3a3c_row2_col0\" class=\"data row2 col0\" >Earth</td>\n",
       "      <td id=\"T_f3a3c_row2_col1\" class=\"data row2 col1\" >12756.300000</td>\n",
       "      <td id=\"T_f3a3c_row2_col2\" class=\"data row2 col2\" > 5.974×10^24</td>\n",
       "      <td id=\"T_f3a3c_row2_col3\" class=\"data row2 col3\" >0.000050</td>\n",
       "      <td id=\"T_f3a3c_row2_col4\" class=\"data row2 col4\" >0.016711</td>\n",
       "      <td id=\"T_f3a3c_row2_col5\" class=\"data row2 col5\" >1.000003</td>\n",
       "      <td id=\"T_f3a3c_row2_col6\" class=\"data row2 col6\" >9.780000</td>\n",
       "      <td id=\"T_f3a3c_row2_col7\" class=\"data row2 col7\" >1.000000</td>\n",
       "      <td id=\"T_f3a3c_row2_col8\" class=\"data row2 col8\" >0.997271</td>\n",
       "      <td id=\"T_f3a3c_row2_col9\" class=\"data row2 col9\" >1</td>\n",
       "      <td id=\"T_f3a3c_row2_col10\" class=\"data row2 col10\" >1.000000</td>\n",
       "      <td id=\"T_f3a3c_row2_col11\" class=\"data row2 col11\" > terrestrial</td>\n",
       "    </tr>\n",
       "    <tr>\n",
       "      <th id=\"T_f3a3c_level0_row3\" class=\"row_heading level0 row3\" >3</th>\n",
       "      <td id=\"T_f3a3c_row3_col0\" class=\"data row3 col0\" >Mars</td>\n",
       "      <td id=\"T_f3a3c_row3_col1\" class=\"data row3 col1\" >6794.400000</td>\n",
       "      <td id=\"T_f3a3c_row3_col2\" class=\"data row3 col2\" > 6.419×10^23</td>\n",
       "      <td id=\"T_f3a3c_row3_col3\" class=\"data row3 col3\" >1.850610</td>\n",
       "      <td id=\"T_f3a3c_row3_col4\" class=\"data row3 col4\" >0.093394</td>\n",
       "      <td id=\"T_f3a3c_row3_col5\" class=\"data row3 col5\" >1.523710</td>\n",
       "      <td id=\"T_f3a3c_row3_col6\" class=\"data row3 col6\" >3.710000</td>\n",
       "      <td id=\"T_f3a3c_row3_col7\" class=\"data row3 col7\" >1.881000</td>\n",
       "      <td id=\"T_f3a3c_row3_col8\" class=\"data row3 col8\" >1.025950</td>\n",
       "      <td id=\"T_f3a3c_row3_col9\" class=\"data row3 col9\" >2</td>\n",
       "      <td id=\"T_f3a3c_row3_col10\" class=\"data row3 col10\" >1.524000</td>\n",
       "      <td id=\"T_f3a3c_row3_col11\" class=\"data row3 col11\" > terrestrial</td>\n",
       "    </tr>\n",
       "    <tr>\n",
       "      <th id=\"T_f3a3c_level0_row4\" class=\"row_heading level0 row4\" >4</th>\n",
       "      <td id=\"T_f3a3c_row4_col0\" class=\"data row4 col0\" >Jupiter</td>\n",
       "      <td id=\"T_f3a3c_row4_col1\" class=\"data row4 col1\" >142984.000000</td>\n",
       "      <td id=\"T_f3a3c_row4_col2\" class=\"data row4 col2\" > 1.899×10^27</td>\n",
       "      <td id=\"T_f3a3c_row4_col3\" class=\"data row4 col3\" >1.305300</td>\n",
       "      <td id=\"T_f3a3c_row4_col4\" class=\"data row4 col4\" >0.048386</td>\n",
       "      <td id=\"T_f3a3c_row4_col5\" class=\"data row4 col5\" >5.202887</td>\n",
       "      <td id=\"T_f3a3c_row4_col6\" class=\"data row4 col6\" >24.790000</td>\n",
       "      <td id=\"T_f3a3c_row4_col7\" class=\"data row4 col7\" >11.860000</td>\n",
       "      <td id=\"T_f3a3c_row4_col8\" class=\"data row4 col8\" >0.413500</td>\n",
       "      <td id=\"T_f3a3c_row4_col9\" class=\"data row4 col9\" >63</td>\n",
       "      <td id=\"T_f3a3c_row4_col10\" class=\"data row4 col10\" >5.203000</td>\n",
       "      <td id=\"T_f3a3c_row4_col11\" class=\"data row4 col11\" > jovian</td>\n",
       "    </tr>\n",
       "    <tr>\n",
       "      <th id=\"T_f3a3c_level0_row5\" class=\"row_heading level0 row5\" >5</th>\n",
       "      <td id=\"T_f3a3c_row5_col0\" class=\"data row5 col0\" >Saturn</td>\n",
       "      <td id=\"T_f3a3c_row5_col1\" class=\"data row5 col1\" >120536.000000</td>\n",
       "      <td id=\"T_f3a3c_row5_col2\" class=\"data row5 col2\" > 5.688×10^26</td>\n",
       "      <td id=\"T_f3a3c_row5_col3\" class=\"data row5 col3\" >2.484460</td>\n",
       "      <td id=\"T_f3a3c_row5_col4\" class=\"data row5 col4\" >0.053862</td>\n",
       "      <td id=\"T_f3a3c_row5_col5\" class=\"data row5 col5\" >9.536676</td>\n",
       "      <td id=\"T_f3a3c_row5_col6\" class=\"data row5 col6\" >8.960000</td>\n",
       "      <td id=\"T_f3a3c_row5_col7\" class=\"data row5 col7\" >29.460000</td>\n",
       "      <td id=\"T_f3a3c_row5_col8\" class=\"data row5 col8\" >0.426400</td>\n",
       "      <td id=\"T_f3a3c_row5_col9\" class=\"data row5 col9\" >64</td>\n",
       "      <td id=\"T_f3a3c_row5_col10\" class=\"data row5 col10\" >9.539000</td>\n",
       "      <td id=\"T_f3a3c_row5_col11\" class=\"data row5 col11\" > jovian</td>\n",
       "    </tr>\n",
       "    <tr>\n",
       "      <th id=\"T_f3a3c_level0_row6\" class=\"row_heading level0 row6\" >6</th>\n",
       "      <td id=\"T_f3a3c_row6_col0\" class=\"data row6 col0\" >Uranus</td>\n",
       "      <td id=\"T_f3a3c_row6_col1\" class=\"data row6 col1\" >51118.000000</td>\n",
       "      <td id=\"T_f3a3c_row6_col2\" class=\"data row6 col2\" > 8.683×10^25</td>\n",
       "      <td id=\"T_f3a3c_row6_col3\" class=\"data row6 col3\" >0.774000</td>\n",
       "      <td id=\"T_f3a3c_row6_col4\" class=\"data row6 col4\" >0.047257</td>\n",
       "      <td id=\"T_f3a3c_row6_col5\" class=\"data row6 col5\" >19.189165</td>\n",
       "      <td id=\"T_f3a3c_row6_col6\" class=\"data row6 col6\" >7.770000</td>\n",
       "      <td id=\"T_f3a3c_row6_col7\" class=\"data row6 col7\" >84.010000</td>\n",
       "      <td id=\"T_f3a3c_row6_col8\" class=\"data row6 col8\" >0.718100</td>\n",
       "      <td id=\"T_f3a3c_row6_col9\" class=\"data row6 col9\" >27</td>\n",
       "      <td id=\"T_f3a3c_row6_col10\" class=\"data row6 col10\" >19.180000</td>\n",
       "      <td id=\"T_f3a3c_row6_col11\" class=\"data row6 col11\" > jovian</td>\n",
       "    </tr>\n",
       "    <tr>\n",
       "      <th id=\"T_f3a3c_level0_row7\" class=\"row_heading level0 row7\" >7</th>\n",
       "      <td id=\"T_f3a3c_row7_col0\" class=\"data row7 col0\" >Neptune</td>\n",
       "      <td id=\"T_f3a3c_row7_col1\" class=\"data row7 col1\" >49572.000000</td>\n",
       "      <td id=\"T_f3a3c_row7_col2\" class=\"data row7 col2\" > 1.024×10^26</td>\n",
       "      <td id=\"T_f3a3c_row7_col3\" class=\"data row7 col3\" >1.769170</td>\n",
       "      <td id=\"T_f3a3c_row7_col4\" class=\"data row7 col4\" >0.008590</td>\n",
       "      <td id=\"T_f3a3c_row7_col5\" class=\"data row7 col5\" >30.069923</td>\n",
       "      <td id=\"T_f3a3c_row7_col6\" class=\"data row7 col6\" >11.000000</td>\n",
       "      <td id=\"T_f3a3c_row7_col7\" class=\"data row7 col7\" >164.790000</td>\n",
       "      <td id=\"T_f3a3c_row7_col8\" class=\"data row7 col8\" >0.671200</td>\n",
       "      <td id=\"T_f3a3c_row7_col9\" class=\"data row7 col9\" >14</td>\n",
       "      <td id=\"T_f3a3c_row7_col10\" class=\"data row7 col10\" >30.060000</td>\n",
       "      <td id=\"T_f3a3c_row7_col11\" class=\"data row7 col11\" > jovian</td>\n",
       "    </tr>\n",
       "  </tbody>\n",
       "</table>\n"
      ],
      "text/plain": [
       "<pandas.io.formats.style.Styler at 0x1a86d733220>"
      ]
     },
     "execution_count": 16,
     "metadata": {},
     "output_type": "execute_result"
    }
   ],
   "source": [
    "planetDataFrame = pd.read_csv(filename, header = 0, sep = ',')\n",
    "# print(planetDataFrame)\n",
    "# type(planetDataFrame)\n",
    "# print(planetDataFrame.columns)\n",
    "# planetDataFrame.head()  # of .style"
   ]
  },
  {
   "cell_type": "markdown",
   "id": "9d9d8c73-c8fa-41b0-848c-04741aa06bbf",
   "metadata": {},
   "source": [
    "**Stap 3: Open een image uit van een item uit de dictionary**"
   ]
  },
  {
   "cell_type": "code",
   "execution_count": 6,
   "id": "83d43bb9-694e-4390-a8a3-30f6535f6591",
   "metadata": {},
   "outputs": [
    {
     "data": {
      "text/plain": [
       "PIL.JpegImagePlugin.JpegImageFile"
      ]
     },
     "execution_count": 6,
     "metadata": {},
     "output_type": "execute_result"
    }
   ],
   "source": [
    "img = Image.open('pics/earth.jpg')\n",
    "type(img)\n",
    "# img.show()"
   ]
  },
  {
   "cell_type": "markdown",
   "id": "645b438b-324d-427c-9efd-d621e37445f7",
   "metadata": {
    "tags": []
   },
   "source": [
    "**Stap 4: Schaal de image m.b.v. een numpy array**"
   ]
  },
  {
   "cell_type": "code",
   "execution_count": 7,
   "id": "8894e6bd-6237-4cf6-8d95-222d6a3be56e",
   "metadata": {},
   "outputs": [],
   "source": [
    "array = np.array(img)\n",
    "type(array)\n",
    "scaleFactor = 1\n",
    "scaleArray = ndimage.zoom(array, (scaleFactor, scaleFactor, 1))\n",
    "imgScaled = Image.fromarray(scaleArray)\n",
    "# imgScaled.show()"
   ]
  },
  {
   "cell_type": "markdown",
   "id": "8611929d-d109-4f62-881f-b8a64db1e648",
   "metadata": {},
   "source": [
    "**Stap 5: Sla de geschaalde image op**"
   ]
  },
  {
   "cell_type": "code",
   "execution_count": 8,
   "id": "2e34fa25-3cc3-4e5f-b29a-7793e505db61",
   "metadata": {},
   "outputs": [],
   "source": [
    "imgScaled.save(img.filename.replace(\".jpg\",\"_scaled.jpg\"))"
   ]
  },
  {
   "cell_type": "markdown",
   "id": "f142ebe1-f561-447b-8e2e-e8855b20cd50",
   "metadata": {},
   "source": [
    "**Stap 6: Schrijf een functie voor het schalen van een image**"
   ]
  },
  {
   "cell_type": "markdown",
   "id": "5a550077-c83c-4af2-96fa-7a32158d5198",
   "metadata": {},
   "source": [
    "**Stap 7: Maak een loop waarbij voor elke planeet een geschaalde image wordt gemaakt en opgelagen**"
   ]
  },
  {
   "cell_type": "markdown",
   "id": "a668a8e8-4d7e-4c6d-adbc-61935887fabe",
   "metadata": {},
   "source": [
    "<h4>Bonus: Voeg Mercurius aan de tabel toe en schaal ook daarvan het plaatje</h4>"
   ]
  },
  {
   "cell_type": "markdown",
   "id": "11d181d1-c906-4ad1-9d8f-69836a4e8cc7",
   "metadata": {},
   "source": [
    "</ol>"
   ]
  },
  {
   "cell_type": "markdown",
   "id": "03ac855f-3986-4b4a-823c-10c6d8b33024",
   "metadata": {},
   "source": [
    "</ol>"
   ]
  },
  {
   "cell_type": "markdown",
   "id": "0be19a7e-a00f-4773-a19a-50b07618f856",
   "metadata": {},
   "source": [
    "\n"
   ]
  }
 ],
 "metadata": {
  "kernelspec": {
   "display_name": "Python 3.10.7 64-bit",
   "language": "python",
   "name": "python3"
  },
  "language_info": {
   "codemirror_mode": {
    "name": "ipython",
    "version": 3
   },
   "file_extension": ".py",
   "mimetype": "text/x-python",
   "name": "python",
   "nbconvert_exporter": "python",
   "pygments_lexer": "ipython3",
   "version": "3.10.7"
  },
  "vscode": {
   "interpreter": {
    "hash": "5b93afe9c2e217d44e354b055ed180e932b72842f9b6422dadc1ad80da9caf67"
   }
  }
 },
 "nbformat": 4,
 "nbformat_minor": 5
}
