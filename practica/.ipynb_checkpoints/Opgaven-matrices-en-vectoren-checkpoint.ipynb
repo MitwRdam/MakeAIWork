{
 "cells": [
  {
   "cell_type": "markdown",
   "id": "2ea724be",
   "metadata": {},
   "source": [
    "# Matrices en vectoren"
   ]
  },
  {
   "cell_type": "markdown",
   "id": "18595eca",
   "metadata": {},
   "source": [
    "Er zijn meerdere manieren om een matrix te representeren.\n",
    "\n",
    "Hier kiezen we voor het volgende datamodel:\n",
    "\n",
    "`matrix_2D :: {rows: int, cols: int, data: []}`\n",
    "\n",
    "Implementeer onderstaande opdrachten in Python."
   ]
  },
  {
   "cell_type": "markdown",
   "id": "42182308",
   "metadata": {},
   "source": [
    "## Vectoren"
   ]
  },
  {
   "cell_type": "markdown",
   "id": "db43ccb1",
   "metadata": {},
   "source": [
    "### 1. Een vector als rij*"
   ]
  },
  {
   "cell_type": "markdown",
   "id": "e9ac731a",
   "metadata": {},
   "source": [
    "Representeer de onderstaande vector in code:\n",
    "\n",
    "$$\n",
    "  \\begin{pmatrix}\n",
    "    1 & 2 & 3\n",
    "  \\end{pmatrix}\n",
    "$$"
   ]
  },
  {
   "cell_type": "code",
   "execution_count": 1,
   "id": "72c55633",
   "metadata": {},
   "outputs": [],
   "source": [
    "# How many rows and colums does this vector have?\n",
    "\n",
    "# ...\n",
    "\n",
    "# Use the definition at the top to implement this vector:\n",
    "\n",
    "# vec = ...\n",
    "\n",
    "# Can you print its dimensions? (rows, cols)\n",
    "\n",
    "# ...\n",
    "\n",
    "# Can you print the number of elements?\n",
    "\n",
    "# ..."
   ]
  },
  {
   "cell_type": "markdown",
   "id": "0abbc0ad",
   "metadata": {},
   "source": [
    "### 2. Een vector als kolom*"
   ]
  },
  {
   "cell_type": "markdown",
   "id": "ac4f647f",
   "metadata": {},
   "source": [
    "Representeer de onderstaande vector in code:\n",
    "\n",
    "$$\n",
    "  \\begin{pmatrix}\n",
    "    1 \\\\\n",
    "    2 \\\\\n",
    "    3\n",
    "  \\end{pmatrix}\n",
    "$$"
   ]
  },
  {
   "cell_type": "code",
   "execution_count": 2,
   "id": "f4f6bfc9",
   "metadata": {},
   "outputs": [],
   "source": [
    "# How many rows and colums does this vector have?\n",
    "\n",
    "# ...\n",
    "\n",
    "# Use the definition at the top to implement this vector:\n",
    "\n",
    "# vec = ...\n",
    "\n",
    "# Can you print its dimensions? (rows, cols)\n",
    "\n",
    "# ...\n",
    "\n",
    "# Can you print the number of elements?\n",
    "\n",
    "# ..."
   ]
  },
  {
   "cell_type": "markdown",
   "id": "8de02084",
   "metadata": {},
   "source": [
    "### 3. Vectoren optellen**"
   ]
  },
  {
   "cell_type": "markdown",
   "id": "c2edbb39",
   "metadata": {},
   "source": [
    "Tel de onderstaande vectoren bij elkaar op:\n",
    "\n",
    "$$\n",
    "  \\begin{pmatrix}\n",
    "    1 \\\\\n",
    "    2 \\\\\n",
    "    3\n",
    "  \\end{pmatrix}\n",
    "  +\n",
    "    \\begin{pmatrix}\n",
    "    9 \\\\\n",
    "    8 \\\\\n",
    "    7\n",
    "  \\end{pmatrix}\n",
    "  =\n",
    "  ...\n",
    "$$"
   ]
  },
  {
   "cell_type": "code",
   "execution_count": 3,
   "id": "9fd6bc2a",
   "metadata": {},
   "outputs": [],
   "source": [
    "# Implement both vectors:\n",
    "\n",
    "# vec1 = ...\n",
    "# vec2 = ...\n",
    "\n",
    "# Can we add them? Check if dimensions are the same:\n",
    "\n",
    "# ...\n",
    "\n",
    "# How do you add these vectors by hand?\n",
    "\n",
    "# ...\n",
    "\n",
    "# Now add the vectors in code:\n",
    "\n",
    "# ..."
   ]
  },
  {
   "cell_type": "markdown",
   "id": "10e3be49",
   "metadata": {},
   "source": [
    "Tel de onderstaande vectoren bij elkaar op:\n",
    "\n",
    "$$\n",
    "  \\begin{pmatrix}\n",
    "    1 & 2 & 3\n",
    "  \\end{pmatrix}\n",
    "  +\n",
    "  \\begin{pmatrix}\n",
    "    9 & 8 & 7\n",
    "  \\end{pmatrix}\n",
    "  =\n",
    "  ...\n",
    "$$"
   ]
  },
  {
   "cell_type": "code",
   "execution_count": 4,
   "id": "3319db0c",
   "metadata": {},
   "outputs": [],
   "source": [
    "# Implement both vectors:\n",
    "\n",
    "# vec1 = ...\n",
    "# vec2 = ...\n",
    "\n",
    "# Can we add them? Check if dimensions are the same:\n",
    "\n",
    "# ...\n",
    "\n",
    "# How do you add these vectors by hand?\n",
    "\n",
    "# ...\n",
    "\n",
    "# Now add the vectors in code:\n",
    "\n",
    "# ..."
   ]
  },
  {
   "cell_type": "markdown",
   "id": "ecf7d53a",
   "metadata": {},
   "source": [
    "## Matrices"
   ]
  },
  {
   "cell_type": "markdown",
   "id": "aea58d0c",
   "metadata": {},
   "source": [
    "### 1. Een 3 x 3 matrix*"
   ]
  },
  {
   "cell_type": "markdown",
   "id": "8ecdf748",
   "metadata": {},
   "source": [
    "Representeer de onderstaande matrix in code:\n",
    "\n",
    "$$\n",
    "  \\begin{pmatrix}\n",
    "    1 & 2 & 3\\\\\n",
    "    4 & 5 & 6\\\\\n",
    "    7 & 8 & 9\\\\\n",
    "  \\end{pmatrix}\n",
    "$$"
   ]
  },
  {
   "cell_type": "code",
   "execution_count": 5,
   "id": "744a8d77",
   "metadata": {},
   "outputs": [],
   "source": [
    "# How many rows and colums does this matrix have?\n",
    "\n",
    "# ...\n",
    "\n",
    "# Use the definition at the top to implement this matrix:\n",
    "\n",
    "# mat = ...\n",
    "\n",
    "# Can you print its dimensions? (rows, cols)\n",
    "\n",
    "# ...\n",
    "\n",
    "# Can you print the number of elements?\n",
    "\n",
    "# ..."
   ]
  },
  {
   "cell_type": "markdown",
   "id": "78d195fb",
   "metadata": {},
   "source": [
    "### 2. Matrices optellen**"
   ]
  },
  {
   "cell_type": "markdown",
   "id": "1554b6d8",
   "metadata": {},
   "source": [
    "Tel de onderstaande matrices op:\n",
    "\n",
    "$$\n",
    "  \\begin{pmatrix}\n",
    "    1 & 2 & 3\\\\\n",
    "    4 & 5 & 6\\\\\n",
    "    7 & 8 & 9\\\\\n",
    "  \\end{pmatrix}\n",
    "  +\n",
    "    \\begin{pmatrix}\n",
    "    9 & 8 & 7\\\\\n",
    "    6 & 5 & 4\\\\\n",
    "    3 & 2 & 1\\\\\n",
    "  \\end{pmatrix}\n",
    "  =\n",
    "  ...\n",
    "$$"
   ]
  },
  {
   "cell_type": "code",
   "execution_count": null,
   "id": "ac6bd48c",
   "metadata": {},
   "outputs": [],
   "source": [
    "# Implement both matrices:\n",
    "\n",
    "# mat1 = ...\n",
    "# mat2 = ...\n",
    "\n",
    "# Can we add them? Check if dimensions are the same:\n",
    "\n",
    "# ...\n",
    "\n",
    "# How do you add these matrices by hand?\n",
    "\n",
    "# ...\n",
    "\n",
    "# Now add the matrices in code:\n",
    "\n",
    "# ...\n",
    "\n",
    "# In case you didn't: can you generalize this algorithm?\n",
    "\n",
    "# ..."
   ]
  },
  {
   "cell_type": "markdown",
   "id": "7bff9837",
   "metadata": {},
   "source": [
    "### 3. Matrices vermenigvuldigen***"
   ]
  },
  {
   "cell_type": "markdown",
   "id": "4dba734d",
   "metadata": {},
   "source": [
    "Vermenigvuldig de onderstaande matrices:\n",
    "\n",
    "$$\n",
    "  \\begin{pmatrix}\n",
    "    1 & 2 & 3\\\\\n",
    "    4 & 5 & 6\n",
    "  \\end{pmatrix}\n",
    "  *\n",
    "    \\begin{pmatrix}\n",
    "    9 & 8\\\\\n",
    "    6 & 5\\\\\n",
    "    3 & 2\\\\\n",
    "  \\end{pmatrix}\n",
    "  =\n",
    "  ...\n",
    "$$"
   ]
  },
  {
   "cell_type": "code",
   "execution_count": 7,
   "id": "9895aaab",
   "metadata": {},
   "outputs": [],
   "source": [
    "# Implement both matrices:\n",
    "\n",
    "# mat1 = ...\n",
    "# mat2 = ...\n",
    "\n",
    "# Can we multiply them? Check if dimensions satisfy the (M by N) * (N by K) = (M by K) rule:\n",
    "\n",
    "# ...\n",
    "\n",
    "# How do you multiply these matrices by hand?\n",
    "\n",
    "# ...\n",
    "\n",
    "# Now multiply the matrices in code:\n",
    "\n",
    "# ...\n",
    "\n",
    "# In case you didn't: can you generalize this algorithm?\n",
    "\n",
    "# ..."
   ]
  }
 ],
 "metadata": {
  "kernelspec": {
   "display_name": "Python 3 (ipykernel)",
   "language": "python",
   "name": "python3"
  },
  "language_info": {
   "codemirror_mode": {
    "name": "ipython",
    "version": 3
   },
   "file_extension": ".py",
   "mimetype": "text/x-python",
   "name": "python",
   "nbconvert_exporter": "python",
   "pygments_lexer": "ipython3",
   "version": "3.10.9"
  }
 },
 "nbformat": 4,
 "nbformat_minor": 5
}
