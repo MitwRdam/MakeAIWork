{
 "cells": [
  {
   "cell_type": "markdown",
   "id": "6e93d43b",
   "metadata": {},
   "source": [
    "# Beslissen en herhalen"
   ]
  },
  {
   "cell_type": "markdown",
   "id": "a4f6c97b",
   "metadata": {
    "jupyter": {
     "source_hidden": true
    },
    "tags": []
   },
   "source": [
    "Om effectief te kunnen programmeren moet je:\n",
    "\n",
    "#### 1. Weten welke basisinstructies je tot je beschikking hebt\n",
    "Een mooi startpunt is [W3Schools over Python](https://www.w3schools.com/python/default.asp).\n",
    "\n",
    "\n",
    "#### 2. Weten hoe je de juiste instructies kunt vinden\n",
    "De zoektermen volgen uit je literate programming beschrijving en je pseudo code.\n",
    "\n",
    "### Let op!\n",
    "Het kan verleidelijk zijn om de OPLOSSING te googlen, zeker in het begin.\n",
    "\n",
    "##### Als je merkt dat je dit aan het doen bent, dan heb je de literate programming steps niet precies genoeg uitgewerkt.\n",
    "De opdracht is dan te groot en te complex."
   ]
  },
  {
   "cell_type": "markdown",
   "id": "92ed6127",
   "metadata": {},
   "source": [
    "## Basics: beslissen"
   ]
  },
  {
   "cell_type": "markdown",
   "id": "e0b00e53",
   "metadata": {},
   "source": [
    "Bestudeer [if else statements](https://www.w3schools.com/python/python_conditions.asp)\n",
    "\n",
    "(de voorbeelden zijn interactief)"
   ]
  },
  {
   "cell_type": "markdown",
   "id": "eb320abd",
   "metadata": {},
   "source": [
    "### 1. Vergelijken**"
   ]
  },
  {
   "cell_type": "markdown",
   "id": "f522b9d8",
   "metadata": {},
   "source": [
    "- Laat de gebruiker twee woorden invoeren\n",
    "- Geef aan welk woord het langs is\n",
    "- Neem ook het geval dat ze gelijk zijn mee\n",
    "- Print het resultaat\n",
    "\n",
    "Hint: je mag in dit geval [de functie len()](https://www.w3schools.com/python/python_strings.asp) gebruiken"
   ]
  },
  {
   "cell_type": "code",
   "execution_count": null,
   "id": "0e2aedfa",
   "metadata": {
    "tags": []
   },
   "outputs": [],
   "source": [
    "# 1. Formulate a solution\n",
    "word1 = str(input(\"please input first word and press ENTER:\"))\n",
    "word2 = str(input(\"please input second word and press ENTER:\"))\n",
    "\n",
    "if len(word1) > len(word2): \n",
    "    \n",
    "    print(word1 + \" is longer than \" + word2)\n",
    "   \n",
    "    \n",
    "elif len(word1) == len(word2):\n",
    " \n",
    "    print(word1 + \" is as long as \" +  word2)\n",
    "    \n",
    "else:\n",
    "\n",
    "    print(word2 + \" is longer than \" + word1)\n",
    "       \n",
    "\n",
    "# 2. Implement the solution"
   ]
  },
  {
   "cell_type": "markdown",
   "id": "0b5a8819",
   "metadata": {},
   "source": [
    "### 2. Categoriseren**"
   ]
  },
  {
   "cell_type": "markdown",
   "id": "49270585",
   "metadata": {},
   "source": [
    "- Vraag de gebruiker om een getal\n",
    "- Bepaal of dit getal even is\n",
    "- Print het resultaat\n",
    "\n",
    "Hint: je mag in dit geval de [operatoren '/' en '%'](https://www.w3schools.com/python/python_operators.asp) gebruiken"
   ]
  },
  {
   "cell_type": "code",
   "execution_count": null,
   "id": "98a288c9",
   "metadata": {
    "tags": []
   },
   "outputs": [],
   "source": [
    "# 1. Formulate a solution\n",
    "number = int(input(\"please input a NUMBER:\"))\n",
    "\n",
    "if number % 2 == 0:\n",
    "    \n",
    "    print(\"your number is even\")\n",
    "    \n",
    "else:\n",
    "    print(\"your number is not odden\")\n",
    "    \n",
    "\n",
    "# 2. Implement the solution"
   ]
  },
  {
   "cell_type": "markdown",
   "id": "2be34655",
   "metadata": {},
   "source": [
    "## Basics: herhalen"
   ]
  },
  {
   "cell_type": "markdown",
   "id": "8491ff0e",
   "metadata": {},
   "source": [
    "Bestudeer [for loops](https://www.w3schools.com/python/python_for_loops.asp)\n",
    "\n",
    "Bestudeer [while loops](https://www.w3schools.com/python/python_while_loops.asp)\n",
    "\n",
    "(de voorbeelden zijn interactief)"
   ]
  },
  {
   "cell_type": "markdown",
   "id": "af980848",
   "metadata": {},
   "source": [
    "### 1. Printen*"
   ]
  },
  {
   "cell_type": "markdown",
   "id": "120a2dd8",
   "metadata": {},
   "source": [
    "- Print je naam 23 keer uit\n",
    "\n",
    "Extra: kun je het er ook een nummer voor zetten?\n",
    "\n",
    "    1. Ruud\n",
    "    2. Ruud\n",
    "    3. Ruud\n",
    "\n",
    "    ...\n",
    "\n",
    "Hint: kijk nog eens naar de les van Jeroen over strings"
   ]
  },
  {
   "cell_type": "code",
   "execution_count": null,
   "id": "4d8cb9fb",
   "metadata": {},
   "outputs": [],
   "source": [
    "# 1. Formulate a solution\n",
    "name = input(\"please input your name and press ENTER: \")\n",
    "number = int(input(\"please enter one number and press ENTER: \"))\n",
    "counter = 0\n",
    "\n",
    "while counter <= number:\n",
    "\n",
    "    print(name)\n",
    "    counter = counter + 1\n",
    "    \n",
    "\n",
    "\n",
    "# 2. Implement the solution"
   ]
  },
  {
   "cell_type": "markdown",
   "id": "379ec167",
   "metadata": {},
   "source": [
    "### 2. Optellen*"
   ]
  },
  {
   "cell_type": "markdown",
   "id": "d21d8212",
   "metadata": {},
   "source": [
    "- Tel de getallen 0, 1, 2, ... t/m 100 op\n",
    "- Print het resultaat"
   ]
  },
  {
   "cell_type": "code",
   "execution_count": null,
   "id": "92ac6462",
   "metadata": {},
   "outputs": [],
   "source": [
    "# 1. Formulate a solution\n",
    "number = int(input(\"please input one Number: \"))\n",
    "\n",
    "counter = 0\n",
    "sum = 0\n",
    "while counter <= number:\n",
    "    \n",
    "    sum = sum + counter\n",
    "    counter = counter + 1\n",
    "   \n",
    "    \n",
    "print(\"sumation is = \" + str(sum))\n",
    "\n",
    "# 2. Implement the solution"
   ]
  },
  {
   "cell_type": "code",
   "execution_count": null,
   "id": "5a5c1248-5aad-4b90-9083-086e1adb599a",
   "metadata": {},
   "outputs": [],
   "source": [
    "num1 = int(input(\"please input the first number: \"))\n",
    "num2 = int(input(\"please inter second number: \"))\n",
    "print(((num1 + num2)*(num2 - num1 + 1))/2)"
   ]
  },
  {
   "cell_type": "code",
   "execution_count": null,
   "id": "28bb63f8-49ef-44ef-afdf-029c1f3268c8",
   "metadata": {},
   "outputs": [],
   "source": [
    "\n",
    "number = 0\n",
    "\n",
    "while number <= 100:\n",
    "    \n",
    "    print(number)\n",
    "    number = number + 1\n",
    "    \n",
    "\n",
    "# 2. Implement the solution"
   ]
  },
  {
   "cell_type": "markdown",
   "id": "9d394ec4",
   "metadata": {},
   "source": [
    "### 3. Print een specifieke som**"
   ]
  },
  {
   "cell_type": "markdown",
   "id": "894c9c7e",
   "metadata": {},
   "source": [
    "- Print de som van een getal en het vorige getal\n",
    "- Doe dit van nul tot aan een getal dat de gebruiker invoert"
   ]
  },
  {
   "cell_type": "code",
   "execution_count": null,
   "id": "d6274b0a",
   "metadata": {},
   "outputs": [],
   "source": [
    "# 1. Formulate a solution\n",
    "number = int(input(\"please input one Number: \"))\n",
    "\n",
    "counter = number - 1\n",
    "    \n",
    "while counter >= 0:\n",
    "    \n",
    "    print(counter + counter + 1)\n",
    "    \n",
    "    counter = counter - 1\n",
    "\n",
    "\n",
    "# 2. Implement the solution"
   ]
  },
  {
   "cell_type": "code",
   "execution_count": null,
   "id": "3a2c9ee3-2884-4907-b629-2265a01f0872",
   "metadata": {},
   "outputs": [],
   "source": [
    "# 1. Formulate a solution\n",
    "number = int(input(\"please input one Number: \"))\n",
    "original_number = number\n",
    "counter = number - 1\n",
    "    \n",
    "while counter >= 0:\n",
    "    \n",
    "    print(counter + counter + 1)\n",
    "    \n",
    "    counter = counter - 1\n",
    "\n",
    "\n",
    "# 2. Implement the solution"
   ]
  },
  {
   "cell_type": "markdown",
   "id": "9e30cf7d",
   "metadata": {},
   "source": [
    "## Gecombineerd"
   ]
  },
  {
   "cell_type": "markdown",
   "id": "d728ef64",
   "metadata": {},
   "source": [
    "### 1. Print alle medeklinkers van een woord of zin***"
   ]
  },
  {
   "cell_type": "markdown",
   "id": "0cfcd436",
   "metadata": {},
   "source": [
    "- Vraag de gebruiker om een woord of zin in te voeren\n",
    "- Print vervolgens alle medeklinkers\n",
    "- Als de invoer een zin is, print dan ook alle spaties en leestekens"
   ]
  },
  {
   "cell_type": "code",
   "execution_count": 2,
   "id": "0112311d",
   "metadata": {},
   "outputs": [
    {
     "ename": "IndentationError",
     "evalue": "expected an indented block after 'if' statement on line 23 (82285522.py, line 29)",
     "output_type": "error",
     "traceback": [
      "\u001b[0;36m  Cell \u001b[0;32mIn[2], line 29\u001b[0;36m\u001b[0m\n\u001b[0;31m    print(char)\u001b[0m\n\u001b[0m    ^\u001b[0m\n\u001b[0;31mIndentationError\u001b[0m\u001b[0;31m:\u001b[0m expected an indented block after 'if' statement on line 23\n"
     ]
    }
   ],
   "source": [
    "# 1. Start simple: take the word \"simpel\"\n",
    "word = str(input(\"please input a word and press ENTER: \"))\n",
    "\n",
    "# Define the counter\n",
    "counter = 0\n",
    "counter1 = 0\n",
    "# Loop over each letter in string:\n",
    "for char in word:\n",
    "\n",
    "    # Check if character is vowel:\n",
    "    if char == 'a' or char == 'e' or char == 'i' or char == 'o' or char == 'u':\n",
    "        print(char)\n",
    "\n",
    "        # If so then increment counter\n",
    "        counter = counter + 1\n",
    "\n",
    "# Print result\n",
    "print(f\"{word} contains {counter} vowels\")\n",
    "\n",
    "vowels = ['a','e']\n",
    "\n",
    "for char in word:\n",
    "    \n",
    "    if char in vowels:\n",
    "        print(char)\n",
    "        \n",
    "    \n",
    "    # Check if character is vowel:\n",
    "    # if char == ' ' or char == '!' or char == '?' or char == '.' or char == ',' or char == ';' or char == ':' or char == ''':\n",
    "        \n",
    "\n",
    "    # If so then increment counter\n",
    "    # counter1 = counter1 + 1\n",
    "\n",
    "# Print result\n",
    "print(f\"{word} contains {counter1} punchuals\")\n",
    "\n",
    "\n",
    "# 2. Explain your solution in words only\n",
    "\n",
    "# 3. Write down your solution in pseudo code\n",
    "\n",
    "# 4. Implement your pseudo code in Python\n",
    "\n",
    "# 5. Extend your solution to the general case"
   ]
  },
  {
   "cell_type": "markdown",
   "id": "ed2dd7e2",
   "metadata": {},
   "source": [
    "### 2. Print een diamant vorm***"
   ]
  },
  {
   "cell_type": "markdown",
   "id": "d8438e85",
   "metadata": {},
   "source": [
    "- Vraag de gebruiker om een hoogte\n",
    "- Print vervolgens een diamant van die hoogte\n",
    "\n",
    "Hint: zijn er hoogtes waarvoor dit niet lukt? Zo ja, laat de gebruiker dit dan weten."
   ]
  },
  {
   "cell_type": "code",
   "execution_count": null,
   "id": "8c5501e3",
   "metadata": {},
   "outputs": [],
   "source": [
    "# An example with height 7\n",
    "\n",
    "#    *\n",
    "#   ***\n",
    "#  *****\n",
    "# *******\n",
    "#  *****\n",
    "#   ***\n",
    "#    *\n",
    "\n",
    "# 1. Start simple: take the example above\n",
    "number = int(input(\"please input the number and press ENTER( PAY ATTENTION: YOUR NUMBER HAVE TO BE MINDER THAN 100 ): \"))\n",
    "letter = str(input(\"please inout one letter and press inter: \"))\n",
    "num = number \n",
    "x = number // 2\n",
    "y = 1\n",
    "z = 1\n",
    "if number <= 100:\n",
    "    \n",
    "    while num >= 0:\n",
    "    \n",
    "    \n",
    "        if num > (number // 2 ):\n",
    "        \n",
    "            print(\" \" * x + letter * y )\n",
    "            x = x - 1\n",
    "            y = y + 2\n",
    "        \n",
    "        else:\n",
    "        \n",
    "            print(\" \" * z + letter * (num * 2 - 1 ) )\n",
    "            z = z + 1\n",
    "    \n",
    "        num = num - 1\n",
    "    \n",
    "else:\n",
    "    print(\" your number is biger than 100, tray again\")\n",
    "\n",
    "\n",
    "\n",
    "# 2. Explain your solution in words only\n",
    "\n",
    "# 3. Write down your solution in pseudo code\n",
    "\n",
    "# 4. Implement your pseudo code in Python\n",
    "\n",
    "# 5. Extend your solution to the general case"
   ]
  },
  {
   "cell_type": "code",
   "execution_count": null,
   "id": "7593860f-ef0d-4a90-a716-5f91561286f1",
   "metadata": {},
   "outputs": [],
   "source": []
  }
 ],
 "metadata": {
  "kernelspec": {
   "display_name": "Python 3 (ipykernel)",
   "language": "python",
   "name": "python3"
  },
  "language_info": {
   "codemirror_mode": {
    "name": "ipython",
    "version": 3
   },
   "file_extension": ".py",
   "mimetype": "text/x-python",
   "name": "python",
   "nbconvert_exporter": "python",
   "pygments_lexer": "ipython3",
   "version": "3.10.9"
  }
 },
 "nbformat": 4,
 "nbformat_minor": 5
}
