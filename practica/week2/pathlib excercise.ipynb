{
 "cells": [
  {
   "cell_type": "markdown",
   "id": "85544bfc-1445-4163-a22d-430215e140bc",
   "metadata": {},
   "source": [
    "<h1>introduction to pathlib</h1>"
   ]
  },
  {
   "cell_type": "markdown",
   "id": "5b3a0815-91b3-4bbf-9999-9a930afa5ad2",
   "metadata": {},
   "source": [
    "pathlib offers a set of classes to handle filesystem paths. It offers the following advantages over using string objects:\n",
    "\n",
    "    No more cumbersome use of os and os.path functions. Everything can be done easily through operators, attribute accesses, and method calls.\n",
    "\n",
    "    Embodies the semantics of different path types. For example, comparing Windows paths ignores casing.\n",
    "\n",
    "    Well-defined semantics, eliminating any warts or ambiguities (forward vs. backward slashes, etc.).\n"
   ]
  },
  {
   "cell_type": "code",
   "execution_count": 5,
   "id": "fd31b989-62ad-4f4a-b3bc-e4a9d5c23f97",
   "metadata": {},
   "outputs": [
    {
     "name": "stdout",
     "output_type": "stream",
     "text": [
      "hello\n"
     ]
    }
   ],
   "source": [
    "# import Path from pathlib\n",
    "\n",
    "from pathlib import Path\n",
    "\n",
    "# print hello with Path\n",
    "path = Path(\"hello\")\n",
    "\n",
    "print(path)\n",
    "\n"
   ]
  },
  {
   "cell_type": "code",
   "execution_count": 7,
   "id": "f2a30ce7-408e-4d38-bb67-edbb8694df88",
   "metadata": {
    "tags": []
   },
   "outputs": [
    {
     "name": "stdout",
     "output_type": "stream",
     "text": [
      "/home/hossein\n"
     ]
    }
   ],
   "source": [
    "print(path.home())"
   ]
  },
  {
   "cell_type": "code",
   "execution_count": null,
   "id": "2263bda1-40a7-4c0c-9793-c89ed1d7290c",
   "metadata": {},
   "outputs": [],
   "source": []
  }
 ],
 "metadata": {
  "kernelspec": {
   "display_name": "Python 3 (ipykernel)",
   "language": "python",
   "name": "python3"
  },
  "language_info": {
   "codemirror_mode": {
    "name": "ipython",
    "version": 3
   },
   "file_extension": ".py",
   "mimetype": "text/x-python",
   "name": "python",
   "nbconvert_exporter": "python",
   "pygments_lexer": "ipython3",
   "version": "3.10.9"
  }
 },
 "nbformat": 4,
 "nbformat_minor": 5
}
