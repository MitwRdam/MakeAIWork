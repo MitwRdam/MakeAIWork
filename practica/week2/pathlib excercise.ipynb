{
 "cells": [
  {
   "cell_type": "markdown",
   "id": "85544bfc-1445-4163-a22d-430215e140bc",
   "metadata": {},
   "source": [
    "<h1>introduction to pathlib</h1>"
   ]
  },
  {
   "cell_type": "markdown",
   "id": "5b3a0815-91b3-4bbf-9999-9a930afa5ad2",
   "metadata": {},
   "source": [
    "pathlib offers a set of classes to handle filesystem paths. It offers the following advantages over using string objects:\n",
    "\n",
    "    No more cumbersome use of os and os.path functions. Everything can be done easily through operators, attribute accesses, and method calls.\n",
    "\n",
    "    Embodies the semantics of different path types. For example, comparing Windows paths ignores casing.\n",
    "\n",
    "    Well-defined semantics, eliminating any warts or ambiguities (forward vs. backward slashes, etc.).\n"
   ]
  },
  {
   "cell_type": "code",
   "execution_count": 22,
   "id": "fd31b989-62ad-4f4a-b3bc-e4a9d5c23f97",
   "metadata": {},
   "outputs": [],
   "source": [
    "# import Path from pathlib\n",
    "\n",
    "from pathlib import Path\n"
   ]
  },
  {
   "cell_type": "code",
   "execution_count": 23,
   "id": "2dde922f-26d5-4a1c-8773-da51e253d18a",
   "metadata": {
    "tags": []
   },
   "outputs": [
    {
     "name": "stdout",
     "output_type": "stream",
     "text": [
      "hello word\n"
     ]
    }
   ],
   "source": [
    "# print .. with Path\n",
    "hello_word = Path('hello word')\n",
    "\n",
    "print(hello_word)\n",
    "\n"
   ]
  },
  {
   "cell_type": "code",
   "execution_count": 24,
   "id": "f2a30ce7-408e-4d38-bb67-edbb8694df88",
   "metadata": {
    "tags": []
   },
   "outputs": [
    {
     "name": "stdout",
     "output_type": "stream",
     "text": [
      "/home/hossein\n"
     ]
    }
   ],
   "source": [
    "# path adress\n",
    "\n",
    "print(hello_word.home())"
   ]
  },
  {
   "cell_type": "code",
   "execution_count": 25,
   "id": "df5821a2-0f77-415c-bdd3-ba94a380ec91",
   "metadata": {},
   "outputs": [
    {
     "name": "stdout",
     "output_type": "stream",
     "text": [
      "[]\n"
     ]
    }
   ],
   "source": [
    "#\n",
    "print(list(hello_word.glob('**/*.PY')))\n"
   ]
  },
  {
   "cell_type": "code",
   "execution_count": 54,
   "id": "8053b594-fd79-47b0-b82d-35ff0501fbfe",
   "metadata": {
    "tags": []
   },
   "outputs": [],
   "source": [
    "path = Path(\"..\")"
   ]
  },
  {
   "cell_type": "code",
   "execution_count": 55,
   "id": "b69f4b42-56fa-497b-a6f8-be0c4e8f1f9a",
   "metadata": {
    "tags": []
   },
   "outputs": [
    {
     "name": "stdout",
     "output_type": "stream",
     "text": [
      "[PosixPath('../week2'), PosixPath('../pip'), PosixPath('../week1'), PosixPath('../json'), PosixPath('../pics'), PosixPath('../geo')]\n"
     ]
    }
   ],
   "source": [
    "print(list(path.iterdir())) "
   ]
  },
  {
   "cell_type": "code",
   "execution_count": 56,
   "id": "2263bda1-40a7-4c0c-9793-c89ed1d7290c",
   "metadata": {
    "tags": []
   },
   "outputs": [
    {
     "data": {
      "text/plain": [
       "[PosixPath('../week2'),\n",
       " PosixPath('../pip'),\n",
       " PosixPath('../week1'),\n",
       " PosixPath('../json'),\n",
       " PosixPath('../pics'),\n",
       " PosixPath('../geo')]"
      ]
     },
     "execution_count": 56,
     "metadata": {},
     "output_type": "execute_result"
    }
   ],
   "source": [
    "[x for x in path.iterdir() if x.is_dir()]"
   ]
  },
  {
   "cell_type": "code",
   "execution_count": 57,
   "id": "324bb4a1-255c-4354-bf71-def9a2f7fa24",
   "metadata": {
    "tags": []
   },
   "outputs": [
    {
     "name": "stdout",
     "output_type": "stream",
     "text": [
      "True\n"
     ]
    }
   ],
   "source": [
    "print(path.exists())"
   ]
  },
  {
   "cell_type": "code",
   "execution_count": 58,
   "id": "0c6fd586-86f2-42ef-b8f8-398f93824015",
   "metadata": {
    "tags": []
   },
   "outputs": [
    {
     "name": "stdout",
     "output_type": "stream",
     "text": [
      "True\n"
     ]
    }
   ],
   "source": [
    "print(path.is_dir())"
   ]
  },
  {
   "cell_type": "code",
   "execution_count": 59,
   "id": "481b0294-b451-4720-a1b3-eed57743d78c",
   "metadata": {
    "collapsed": true,
    "jupyter": {
     "outputs_hidden": true
    },
    "tags": []
   },
   "outputs": [
    {
     "name": "stdout",
     "output_type": "stream",
     "text": [
      "False\n"
     ]
    }
   ],
   "source": [
    "print(path.is_file())"
   ]
  },
  {
   "cell_type": "code",
   "execution_count": 60,
   "id": "c962bf2a-31ce-4e28-9e4a-d66270a2b08c",
   "metadata": {
    "tags": []
   },
   "outputs": [
    {
     "name": "stdout",
     "output_type": "stream",
     "text": [
      "..\n"
     ]
    }
   ],
   "source": [
    "print(path.stem)"
   ]
  },
  {
   "cell_type": "code",
   "execution_count": 33,
   "id": "5525d11a-66a0-4e0d-870a-c57b11d5f98f",
   "metadata": {
    "tags": []
   },
   "outputs": [
    {
     "name": "stdout",
     "output_type": "stream",
     "text": [
      ".\n"
     ]
    }
   ],
   "source": [
    "print(path.parent)"
   ]
  },
  {
   "cell_type": "code",
   "execution_count": 52,
   "id": "accda086-63b6-44d5-8b41-104d1ad0c26c",
   "metadata": {},
   "outputs": [],
   "source": [
    "path2 = Path(\"./pioneer.jpg\")\n"
   ]
  },
  {
   "cell_type": "code",
   "execution_count": 53,
   "id": "ea7d0a42-4d49-4d8c-8442-1d7425972b4e",
   "metadata": {
    "tags": []
   },
   "outputs": [
    {
     "name": "stdout",
     "output_type": "stream",
     "text": [
      "pioneer.jpg\n"
     ]
    }
   ],
   "source": [
    "print(path2)"
   ]
  },
  {
   "cell_type": "code",
   "execution_count": null,
   "id": "431df3e9-c1b4-4ba8-a4ac-1fadfeb52800",
   "metadata": {},
   "outputs": [],
   "source": [
    "p"
   ]
  }
 ],
 "metadata": {
  "kernelspec": {
   "display_name": "Python 3 (ipykernel)",
   "language": "python",
   "name": "python3"
  },
  "language_info": {
   "codemirror_mode": {
    "name": "ipython",
    "version": 3
   },
   "file_extension": ".py",
   "mimetype": "text/x-python",
   "name": "python",
   "nbconvert_exporter": "python",
   "pygments_lexer": "ipython3",
   "version": "3.10.9"
  }
 },
 "nbformat": 4,
 "nbformat_minor": 5
}
