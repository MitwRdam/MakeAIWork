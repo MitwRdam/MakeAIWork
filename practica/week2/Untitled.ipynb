{
 "cells": [
  {
   "cell_type": "markdown",
   "id": "29d5db45-1284-422b-9be9-9dcd27203376",
   "metadata": {},
   "source": [
    "\n",
    "Project description\n",
    "\n",
    "This module extends python os module with a few new functionality to interface operating system.\n",
    "\n",
    "It recognizes file name structure and manages both URI standard name both local name, as UNC and ODS5.\n",
    "\n",
    "    URI (Uniform Resource Identifier) is standard posix filename.\n",
    "\n",
    "    UNC (Uniform Naming Convention) is windows standard\n",
    "\n",
    "    ODS5 is used for define OpenVMS standard filenames\n",
    "\n",
    "An example of URI filename is ‘/home/myfile’.\n",
    "\n",
    "UNC example for the same of previous URI name is ‘homemyfile’ (with single backslash).\n",
    "\n",
    "ODS5 (OpenVMS) for the same of previous URI name is ‘[home]myfile’\n"
   ]
  },
  {
   "cell_type": "code",
   "execution_count": 3,
   "id": "6ec87dc5-77f8-4973-8dbf-d7cca83df8d7",
   "metadata": {
    "tags": []
   },
   "outputs": [],
   "source": [
    "# import os\n",
    "\n",
    "import os"
   ]
  },
  {
   "cell_type": "code",
   "execution_count": 4,
   "id": "c648f255-b0ac-4d8c-8ee5-1a541c4d5878",
   "metadata": {
    "tags": []
   },
   "outputs": [
    {
     "name": "stdout",
     "output_type": "stream",
     "text": [
      "posix.uname_result(sysname='Linux', nodename='Lenovo', release='5.15.0-58-generic', version='#64~20.04.1-Ubuntu SMP Fri Jan 6 16:42:31 UTC 2023', machine='x86_64')\n"
     ]
    }
   ],
   "source": [
    "print(os.uname())"
   ]
  },
  {
   "cell_type": "code",
   "execution_count": 5,
   "id": "6cc38772-190c-416e-b9cf-8da50544f377",
   "metadata": {
    "tags": []
   },
   "outputs": [
    {
     "name": "stdout",
     "output_type": "stream",
     "text": [
      "current working directory /home/hossein/MakeAIWork/practica/week2\n"
     ]
    }
   ],
   "source": [
    "cwd = os.getcwd()\n",
    "print(\"current working directory\", cwd)"
   ]
  },
  {
   "cell_type": "code",
   "execution_count": 1,
   "id": "dcae8f24-5721-4a79-a32d-28cffcdbc4bd",
   "metadata": {},
   "outputs": [
    {
     "name": "stdout",
     "output_type": "stream",
     "text": [
      "1.24.2\n"
     ]
    }
   ],
   "source": [
    "import numpy as np\n",
    "\n",
    "print(np.__version__)"
   ]
  },
  {
   "cell_type": "code",
   "execution_count": 2,
   "id": "cea6b7f3-de31-4469-851c-16fd7cc0093e",
   "metadata": {
    "tags": []
   },
   "outputs": [
    {
     "name": "stdout",
     "output_type": "stream",
     "text": [
      "1.24.2\n"
     ]
    }
   ],
   "source": [
    "import numpy as np\n",
    "\n",
    "print(np.__version__)"
   ]
  },
  {
   "cell_type": "code",
   "execution_count": 3,
   "id": "3da0dcc6-a58c-467f-b1b3-905f60b270ea",
   "metadata": {
    "tags": []
   },
   "outputs": [
    {
     "name": "stdout",
     "output_type": "stream",
     "text": [
      "42\n"
     ]
    }
   ],
   "source": [
    "import numpy as np\n",
    "\n",
    "arr = np.array(42)\n",
    "\n",
    "print(arr)"
   ]
  },
  {
   "cell_type": "code",
   "execution_count": 4,
   "id": "0da4ba33-c91d-4161-8aa5-139c435c0f7b",
   "metadata": {
    "tags": []
   },
   "outputs": [
    {
     "name": "stdout",
     "output_type": "stream",
     "text": [
      "[[1 2 3]\n",
      " [4 5 6]]\n"
     ]
    }
   ],
   "source": [
    "import numpy as np\n",
    "\n",
    "arr = np.array([[1, 2, 3], [4, 5, 6]])\n",
    "\n",
    "print(arr)"
   ]
  },
  {
   "cell_type": "code",
   "execution_count": null,
   "id": "eda3b312-8969-43ee-9126-8d2026fc8db2",
   "metadata": {},
   "outputs": [],
   "source": [
    "def matixmatliplication(m0, m1):\n",
    "    \n",
    "    "
   ]
  }
 ],
 "metadata": {
  "kernelspec": {
   "display_name": "Python 3 (ipykernel)",
   "language": "python",
   "name": "python3"
  },
  "language_info": {
   "codemirror_mode": {
    "name": "ipython",
    "version": 3
   },
   "file_extension": ".py",
   "mimetype": "text/x-python",
   "name": "python",
   "nbconvert_exporter": "python",
   "pygments_lexer": "ipython3",
   "version": "3.10.9"
  },
  "vscode": {
   "interpreter": {
    "hash": "6db5ed3a4ecb22f5d6be64a5625291ecca81a7577ef30526ca1a74a213e654a7"
   }
  }
 },
 "nbformat": 4,
 "nbformat_minor": 5
}
