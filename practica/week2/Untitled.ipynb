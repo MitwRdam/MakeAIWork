{
 "cells": [
  {
   "cell_type": "markdown",
   "id": "29d5db45-1284-422b-9be9-9dcd27203376",
   "metadata": {},
   "source": [
    "\n",
    "Project description\n",
    "\n",
    "This module extends python os module with a few new functionality to interface operating system.\n",
    "\n",
    "It recognizes file name structure and manages both URI standard name both local name, as UNC and ODS5.\n",
    "\n",
    "    URI (Uniform Resource Identifier) is standard posix filename.\n",
    "\n",
    "    UNC (Uniform Naming Convention) is windows standard\n",
    "\n",
    "    ODS5 is used for define OpenVMS standard filenames\n",
    "\n",
    "An example of URI filename is ‘/home/myfile’.\n",
    "\n",
    "UNC example for the same of previous URI name is ‘homemyfile’ (with single backslash).\n",
    "\n",
    "ODS5 (OpenVMS) for the same of previous URI name is ‘[home]myfile’\n"
   ]
  },
  {
   "cell_type": "code",
   "execution_count": 3,
   "id": "6ec87dc5-77f8-4973-8dbf-d7cca83df8d7",
   "metadata": {
    "tags": []
   },
   "outputs": [],
   "source": [
    "# import os\n",
    "\n",
    "import os"
   ]
  },
  {
   "cell_type": "code",
   "execution_count": 4,
   "id": "c648f255-b0ac-4d8c-8ee5-1a541c4d5878",
   "metadata": {
    "tags": []
   },
   "outputs": [
    {
     "name": "stdout",
     "output_type": "stream",
     "text": [
      "posix.uname_result(sysname='Linux', nodename='Lenovo', release='5.15.0-58-generic', version='#64~20.04.1-Ubuntu SMP Fri Jan 6 16:42:31 UTC 2023', machine='x86_64')\n"
     ]
    }
   ],
   "source": [
    "print(os.uname())"
   ]
  },
  {
   "cell_type": "code",
   "execution_count": 5,
   "id": "6cc38772-190c-416e-b9cf-8da50544f377",
   "metadata": {
    "tags": []
   },
   "outputs": [
    {
     "name": "stdout",
     "output_type": "stream",
     "text": [
      "current working directory /home/hossein/MakeAIWork/practica/week2\n"
     ]
    }
   ],
   "source": [
    "cwd = os.getcwd()\n",
    "print(\"current working directory\", cwd)"
   ]
  },
  {
   "cell_type": "code",
   "execution_count": null,
   "id": "dcae8f24-5721-4a79-a32d-28cffcdbc4bd",
   "metadata": {},
   "outputs": [],
   "source": []
  }
 ],
 "metadata": {
  "kernelspec": {
   "display_name": "Python 3 (ipykernel)",
   "language": "python",
   "name": "python3"
  },
  "language_info": {
   "codemirror_mode": {
    "name": "ipython",
    "version": 3
   },
   "file_extension": ".py",
   "mimetype": "text/x-python",
   "name": "python",
   "nbconvert_exporter": "python",
   "pygments_lexer": "ipython3",
   "version": "3.10.9"
  }
 },
 "nbformat": 4,
 "nbformat_minor": 5
}
