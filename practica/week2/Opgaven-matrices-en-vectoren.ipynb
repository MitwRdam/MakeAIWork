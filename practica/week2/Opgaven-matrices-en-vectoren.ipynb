{
 "cells": [
  {
   "cell_type": "markdown",
   "id": "2ea724be",
   "metadata": {},
   "source": [
    "# Matrices en vectoren"
   ]
  },
  {
   "cell_type": "code",
   "execution_count": 7,
   "id": "969deeb8-1c82-491c-8ce0-e4d642930381",
   "metadata": {},
   "outputs": [
    {
     "ename": "SyntaxError",
     "evalue": "invalid syntax (3360223040.py, line 1)",
     "output_type": "error",
     "traceback": [
      "\u001b[0;36m  Cell \u001b[0;32mIn[7], line 1\u001b[0;36m\u001b[0m\n\u001b[0;31m    Er zijn meerdere manieren om een matrix te representeren.\u001b[0m\n\u001b[0m       ^\u001b[0m\n\u001b[0;31mSyntaxError\u001b[0m\u001b[0;31m:\u001b[0m invalid syntax\n"
     ]
    }
   ],
   "source": [
    "Er zijn meerdere manieren om een matrix te representeren.\n",
    "\n",
    "Hier kiezen we voor het volgende datamodel:\n",
    "\n",
    "`matrix_2D :: {rows: int, cols: int, data: []}`\n",
    "\n",
    "Implementeer onderstaande opdrachten in Python."
   ]
  },
  {
   "cell_type": "markdown",
   "id": "42182308",
   "metadata": {},
   "source": [
    "## Vectoren"
   ]
  },
  {
   "cell_type": "markdown",
   "id": "db43ccb1",
   "metadata": {},
   "source": [
    "### 1. Een vector als rij*"
   ]
  },
  {
   "cell_type": "markdown",
   "id": "e9ac731a",
   "metadata": {},
   "source": [
    "Representeer de onderstaande vector in code:\n",
    "\n",
    "$$\n",
    "  \\begin{pmatrix}\n",
    "    1 & 2 & 3\n",
    "  \\end{pmatrix}\n",
    "$$"
   ]
  },
  {
   "cell_type": "code",
   "execution_count": 167,
   "id": "72c55633",
   "metadata": {},
   "outputs": [
    {
     "name": "stdout",
     "output_type": "stream",
     "text": [
      "roaw == 1 colums == 3\n",
      "rows = 1\n",
      "colums = 3\n",
      "number of elements = 3\n"
     ]
    }
   ],
   "source": [
    "# How many rows and colums does this vector have\n",
    "\n",
    "print(\"roaw == 1 colums == 3\")\n",
    "\n",
    "# Use the definition at the top to implement this vector:\n",
    "\n",
    "vec1 = {'rows': 1, 'cols': 3, 'data': [[1],[2],[3]]}\n",
    "\n",
    "# Can you print its dimensions? (rows, cols)\n",
    "\n",
    "print(\"rows =\", vec1[\"rows\"])\n",
    "print(\"colums =\", vec1[\"cols\"])\n",
    "\n",
    "# Can you print the number of elements?\n",
    "\n",
    "print(\"number of elements =\", vec1[\"rows\"]*vec1[\"cols\"])"
   ]
  },
  {
   "cell_type": "markdown",
   "id": "0abbc0ad",
   "metadata": {},
   "source": [
    "### 2. Een vector als kolom*"
   ]
  },
  {
   "cell_type": "markdown",
   "id": "ac4f647f",
   "metadata": {},
   "source": [
    "Representeer de onderstaande vector in code:\n",
    "\n",
    "$$\n",
    "  \\begin{pmatrix}\n",
    "    1 \\\\\n",
    "    2 \\\\\n",
    "    3\n",
    "  \\end{pmatrix}\n",
    "$$"
   ]
  },
  {
   "cell_type": "code",
   "execution_count": 168,
   "id": "f4f6bfc9",
   "metadata": {},
   "outputs": [
    {
     "name": "stdout",
     "output_type": "stream",
     "text": [
      "roaw == 3 colums == 1\n",
      "rows = 3\n",
      "colums = 1\n",
      "number of elements = 3\n"
     ]
    }
   ],
   "source": [
    "# How many rows and colums does this vector have\n",
    "\n",
    "print(\"roaw == 3 colums == 1\")\n",
    "\n",
    "# Use the definition at the top to implement this vector:\n",
    "\n",
    "vec2 = {'rows': 3, 'cols': 1, 'data': [[1],[2],[3]]}\n",
    "\n",
    "# Can you print its dimensions? (rows, cols)\n",
    "\n",
    "print(\"rows =\", vec2[\"rows\"])\n",
    "print(\"colums =\", vec2[\"cols\"])\n",
    "\n",
    "# Can you print the number of elements?\n",
    "\n",
    "print(\"number of elements =\", vec2[\"rows\"]*vec2[\"cols\"])"
   ]
  },
  {
   "cell_type": "markdown",
   "id": "8de02084",
   "metadata": {},
   "source": [
    "### 3. Vectoren optellen**"
   ]
  },
  {
   "cell_type": "markdown",
   "id": "c2edbb39",
   "metadata": {},
   "source": [
    "Tel de onderstaande vectoren bij elkaar op:\n",
    "\n",
    "$$\n",
    "  \\begin{pmatrix}\n",
    "    1 \\\\\n",
    "    2 \\\\\n",
    "    3\n",
    "  \\end{pmatrix}\n",
    "  +\n",
    "    \\begin{pmatrix}\n",
    "    9 \\\\\n",
    "    8 \\\\\n",
    "    7\n",
    "  \\end{pmatrix}\n",
    "  =\n",
    "  ...\n",
    "$$"
   ]
  },
  {
   "cell_type": "code",
   "execution_count": 173,
   "id": "9fd6bc2a",
   "metadata": {},
   "outputs": [
    {
     "name": "stdout",
     "output_type": "stream",
     "text": [
      "{'rows': 1, 'cols': 3, 'data': [10, 10, 10]}\n"
     ]
    }
   ],
   "source": [
    "# Implement both vectors:\n",
    "\n",
    "vec2 = {'rows': 3, 'cols': 1, 'data': [[1],[2],[3]]}\n",
    "vec3 = {'rows': 3, 'cols': 1, 'data': [[9],[8],[7]]}\n",
    "\n",
    "# Can we add them? Check if dimensions are the same:\n",
    "\n",
    "if vec2[\"rows\"] != vec3[\"rows\"] and vec2[\"cols\"] != vec3[\"cols\"]:\n",
    "    pass\n",
    "\n",
    "# How do you add these vectors by hand?\n",
    "\n",
    "vec2plus3 = [1+9,2+8,3+7]\n",
    "\n",
    "# Now add the vectors in code:\n",
    "\n",
    "vec_result1 = {'rows': 1, 'cols': 3, 'data': vec2plus3}\n",
    "print(vec_result1)"
   ]
  },
  {
   "cell_type": "markdown",
   "id": "10e3be49",
   "metadata": {},
   "source": [
    "Tel de onderstaande vectoren bij elkaar op:\n",
    "\n",
    "$$\n",
    "  \\begin{pmatrix}\n",
    "    1 & 2 & 3\n",
    "  \\end{pmatrix}\n",
    "  +\n",
    "  \\begin{pmatrix}\n",
    "    9 & 8 & 7\n",
    "  \\end{pmatrix}\n",
    "  =\n",
    "  ...\n",
    "$$"
   ]
  },
  {
   "cell_type": "code",
   "execution_count": 174,
   "id": "3319db0c",
   "metadata": {},
   "outputs": [
    {
     "name": "stdout",
     "output_type": "stream",
     "text": [
      "{'rows': 1, 'cols': 3, 'data': [10, 10, 10]}\n"
     ]
    }
   ],
   "source": [
    "# Implement both vectors:\n",
    "\n",
    "vec1 = {'rows': 3, 'cols': 1, 'data': [1,2,3]}\n",
    "vec4 = {'rows': 3, 'cols': 1, 'data': [9,8,7]}\n",
    "\n",
    "# Can we add them? Check if dimensions are the same:\n",
    "\n",
    "if vec1[\"rows\"] != vec4[\"rows\"] and vec1[\"cols\"] != vec4[\"cols\"]:\n",
    "    pass\n",
    "\n",
    "# How do you add these vectors by hand?\n",
    "\n",
    "vec1plus4 = [1+9,2+8,3+7]\n",
    "\n",
    "# Now add the vectors in code:\n",
    "\n",
    "vec_result2 = {'rows': 1, 'cols': 3, 'data': vec1plus4}\n",
    "print(vec_result2)"
   ]
  },
  {
   "cell_type": "code",
   "execution_count": null,
   "id": "b7651c8d-902c-4559-8529-38014070ca3c",
   "metadata": {},
   "outputs": [],
   "source": []
  },
  {
   "cell_type": "markdown",
   "id": "ecf7d53a",
   "metadata": {},
   "source": [
    "## Matrices"
   ]
  },
  {
   "cell_type": "markdown",
   "id": "aea58d0c",
   "metadata": {},
   "source": [
    "### 1. Een 3 x 3 matrix*"
   ]
  },
  {
   "cell_type": "markdown",
   "id": "8ecdf748",
   "metadata": {},
   "source": [
    "Representeer de onderstaande matrix in code:\n",
    "\n",
    "$$\n",
    "  \\begin{pmatrix}\n",
    "    1 & 2 & 3\\\\\n",
    "    4 & 5 & 6\\\\\n",
    "    7 & 8 & 9\\\\\n",
    "  \\end{pmatrix}\n",
    "$$"
   ]
  },
  {
   "cell_type": "code",
   "execution_count": 156,
   "id": "744a8d77",
   "metadata": {},
   "outputs": [
    {
     "name": "stdout",
     "output_type": "stream",
     "text": [
      "3 rows and 3 culoms\n",
      "rows= 3\n",
      "colums= 3\n",
      "number of mat elements is = 9\n"
     ]
    }
   ],
   "source": [
    "# How many rows and colums does this matrix have?\n",
    "\n",
    "print(\"3 rows and 3 culoms\")\n",
    "\n",
    "# Use the definition at the top to implement this matrix:\n",
    "\n",
    "mat = {'rows': 3, 'cols': 3, 'data': [[1,2,3],[4,5,6],[7,8,9]]}\n",
    "\n",
    "# Can you print its dimensions? (rows, cols)\n",
    "\n",
    "print(\"rows=\", mat[\"rows\"])\n",
    "print(\"colums=\", mat[\"cols\"])\n",
    "\n",
    "# Can you print the number of elements?\n",
    "\n",
    "print(\"number of mat elements is =\", mat[\"rows\"]*mat[\"cols\"])"
   ]
  },
  {
   "cell_type": "markdown",
   "id": "78d195fb",
   "metadata": {},
   "source": [
    "### 2. Matrices optellen**"
   ]
  },
  {
   "cell_type": "markdown",
   "id": "1554b6d8",
   "metadata": {},
   "source": [
    "Tel de onderstaande matrices op:\n",
    "\n",
    "$$\n",
    "  \\begin{pmatrix}\n",
    "    1 & 2 & 3\\\\\n",
    "    4 & 5 & 6\\\\\n",
    "    7 & 8 & 9\\\\\n",
    "  \\end{pmatrix}\n",
    "  +\n",
    "    \\begin{pmatrix}\n",
    "    9 & 8 & 7\\\\\n",
    "    6 & 5 & 4\\\\\n",
    "    3 & 2 & 1\\\\\n",
    "  \\end{pmatrix}\n",
    "  =\n",
    "  ...\n",
    "$$"
   ]
  },
  {
   "cell_type": "code",
   "execution_count": 158,
   "id": "ac6bd48c",
   "metadata": {},
   "outputs": [
    {
     "ename": "IndentationError",
     "evalue": "expected an indented block after 'if' statement on line 8 (3287587893.py, line 12)",
     "output_type": "error",
     "traceback": [
      "\u001b[0;36m  Cell \u001b[0;32mIn[158], line 12\u001b[0;36m\u001b[0m\n\u001b[0;31m    mat3 = [[1+9,2+8,3+7],[4+6,5+5,6+4],[7+3,8+2,9+1]]\u001b[0m\n\u001b[0m    ^\u001b[0m\n\u001b[0;31mIndentationError\u001b[0m\u001b[0;31m:\u001b[0m expected an indented block after 'if' statement on line 8\n"
     ]
    }
   ],
   "source": [
    "# Implement both matrices:\n",
    "\n",
    "mat1 = {'rows': 3, 'cols': 3, 'data': [[1,2,3],[4,5,6],[7,8,9]]}\n",
    "mat2 = {'rows': 3, 'cols': 3, 'data': [[9,8,7],[6,5,4],[3,2,1]]}\n",
    "\n",
    "# Can we add them? Check if dimensions are the same:\n",
    "\n",
    "if mat1[\"rows\"] != mat2[\"rows\"] and mat1[\"cols\"] != mat2[\"cols\"]:\n",
    "\n",
    "# How do you add these matrices by hand?\n",
    "\n",
    "mat3 = [[1+9,2+8,3+7],[4+6,5+5,6+4],[7+3,8+2,9+1]]\n",
    "\n",
    "# Now add the matrices in code:\n",
    "\n",
    "mat_result1 = {'rows': 3, 'cols': 3, 'data': mat3}\n",
    "print(mat_result1)\n",
    "\n",
    "# In case you didn't: can you generalize this algorithm?\n",
    "\n",
    "# ..."
   ]
  },
  {
   "cell_type": "code",
   "execution_count": 159,
   "id": "a598460c-09fd-4e16-9880-6882b4d2ca74",
   "metadata": {
    "tags": []
   },
   "outputs": [],
   "source": [
    "# this metod get matrix from user\n",
    "def get_matrix():\n",
    "    row_of_first_matris = int(input(\"please inter row: \"))\n",
    "    col_of_first_matris = int(input(\"please inter colum: \"))\n",
    "    data = []\n",
    "    for i in range(row_of_first_matris):\n",
    "        temp_list = []\n",
    "        for j in range(col_of_first_matris):\n",
    "            tmp = int(input(\"please input vectors: \"))\n",
    "            temp_list.append(tmp)\n",
    "        data.append(temp_list)\n",
    "    return {'rows': row_of_first_matris, 'cols':col_of_first_matris , 'data': data}"
   ]
  },
  {
   "cell_type": "code",
   "execution_count": 160,
   "id": "acf08c69-005f-4228-8d2f-c6d992b28188",
   "metadata": {
    "tags": []
   },
   "outputs": [
    {
     "name": "stdin",
     "output_type": "stream",
     "text": [
      "please inter row:  3\n",
      "please inter colum:  3\n",
      "please input vectors:  3\n",
      "please input vectors:  3\n",
      "please input vectors:  3\n",
      "please input vectors:  3\n",
      "please input vectors:  2\n",
      "please input vectors:  3\n",
      "please input vectors:  6\n",
      "please input vectors:  9\n",
      "please input vectors:  3\n",
      "please inter row:  3\n",
      "please inter colum:  3\n",
      "please input vectors:  2\n",
      "please input vectors:  3\n",
      "please input vectors:  6\n",
      "please input vectors:  5\n",
      "please input vectors:  3\n",
      "please input vectors:  6\n",
      "please input vectors:  3\n",
      "please input vectors:  2\n",
      "please input vectors:  3\n"
     ]
    },
    {
     "name": "stdout",
     "output_type": "stream",
     "text": [
      "{'rows': 3, 'cols': 3, 'data': [[3, 3, 3], [3, 2, 3], [6, 9, 3]]}\n",
      "{'rows': 3, 'cols': 3, 'data': [[2, 3, 6], [5, 3, 6], [3, 2, 3]]}\n"
     ]
    }
   ],
   "source": [
    "#  get a rows and colums and vectors \n",
    "first_matrix = get_matrix()\n",
    "second_matrix = get_matrix()\n",
    "print(fiert_matrix)\n",
    "print(second_matrix)"
   ]
  },
  {
   "cell_type": "code",
   "execution_count": 161,
   "id": "146a52a0-ed23-4986-8da4-a01b7fc50bf7",
   "metadata": {
    "tags": []
   },
   "outputs": [],
   "source": [
    "#  check sumation possiblity\n",
    "if first_matrix[\"rows\"] != second_matrix[\"rows\"] and first_matrix[\"cols\"] != second_matrix[\"cols\"]:\n",
    "    raise Exception(\"your rows and colums have to be same \")"
   ]
  },
  {
   "cell_type": "code",
   "execution_count": 166,
   "id": "78833a78-1315-47c2-bf46-0ce8e00d5fc3",
   "metadata": {
    "tags": []
   },
   "outputs": [
    {
     "name": "stdout",
     "output_type": "stream",
     "text": [
      "{'rows': 3, 'cols': 3, 'data': [[13, 18, 33], [28, 17, 33], [21, 19, 18]]}\n"
     ]
    }
   ],
   "source": [
    "#  this function can sum 2 matrix\n",
    "\n",
    "result = {'rows': 0, 'cols': 0, 'data': first_matrix['data']}\n",
    "\n",
    "for i in range(len(first_matrix[\"data\"])):\n",
    "        \n",
    "    for j in range(len(second_matrix[\"data\"][0])):\n",
    "        \n",
    "        result[\"data\"][i][j] = first_matrix[\"data\"][i][j] + second_matrix[\"data\"][i][j]\n",
    "        \n",
    "\n",
    "r = {\"rows\":len(result[\"data\"]), \"cols\": len(result[\"data\"][0]), \"data\": result[\"data\"]}\n",
    "\n",
    "print(r)"
   ]
  },
  {
   "cell_type": "markdown",
   "id": "7bff9837",
   "metadata": {},
   "source": [
    "### 3. Matrices vermenigvuldigen***"
   ]
  },
  {
   "cell_type": "markdown",
   "id": "4dba734d",
   "metadata": {},
   "source": [
    "Vermenigvuldig de onderstaande matrices:\n",
    "\n",
    "$$\n",
    "  \\begin{pmatrix}\n",
    "    1 & 2 & 3\\\\\n",
    "    4 & 5 & 6\n",
    "  \\end{pmatrix}\n",
    "  *\n",
    "    \\begin{pmatrix}\n",
    "    9 & 8\\\\\n",
    "    6 & 5\\\\\n",
    "    3 & 2\\\\\n",
    "  \\end{pmatrix}\n",
    "  =\n",
    "  ...\n",
    "$$"
   ]
  },
  {
   "cell_type": "code",
   "execution_count": 172,
   "id": "9895aaab",
   "metadata": {},
   "outputs": [
    {
     "name": "stdout",
     "output_type": "stream",
     "text": [
      "{'rows': 3, 'cols': 3, 'data': [[30, 24], [84, 69]]}\n"
     ]
    }
   ],
   "source": [
    "# Implement both matrices:\n",
    "\n",
    "mat4 = {'rows': 2, 'cols': 3, 'data': [[1,2,3],[4,5,6],]}\n",
    "mat5 = {'rows': 3, 'cols': 2, 'data': [[9,8,],[6,5,],[3,2,]]}\n",
    "\n",
    "# Can we multiply them? Check if dimensions satisfy the (M by N) * (N by K) = (M by K) rule:\n",
    "\n",
    "if mat4[\"rows\"]!= mat5[\"cols\"]:\n",
    "    raise Exception(\"int's not correct\")\n",
    "\n",
    "# How do you multiply these matrices by hand?\n",
    "\n",
    "mat6 = [[30, 24], [84, 69]]\n",
    "\n",
    "# Now multiply the matrices in code:\n",
    "\n",
    "mat_result2 = {'rows': 3, 'cols': 3, 'data': mat6}\n",
    "print(mat_result2\n",
    "\n",
    "# In case you didn't: can you generalize this algorithm?\n",
    "\n",
    "# ..."
   ]
  },
  {
   "cell_type": "code",
   "execution_count": 141,
   "id": "0eb651d5-3f12-4b3d-84f7-1f6e297fd4a3",
   "metadata": {},
   "outputs": [
    {
     "name": "stdin",
     "output_type": "stream",
     "text": [
      "please inter row:  2\n",
      "please inter colum:  3\n",
      "please input vectors:  1\n",
      "please input vectors:  2\n",
      "please input vectors:  3\n",
      "please input vectors:  4\n",
      "please input vectors:  5\n",
      "please input vectors:  6\n",
      "please inter row:  3\n",
      "please inter colum:  2\n",
      "please input vectors:  9\n",
      "please input vectors:  8\n",
      "please input vectors:  6\n",
      "please input vectors:  5\n",
      "please input vectors:  3\n",
      "please input vectors:  2\n"
     ]
    }
   ],
   "source": [
    "#  get a rows and colums and vectors \n",
    "#  check multiply possibility\n",
    "\n",
    "m = get_matrix()\n",
    "n = get_matrix()\n",
    "\n",
    "if m[\"rows\"]!= n[\"cols\"]:\n",
    "    raise Exception(\"int's not correct\")"
   ]
  },
  {
   "cell_type": "code",
   "execution_count": 142,
   "id": "912a5d94-d1c7-4289-92c1-a2c77b261529",
   "metadata": {
    "tags": []
   },
   "outputs": [],
   "source": [
    "#  creating empty data for result matrix\n",
    "\n",
    "result = []\n",
    "for i in range(m[\"rows\"]):\n",
    "    row = [0] * n[\"cols\"]\n",
    "    \n",
    "    result.append(row)"
   ]
  },
  {
   "cell_type": "code",
   "execution_count": 143,
   "id": "c6f33f06-6e80-4de5-9835-fb391e633c8b",
   "metadata": {
    "tags": []
   },
   "outputs": [],
   "source": [
    "#  creat result matrix\n",
    "r = {'rows': m[\"rows\"], 'cols': n[\"cols\"], 'data': result}"
   ]
  },
  {
   "cell_type": "code",
   "execution_count": 144,
   "id": "52a7dbb0-7079-49ed-9f5c-b61850da9954",
   "metadata": {
    "tags": []
   },
   "outputs": [
    {
     "name": "stdout",
     "output_type": "stream",
     "text": [
      "{'rows': 2, 'cols': 2, 'data': [[30, 24], [84, 69]]}\n"
     ]
    }
   ],
   "source": [
    "#  this function make a multiplay 2 matrix\n",
    "for i in range(len(m[\"data\"])):\n",
    "    \n",
    "    for j in range(len(n[\"data\"][0])):\n",
    "        \n",
    "        for k in range(len(n[\"data\"])):\n",
    "            r[\"data\"][i][j]+= m[\"data\"][i][k]*n[\"data\"][k][j]\n",
    "print(r)\n",
    "        "
   ]
  }
 ],
 "metadata": {
  "kernelspec": {
   "display_name": "Python 3 (ipykernel)",
   "language": "python",
   "name": "python3"
  },
  "language_info": {
   "codemirror_mode": {
    "name": "ipython",
    "version": 3
   },
   "file_extension": ".py",
   "mimetype": "text/x-python",
   "name": "python",
   "nbconvert_exporter": "python",
   "pygments_lexer": "ipython3",
   "version": "3.10.9"
  }
 },
 "nbformat": 4,
 "nbformat_minor": 5
}
