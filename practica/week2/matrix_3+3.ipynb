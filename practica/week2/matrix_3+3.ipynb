{
 "cells": [
  {
   "cell_type": "code",
   "execution_count": 43,
   "id": "e5f55207-7787-4f2b-89f1-d7d34989de45",
   "metadata": {
    "tags": []
   },
   "outputs": [
    {
     "name": "stdout",
     "output_type": "stream",
     "text": [
      "[[1, 2, 4], [7, 5, 9], [8, 9, 9]]\n"
     ]
    }
   ],
   "source": [
    "list1 = [[0,0,1],\n",
    "         [3,0,3],\n",
    "         [1,1,0]]\n",
    "list2 = [[1,2,3],\n",
    "         [4,5,6],\n",
    "         [7,8,9]]\n",
    "\n",
    "list3 = [[1,1,1],\n",
    "         [0,0,0],\n",
    "         [0,0,0]] \n",
    "\n",
    "for i in range(len(list1)):\n",
    "        \n",
    "        for j in range(len(list1[0])):\n",
    "            list3[i][j] = list1[i][j] + list2[i][j]\n",
    "        \n",
    "# for r in list3:\n",
    "print(list3)\n",
    "                   \n",
    "        "
   ]
  },
  {
   "cell_type": "code",
   "execution_count": 44,
   "id": "07000c52-53f7-4918-8751-e3d195f82bdb",
   "metadata": {},
   "outputs": [
    {
     "name": "stdout",
     "output_type": "stream",
     "text": [
      "[[1, 2, 4], [7, 5, 9], [8, 9, 9]]\n"
     ]
    }
   ],
   "source": [
    "list1 = [[0,0,1],\n",
    "         [3,0,3],\n",
    "         [1,1,0]]\n",
    "list2 = [[1,2,3],\n",
    "         [4,5,6],\n",
    "         [7,8,9]]\n",
    "\n",
    "list3 = [[1,1,1],\n",
    "         [0,0,0],\n",
    "         [0,0,0]] \n",
    "\n",
    "for i in range(3):\n",
    "        \n",
    "    for j in range(3):\n",
    "            \n",
    "        list3[i][j] = list1[i][j] + list2[i][j]\n",
    "        \n",
    "print(list3)\n",
    "                "
   ]
  },
  {
   "cell_type": "code",
   "execution_count": null,
   "id": "553cb123-f6fa-4d25-9267-6157b4e5f92c",
   "metadata": {},
   "outputs": [],
   "source": [
    "# list1 = [[1,2,3],\n",
    "#          [4,5,6],\n",
    "#          [7,8,9]]\n",
    "\n",
    "# list2 = [[9,8,7],\n",
    "#          [6,5,4],\n",
    "#          [3,2,1]]\n",
    "\n",
    "# list3 = [[0,0,0],\n",
    "#          [0,0,0],\n",
    "#          [0,0,0]] \n",
    "\n",
    "# for i in range(len(list1)):\n",
    "        \n",
    "#     for j in range(len(list1[0])):\n",
    "#         list3[i][j] = list1[i][j] + list2[i][j]\n",
    "        \n",
    "# # for r in list3:\n",
    "# print(list3)\n",
    "# r = {\"rows\":len(list3), \"cols\": len(list3[0]), \"data\": list3}\n",
    "# print(r)"
   ]
  }
 ],
 "metadata": {
  "kernelspec": {
   "display_name": "Python 3 (ipykernel)",
   "language": "python",
   "name": "python3"
  },
  "language_info": {
   "codemirror_mode": {
    "name": "ipython",
    "version": 3
   },
   "file_extension": ".py",
   "mimetype": "text/x-python",
   "name": "python",
   "nbconvert_exporter": "python",
   "pygments_lexer": "ipython3",
   "version": "3.10.9"
  }
 },
 "nbformat": 4,
 "nbformat_minor": 5
}
