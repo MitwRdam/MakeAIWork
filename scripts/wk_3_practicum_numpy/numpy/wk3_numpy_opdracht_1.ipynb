{
 "cells": [
  {
   "cell_type": "markdown",
   "id": "b45dd50e-d75c-41d2-a549-110cc111e32b",
   "metadata": {},
   "source": [
    "<a href=\"https://it-omscholing.nl/locaties/hogeschool-rotterdam/\">\n",
    "<div>\n",
    "<a><img src='C:/MakeAIWork/notebooks/pics/banner.PNG'/></a>\n",
    "</div>\n",
    "<div>\n",
    "<a href=''><img src='C:/MakeAIWork/notebooks/pics/miw.PNG'/></a>\n",
    "<em>Author: Jeroen Boogaard</em>\n",
    "</div>\n",
    "</a>"
   ]
  },
  {
   "cell_type": "markdown",
   "id": "63f0720b-4a62-479d-873b-c5f6cad9a89d",
   "metadata": {},
   "source": [
    "<h1>Numpy</h1>"
   ]
  },
  {
   "cell_type": "markdown",
   "id": "3619d610-30b3-41a2-b5f0-ae37b9d5b105",
   "metadata": {},
   "source": [
    "**Imports**"
   ]
  },
  {
   "cell_type": "code",
   "execution_count": 1,
   "id": "42257a05-c794-4121-a9cf-fe53fa3a1dc1",
   "metadata": {},
   "outputs": [],
   "source": [
    "import numpy as np\n",
    "import pandas as pd\n",
    "from PIL import Image\n",
    "from scipy import ndimage"
   ]
  },
  {
   "cell_type": "markdown",
   "id": "8e48110a-ff83-4fba-aab9-7cb3678fe668",
   "metadata": {},
   "source": [
    "<h2>Opdracht 1</h2>"
   ]
  },
  {
   "cell_type": "markdown",
   "id": "47ac5b87-14b1-437e-91cb-93dadadef8f9",
   "metadata": {},
   "source": [
    "<h3>Gegeven</h3>"
   ]
  },
  {
   "cell_type": "markdown",
   "id": "8605ba6e-3f4e-4fe1-b76f-c784f2f44735",
   "metadata": {},
   "source": [
    "Planeet | Grootte to.v. de omvang van de Aarde\n",
    "---|---\n",
    "Jupiter | 1120%\n",
    "Saturnus | 945%\n",
    "Uranus | 400%\n",
    "Neptunus | 388%\n",
    "Aarde| 100%\n",
    "Venus | 95%\n",
    "Mars | 53%"
   ]
  },
  {
   "cell_type": "code",
   "execution_count": 2,
   "id": "2b471d98-c5b0-4db0-a1c6-155094548c23",
   "metadata": {},
   "outputs": [],
   "source": [
    "filename = \"csv/planets.csv\""
   ]
  },
  {
   "cell_type": "code",
   "execution_count": 3,
   "id": "e5fa129a-d9a8-4899-ba69-87537e1819f5",
   "metadata": {},
   "outputs": [
    {
     "name": "stdout",
     "output_type": "stream",
     "text": [
      " Volume in drive C is OS\n",
      " Volume Serial Number is BE76-42DF\n",
      "\n",
      " Directory of c:\\MakeAIWork\\scripts\\wk_3_practicum_numpy\\numpy\\pics\n",
      "\n",
      "21/09/2022  22:48    <DIR>          .\n",
      "21/09/2022  22:52    <DIR>          ..\n",
      "16/09/2022  13:07    <DIR>          .ipynb_checkpoints\n",
      "16/09/2022  10:28            29,680 earth.jpg\n",
      "16/09/2022  10:28            22,232 jupiter.jpg\n",
      "16/09/2022  10:28            27,847 mars.jpg\n",
      "16/09/2022  10:28            40,854 mercury.jpg\n",
      "16/09/2022  10:28            14,150 neptune.jpg\n",
      "18/09/2022  19:05            86,704 pluto.jpg\n",
      "16/09/2022  10:28            40,218 saturn.jpg\n",
      "16/09/2022  10:28             9,969 uranus.jpg\n",
      "21/09/2022  12:27            15,308 venus.jpg\n",
      "               9 File(s)        286,962 bytes\n",
      "               3 Dir(s)  258,314,379,264 bytes free\n"
     ]
    }
   ],
   "source": [
    "ls pics"
   ]
  },
  {
   "cell_type": "markdown",
   "id": "ad98fa30-0e0a-4ec4-9930-b63db74c11f2",
   "metadata": {},
   "source": [
    "<h3>Gevraagd</h3>\n",
    "<p>\n",
    "Schaal voor elke (erkende) planeet uit ons zonnestelsel de bijbehorende image t.o.v. van de aarde. Het geschaalde plaatje moet groter zijn dan het plaatje van de aarde als de bijbehorende planeet groter is dan de aarde. Is de planeet kleiner dan de aarde dan moet het nieuwe plaatje kleiner zijn. Gebruik voor de schaalfactor het percentage. \n",
    "Tip: Indien nodig kun je de images normaliseren door eerst het plaatje van de aarde te schalen\n",
    "</p>"
   ]
  },
  {
   "cell_type": "markdown",
   "id": "c0c854fb-54db-4baa-b149-2e7d0c1b6391",
   "metadata": {},
   "source": [
    "<h3>Oplossing</h3>\n",
    "<ol>\n",
    "    <li>\n",
    "        <strong>Open het bestand csv/planets.csv en voeg daar de kolom <i>image</i></strong>\n",
    "    </li>\n",
    "    <li>\n",
    "        <strong>Importeer het csv-bestand en sla de data op in een dictionary</strong>\n",
    "    </li>\n",
    "    <li>\n",
    "        <strong>Open een image uit van een item uit de dictionary</strong>\n",
    "    </li>\n",
    "    <li>\n",
    "        <strong>Schaal de image m.b.v. een <i>numpy array</i></strong>\n",
    "    </li>\n",
    "    <li>\n",
    "        <strong>Sla de geschaalde image op</strong>\n",
    "    </li>\n",
    "    <li>\n",
    "        <strong>Schrijf een functie voor het schalen van een image</strong>\n",
    "    </li>    \n",
    "    <li>\n",
    "        <strong>Maak een loop waarbij voor elke planeet een geschaalde image wordt gemaakt en opgelagen</strong>\n",
    "    </li>    \n",
    "</ol>    "
   ]
  },
  {
   "cell_type": "markdown",
   "id": "5d58da59",
   "metadata": {},
   "source": [
    "**Stap 1+ : Open het bestand csv/planets.csv en voeg daar de kolom 'Image' aan toe.**"
   ]
  },
  {
   "cell_type": "code",
   "execution_count": 4,
   "id": "caf1b5fc",
   "metadata": {},
   "outputs": [],
   "source": [
    "# Oplossing\n",
    "\n",
    "# De informatie kan domweg in de csv geplakt worden via de csv-preview, \n",
    "# maar het is ook mogelijk de paden van de afbeeldingen direct in het DataFrame te zetten. \n",
    "\n",
    "# Voeg de paden van de afbeeldingen en een nieuwe kolom header 'Image 'aan het Dataframe toe:\n",
    "\n",
    "pDF = pd.read_csv(filename, header = 0, sep = ',')\n",
    "\n",
    "# columns = [\n",
    "#            'Name', ' Diameter', ' Mass', ' Inclination', \n",
    "#            ' Eccentricity',' Semi_majorAxis', ' SurfaceGravity', \n",
    "#            ' OrbitalPeriod', ' SiderealRotation', ' Satellites'\n",
    "#           ]\n",
    "\n",
    "imagesPlanets = [\n",
    "                 \"pics/mercury.jpg\", \"pics/venus.jpg\", \"pics/earth.jpg\",\n",
    "                 \"pics/mars.jpg\", \"pics/jupiter.jpg\", \"pics/saturn.jpg\", \n",
    "                 \"pics/uranus.jpg\", \"pics/neptune.jpg\", \"pics/pluto.jpg\",\n",
    "                ] \n",
    "\n",
    "pDF[\"Image\"] = imagesPlanets\n",
    "\n",
    "# print(pDF)\n"
   ]
  },
  {
   "cell_type": "markdown",
   "id": "b2a7b7fb-56b3-43f7-a6b5-34adc057c3d1",
   "metadata": {},
   "source": [
    "**Stap 2: Importeer het csv-bestand en sla de data op in een dictionary**"
   ]
  },
  {
   "cell_type": "code",
   "execution_count": 5,
   "id": "cbcb0e9b-46f8-490d-9a85-eb29037a93cb",
   "metadata": {},
   "outputs": [],
   "source": [
    "pDF = pd.read_csv(filename, header = 0, sep = ',')\n",
    "# print(pDF)\n",
    "# type(pDF)\n",
    "# # print(pDF.columns)"
   ]
  },
  {
   "cell_type": "markdown",
   "id": "9d9d8c73-c8fa-41b0-848c-04741aa06bbf",
   "metadata": {},
   "source": [
    "**Stap 3: Open een image uit van een item uit de dictionary**"
   ]
  },
  {
   "cell_type": "code",
   "execution_count": 6,
   "id": "83d43bb9-694e-4390-a8a3-30f6535f6591",
   "metadata": {},
   "outputs": [],
   "source": [
    "img = Image.open('pics/jupiter.jpg')\n",
    "# type(img)\n",
    "# img.show()"
   ]
  },
  {
   "cell_type": "markdown",
   "id": "645b438b-324d-427c-9efd-d621e37445f7",
   "metadata": {
    "tags": []
   },
   "source": [
    "**Stap 4: Schaal de image m.b.v. een numpy array**"
   ]
  },
  {
   "cell_type": "code",
   "execution_count": 7,
   "id": "8894e6bd-6237-4cf6-8d95-222d6a3be56e",
   "metadata": {},
   "outputs": [],
   "source": [
    "array = np.array(img)\n",
    "type(array)\n",
    "scaleFactor = 3\n",
    "scaleArray = ndimage.zoom(array, (scaleFactor, scaleFactor, 1))\n",
    "imgScaled = Image.fromarray(scaleArray)\n",
    "# imgScaled.show()"
   ]
  },
  {
   "cell_type": "markdown",
   "id": "8611929d-d109-4f62-881f-b8a64db1e648",
   "metadata": {},
   "source": [
    "**Stap 5: Sla de geschaalde image op**"
   ]
  },
  {
   "cell_type": "code",
   "execution_count": 8,
   "id": "2e34fa25-3cc3-4e5f-b29a-7793e505db61",
   "metadata": {},
   "outputs": [],
   "source": [
    "imgScaled.save(img.filename.replace(\".jpg\",\"_scaled.jpg\"))"
   ]
  },
  {
   "cell_type": "markdown",
   "id": "f142ebe1-f561-447b-8e2e-e8855b20cd50",
   "metadata": {},
   "source": [
    "**Stap 6: Schrijf een functie voor het schalen van een image**"
   ]
  },
  {
   "cell_type": "code",
   "execution_count": 9,
   "id": "18a7f670",
   "metadata": {},
   "outputs": [],
   "source": [
    "pDF = pd.read_csv(filename, header = 0, sep = ',')\n",
    "\n",
    "def scaleImages():\n",
    "\n",
    "    scaleImage = Image.open('pics/jupiter.jpg')\n",
    "    array = np.array(scaleImage)\n",
    "            \n",
    "    scaleFactor = (49572.0 / 12756.3)   # = (diameterPlanet / diameterEarth)\n",
    "    scaleArray = ndimage.zoom(array, (scaleFactor, scaleFactor, 1))\n",
    "    imageNewScaled = Image.fromarray(scaleArray)\n",
    "    # imageNewScaled.show()\n",
    "    imageNewScaled.save(scaleImage.filename.replace(\".jpg\",\"_scaled.jpg\"))\n",
    " \n",
    "   \n",
    "    "
   ]
  },
  {
   "cell_type": "markdown",
   "id": "5a550077-c83c-4af2-96fa-7a32158d5198",
   "metadata": {},
   "source": [
    "**Stap 7: Maak een loop waarbij voor elke planeet een geschaalde image wordt gemaakt en opgelagen**"
   ]
  },
  {
   "cell_type": "code",
   "execution_count": 10,
   "id": "1f784d0f",
   "metadata": {},
   "outputs": [
    {
     "name": "stdout",
     "output_type": "stream",
     "text": [
      "      Name   Diameter          Mass   Inclination   Eccentricity  \\\n",
      "0  Mercury     4879.4   3.302×10^23      7.004000       0.205636   \n",
      "1    Venus    12103.6   4.869×10^24      3.394710       0.006777   \n",
      "2    Earth    12756.3   5.974×10^24      0.000050       0.016711   \n",
      "3     Mars     6794.4   6.419×10^23      1.850610       0.093394   \n",
      "4  Jupiter   142984.0   1.899×10^27      1.305300       0.048386   \n",
      "5   Saturn   120536.0   5.688×10^26      2.484460       0.053862   \n",
      "6   Uranus    51118.0   8.683×10^25      0.774000       0.047257   \n",
      "7  Neptune    49572.0   1.024×10^26      1.769170       0.008590   \n",
      "8    Pluto     2370.0     1.3×10^22     17.089001       0.250249   \n",
      "\n",
      "    Semi_majorAxis   SurfaceGravity   OrbitalPeriod   SiderealRotation  \\\n",
      "0         0.387099             3.70        0.241000          58.650000   \n",
      "1         0.723336             8.87        0.615000         243.018700   \n",
      "2         1.000003             9.78        1.000000           0.997271   \n",
      "3         1.523710             3.71        1.881000           1.025950   \n",
      "4         5.202887            24.79       11.860000           0.413500   \n",
      "5         9.536676             8.96       29.460000           0.426400   \n",
      "6        19.189165             7.77       84.010000           0.718100   \n",
      "7        30.069923            11.00      164.790000           0.671200   \n",
      "8        39.445070             0.62      247.740662           6.387230   \n",
      "\n",
      "    Satellites  ScaleToEarth  \n",
      "0            0          0.38  \n",
      "1            0          0.95  \n",
      "2            1          1.00  \n",
      "3            2          0.53  \n",
      "4           63         11.20  \n",
      "5           64          9.45  \n",
      "6           27          4.00  \n",
      "7           14          3.88  \n",
      "8            5          0.19  \n"
     ]
    }
   ],
   "source": [
    "# Oplossing  \n",
    "\n",
    "def batchScaleImages():\n",
    "    \n",
    "    earthDiameter = 1\n",
    "\n",
    "    openedImages = []\n",
    "    scaledToEarth = [] \n",
    "    scaledImages = []\n",
    "    \n",
    "    # 1. Voeg een kolom aan het Dataframe toe met schaalfactor voor de planeten om te kunnen schalen:\n",
    "\n",
    "    # trueSize = [] # ScaleFactor = (diameterPlanet / diameterEarth)\n",
    "\n",
    "    # for i in range(len(pDF)):\n",
    "    #     trueSizePlanets = pDF[' Diameter'][i]/pDF[' Diameter'][2]\n",
    "    #     trueSize.append(trueSizePlanets)\n",
    "\n",
    "    # pDF[\"ScaleFactor\"] = trueSize\n",
    "\n",
    "    # 2. Of, korter, voeg berekende afgeleiden van de percentages als lijst toe:\n",
    "\n",
    "    scaleToEarth = [0.38, 0.95, 1, 0.53, 11.20, 9.45, 4, 3.88, 0.19] \n",
    "\n",
    "    pDF[\"ScaleToEarth\"] = scaleToEarth  \n",
    "    \n",
    "        \n",
    "    for imagePlanet in imagesPlanets:\n",
    "        img = Image.open(imagePlanet)\n",
    "        openedImages.append(img)      \n",
    "    \n",
    "    for planetDiameter in scaleToEarth:\n",
    "        scaleFactor = planetDiameter / earthDiameter\n",
    "        scaledToEarth.append(scaleFactor)  \n",
    "        \n",
    "    for planetScaled, openedImage in zip(scaledToEarth, openedImages):\n",
    "        array = np.array(openedImage)\n",
    "        scaleFactor = planetScaled\n",
    "        scaleArray = ndimage.zoom(array, (scaleFactor, scaleFactor, 1))\n",
    "        imageNewScaled = Image.fromarray(scaleArray)\n",
    "        scaledImages.append(imageNewScaled)\n",
    "        \n",
    "        imageNewScaled.show() \n",
    "        \n",
    "    for scaledImage, openedImage in zip (scaledImages, openedImages):\n",
    "        scaledImage.save(openedImage.filename.replace(\".jpg\",\"_scaled.jpg\"))\n",
    "    \n",
    "              \n",
    "batchScaleImages()\n",
    "\n",
    "print(pDF)\n",
    "\n"
   ]
  },
  {
   "cell_type": "markdown",
   "id": "a668a8e8-4d7e-4c6d-adbc-61935887fabe",
   "metadata": {},
   "source": [
    "**Bonus: Voeg Mercurius aan de tabel toe en schaal ook daarvan het plaatje**"
   ]
  },
  {
   "cell_type": "markdown",
   "id": "78212296",
   "metadata": {},
   "source": [
    "**✓**"
   ]
  },
  {
   "cell_type": "markdown",
   "id": "11d181d1-c906-4ad1-9d8f-69836a4e8cc7",
   "metadata": {},
   "source": [
    "</ol>"
   ]
  },
  {
   "cell_type": "markdown",
   "id": "03ac855f-3986-4b4a-823c-10c6d8b33024",
   "metadata": {},
   "source": [
    "</ol>"
   ]
  }
 ],
 "metadata": {
  "kernelspec": {
   "display_name": "Python 3.10.7 64-bit",
   "language": "python",
   "name": "python3"
  },
  "language_info": {
   "codemirror_mode": {
    "name": "ipython",
    "version": 3
   },
   "file_extension": ".py",
   "mimetype": "text/x-python",
   "name": "python",
   "nbconvert_exporter": "python",
   "pygments_lexer": "ipython3",
   "version": "3.10.7"
  },
  "vscode": {
   "interpreter": {
    "hash": "5b93afe9c2e217d44e354b055ed180e932b72842f9b6422dadc1ad80da9caf67"
   }
  }
 },
 "nbformat": 4,
 "nbformat_minor": 5
}
